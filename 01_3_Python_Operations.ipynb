{
  "nbformat": 4,
  "nbformat_minor": 0,
  "metadata": {
    "colab": {
      "provenance": [],
      "toc_visible": true
    },
    "kernelspec": {
      "name": "python3",
      "display_name": "Python 3"
    },
    "language_info": {
      "name": "python"
    }
  },
  "cells": [
    {
      "cell_type": "markdown",
      "source": [
        "*Prepared by*\n",
        "\n",
        "*Asif Newaz*\n",
        "\n",
        "*Lecturer, EEE, IUT*"
      ],
      "metadata": {
        "id": "AWUc1_Ywo5lj"
      }
    },
    {
      "cell_type": "markdown",
      "source": [
        "This notebook contains detail instructions on the following Python operations -\n",
        "\n",
        "\n",
        "1.   Zip\n",
        "2.   Lambda function\n",
        "3.   Map\n",
        "4.   List comprehension\n",
        "\n"
      ],
      "metadata": {
        "id": "EzkW6Ijc1iDn"
      }
    },
    {
      "cell_type": "markdown",
      "source": [
        "# Zip"
      ],
      "metadata": {
        "id": "ytU0CgrxpBCi"
      }
    },
    {
      "cell_type": "markdown",
      "source": [
        "zip( ) is a function that can be used to combine multiple lists (or tuples) element by element.\n",
        "\n",
        "The resultant is a zip object that is iterable and made of tuples."
      ],
      "metadata": {
        "id": "65vSzsvGpG49"
      }
    },
    {
      "cell_type": "code",
      "execution_count": 1,
      "metadata": {
        "id": "Yw9l8gYJoxaq"
      },
      "outputs": [],
      "source": [
        "# lets assume you have two lists\n",
        "cgpa= [3.7, 3.9, 3.1]\n",
        "student= ['magneto', 'xavier', 'logan']"
      ]
    },
    {
      "cell_type": "code",
      "source": [
        "out= zip(cgpa, student)\n",
        "out\n",
        "# the output is a zip object"
      ],
      "metadata": {
        "colab": {
          "base_uri": "https://localhost:8080/"
        },
        "id": "OYs6iZkip47a",
        "outputId": "38545e96-3bef-4276-8cc6-fcae29ded548"
      },
      "execution_count": 2,
      "outputs": [
        {
          "output_type": "execute_result",
          "data": {
            "text/plain": [
              "<zip at 0x7bb0abeca180>"
            ]
          },
          "metadata": {},
          "execution_count": 2
        }
      ]
    },
    {
      "cell_type": "code",
      "source": [
        "print(out)\n",
        "# you cannot view the items of a zip object this way"
      ],
      "metadata": {
        "colab": {
          "base_uri": "https://localhost:8080/"
        },
        "id": "hzEdhxiZqC-a",
        "outputId": "acd3df3d-ad88-42d6-a29b-a34f8b8b4f6e"
      },
      "execution_count": 3,
      "outputs": [
        {
          "output_type": "stream",
          "name": "stdout",
          "text": [
            "<zip object at 0x7bb0abeca180>\n"
          ]
        }
      ]
    },
    {
      "cell_type": "code",
      "source": [
        "list(out)\n",
        "# as you can see, the output contains tuples. Each tuple contains elements from the two input lists (serially)."
      ],
      "metadata": {
        "colab": {
          "base_uri": "https://localhost:8080/"
        },
        "id": "2jCPs5SkqSKh",
        "outputId": "863a9f06-782e-4e46-dda6-788b39ed1b6c"
      },
      "execution_count": 4,
      "outputs": [
        {
          "output_type": "execute_result",
          "data": {
            "text/plain": [
              "[(3.7, 'magneto'), (3.9, 'xavier'), (3.1, 'logan')]"
            ]
          },
          "metadata": {},
          "execution_count": 4
        }
      ]
    },
    {
      "cell_type": "markdown",
      "source": [
        "## Zipping multiple lists"
      ],
      "metadata": {
        "id": "8Db8PywNsdm8"
      }
    },
    {
      "cell_type": "markdown",
      "source": [
        "You can also zip more than two lists."
      ],
      "metadata": {
        "id": "j6-owJJEqnfK"
      }
    },
    {
      "cell_type": "code",
      "source": [
        "ID= [ 101, 102, 103]\n",
        "\n",
        "out2= zip(ID, student, cgpa)\n",
        "list(out2)"
      ],
      "metadata": {
        "colab": {
          "base_uri": "https://localhost:8080/"
        },
        "id": "SDX3BpW4qqpN",
        "outputId": "989b9541-6df0-4351-baa6-325993d93a96"
      },
      "execution_count": 17,
      "outputs": [
        {
          "output_type": "execute_result",
          "data": {
            "text/plain": [
              "[(101, 'magneto', 3.7), (102, 'xavier', 3.9), (103, 'logan', 3.1)]"
            ]
          },
          "metadata": {},
          "execution_count": 17
        }
      ]
    },
    {
      "cell_type": "markdown",
      "source": [
        "## Unzipping"
      ],
      "metadata": {
        "id": "-1YSQZl5rB2Y"
      }
    },
    {
      "cell_type": "markdown",
      "source": [
        "If you have a zipped object such as out, you can unzip it into its constituents using * operator."
      ],
      "metadata": {
        "id": "31EJDGO5rESP"
      }
    },
    {
      "cell_type": "code",
      "source": [
        "out2= zip(ID, student, cgpa)\n",
        "x1, x2, x3 = zip(*list(out2))\n",
        "print(x1)\n",
        "print(x2)\n",
        "print(x3)"
      ],
      "metadata": {
        "colab": {
          "base_uri": "https://localhost:8080/"
        },
        "id": "WgIuliblrZh4",
        "outputId": "5ed45bd8-4e4f-42fb-ebf4-a95bc1cc39c5"
      },
      "execution_count": 18,
      "outputs": [
        {
          "output_type": "stream",
          "name": "stdout",
          "text": [
            "(101, 102, 103)\n",
            "('magneto', 'xavier', 'logan')\n",
            "(3.7, 3.9, 3.1)\n"
          ]
        }
      ]
    },
    {
      "cell_type": "code",
      "source": [
        "out2= zip(ID, student, cgpa)\n",
        "x1, x2 = zip(*list(out2))\n",
        "print(x1)\n",
        "print(x2)"
      ],
      "metadata": {
        "colab": {
          "base_uri": "https://localhost:8080/",
          "height": 193
        },
        "id": "UyoWffQgsnXN",
        "outputId": "5edc343d-dc8d-4f7a-f8e5-7d084132a04a"
      },
      "execution_count": 19,
      "outputs": [
        {
          "output_type": "error",
          "ename": "ValueError",
          "evalue": "too many values to unpack (expected 2)",
          "traceback": [
            "\u001b[0;31m---------------------------------------------------------------------------\u001b[0m",
            "\u001b[0;31mValueError\u001b[0m                                Traceback (most recent call last)",
            "\u001b[0;32m<ipython-input-19-8ce1ee2a1c01>\u001b[0m in \u001b[0;36m<cell line: 2>\u001b[0;34m()\u001b[0m\n\u001b[1;32m      1\u001b[0m \u001b[0mout2\u001b[0m\u001b[0;34m=\u001b[0m \u001b[0mzip\u001b[0m\u001b[0;34m(\u001b[0m\u001b[0mID\u001b[0m\u001b[0;34m,\u001b[0m \u001b[0mstudent\u001b[0m\u001b[0;34m,\u001b[0m \u001b[0mcgpa\u001b[0m\u001b[0;34m)\u001b[0m\u001b[0;34m\u001b[0m\u001b[0;34m\u001b[0m\u001b[0m\n\u001b[0;32m----> 2\u001b[0;31m \u001b[0mx1\u001b[0m\u001b[0;34m,\u001b[0m \u001b[0mx2\u001b[0m \u001b[0;34m=\u001b[0m \u001b[0mzip\u001b[0m\u001b[0;34m(\u001b[0m\u001b[0;34m*\u001b[0m\u001b[0mlist\u001b[0m\u001b[0;34m(\u001b[0m\u001b[0mout2\u001b[0m\u001b[0;34m)\u001b[0m\u001b[0;34m)\u001b[0m\u001b[0;34m\u001b[0m\u001b[0;34m\u001b[0m\u001b[0m\n\u001b[0m\u001b[1;32m      3\u001b[0m \u001b[0mprint\u001b[0m\u001b[0;34m(\u001b[0m\u001b[0mx1\u001b[0m\u001b[0;34m)\u001b[0m\u001b[0;34m\u001b[0m\u001b[0;34m\u001b[0m\u001b[0m\n\u001b[1;32m      4\u001b[0m \u001b[0mprint\u001b[0m\u001b[0;34m(\u001b[0m\u001b[0mx2\u001b[0m\u001b[0;34m)\u001b[0m\u001b[0;34m\u001b[0m\u001b[0;34m\u001b[0m\u001b[0m\n",
            "\u001b[0;31mValueError\u001b[0m: too many values to unpack (expected 2)"
          ]
        }
      ]
    },
    {
      "cell_type": "markdown",
      "source": [
        "The error occurs when you have mismatch in the number of variables. Your zip object has 3 elements in each tuple. So, u need to define 3 variables to unpack it."
      ],
      "metadata": {
        "id": "uA-zfWyIsqio"
      }
    },
    {
      "cell_type": "code",
      "source": [
        "out= zip(ID, student)\n",
        "x1, x2 = zip(*list(out))\n",
        "print(x1)\n",
        "print(x2)"
      ],
      "metadata": {
        "colab": {
          "base_uri": "https://localhost:8080/"
        },
        "id": "3sFdmXWss96O",
        "outputId": "0d00383a-9fed-4fa5-fdfa-d15c081d8b5f"
      },
      "execution_count": 20,
      "outputs": [
        {
          "output_type": "stream",
          "name": "stdout",
          "text": [
            "(101, 102, 103)\n",
            "('magneto', 'xavier', 'logan')\n"
          ]
        }
      ]
    },
    {
      "cell_type": "markdown",
      "source": [
        "## The vanishing problem"
      ],
      "metadata": {
        "id": "MOWImPVzs7WZ"
      }
    },
    {
      "cell_type": "markdown",
      "source": [
        "You may have noticed that sometimes your zip object is no longer available/cannot use it, even after you have defined it to a variable."
      ],
      "metadata": {
        "id": "UKGdlDmatJ1j"
      }
    },
    {
      "cell_type": "code",
      "source": [
        "out= zip(ID, student)\n",
        "print(list(out))"
      ],
      "metadata": {
        "colab": {
          "base_uri": "https://localhost:8080/"
        },
        "id": "mXGLnTrxtW4g",
        "outputId": "ae140ee6-fe94-4337-e08c-0379cac53284"
      },
      "execution_count": 21,
      "outputs": [
        {
          "output_type": "stream",
          "name": "stdout",
          "text": [
            "[(101, 'magneto'), (102, 'xavier'), (103, 'logan')]\n"
          ]
        }
      ]
    },
    {
      "cell_type": "code",
      "source": [
        "x1, x2 = zip(*list(out))"
      ],
      "metadata": {
        "colab": {
          "base_uri": "https://localhost:8080/",
          "height": 141
        },
        "id": "C2Z9_HZItawr",
        "outputId": "3ba3d58e-a794-4fc8-b884-212faa90d255"
      },
      "execution_count": 22,
      "outputs": [
        {
          "output_type": "error",
          "ename": "ValueError",
          "evalue": "not enough values to unpack (expected 2, got 0)",
          "traceback": [
            "\u001b[0;31m---------------------------------------------------------------------------\u001b[0m",
            "\u001b[0;31mValueError\u001b[0m                                Traceback (most recent call last)",
            "\u001b[0;32m<ipython-input-22-498c10a9b623>\u001b[0m in \u001b[0;36m<cell line: 1>\u001b[0;34m()\u001b[0m\n\u001b[0;32m----> 1\u001b[0;31m \u001b[0mx1\u001b[0m\u001b[0;34m,\u001b[0m \u001b[0mx2\u001b[0m \u001b[0;34m=\u001b[0m \u001b[0mzip\u001b[0m\u001b[0;34m(\u001b[0m\u001b[0;34m*\u001b[0m\u001b[0mlist\u001b[0m\u001b[0;34m(\u001b[0m\u001b[0mout\u001b[0m\u001b[0;34m)\u001b[0m\u001b[0;34m)\u001b[0m\u001b[0;34m\u001b[0m\u001b[0;34m\u001b[0m\u001b[0m\n\u001b[0m",
            "\u001b[0;31mValueError\u001b[0m: not enough values to unpack (expected 2, got 0)"
          ]
        }
      ]
    },
    {
      "cell_type": "markdown",
      "source": [
        "This happens because the zip object is an 'iterator'. Iterators can only be traversed once. So, once all items have been iterated through, it is exhausted. Iterators dont store the items in memory."
      ],
      "metadata": {
        "id": "46qjpGBgtdzx"
      }
    },
    {
      "cell_type": "markdown",
      "source": [
        "Its like in the for loop.\n",
        "\n",
        "*for ii in [1, 2, 3]:*\n",
        "\n",
        "  *print(i)*\n"
      ],
      "metadata": {
        "id": "HHhFbgDgvlA2"
      }
    },
    {
      "cell_type": "markdown",
      "source": [
        "Here, ii is your iterator. In the 1st iteration, it holds the value 1 and executes the statement. In the next iteration, it holds the value 2 and then finally 3. Once it is looped through, ii does not hold any other value.\n",
        "\n",
        "Similar situation happens in the zip object. After it has been created, once you use it, it becomes empty.\n",
        "\n",
        "In the above code, you have used the statement - *list(out)*, after creating it. This statement makes you access the elements of the zip object once and after which it cannot be reused."
      ],
      "metadata": {
        "id": "RNyo5IQEvs0R"
      }
    },
    {
      "cell_type": "code",
      "source": [
        "list1 = [1, 2, 3]\n",
        "list2 = ['a', 'b', 'c']\n",
        "\n",
        "# Create a zip object\n",
        "zipped = zip(list1, list2)\n",
        "\n",
        "# Convert the zip object into a list\n",
        "print(list(zipped))  # [(1, 'a'), (2, 'b'), (3, 'c')]\n",
        "\n",
        "# Trying to convert or access it again will return an empty list\n",
        "print(list(zipped))  # []"
      ],
      "metadata": {
        "colab": {
          "base_uri": "https://localhost:8080/"
        },
        "id": "MoQ5xZ-5vLCC",
        "outputId": "fa231d54-cd85-417d-a6a5-b2d568f673ab"
      },
      "execution_count": 23,
      "outputs": [
        {
          "output_type": "stream",
          "name": "stdout",
          "text": [
            "[(1, 'a'), (2, 'b'), (3, 'c')]\n",
            "[]\n"
          ]
        }
      ]
    },
    {
      "cell_type": "markdown",
      "source": [
        "### How to avoid?"
      ],
      "metadata": {
        "id": "MQbN_y65v2H4"
      }
    },
    {
      "cell_type": "markdown",
      "source": [
        "Store the zip object as a list."
      ],
      "metadata": {
        "id": "0b3pHqwbv4QG"
      }
    },
    {
      "cell_type": "code",
      "source": [
        "list1 = [1, 2, 3]\n",
        "list2 = ['a', 'b', 'c']\n",
        "\n",
        "z = zip(list1, list2)\n",
        "\n",
        "zl= list(z)\n",
        "zl"
      ],
      "metadata": {
        "colab": {
          "base_uri": "https://localhost:8080/"
        },
        "id": "7pY6VKksv627",
        "outputId": "ab2e5184-35f3-42b8-d62f-34c4b749b879"
      },
      "execution_count": 24,
      "outputs": [
        {
          "output_type": "execute_result",
          "data": {
            "text/plain": [
              "[(1, 'a'), (2, 'b'), (3, 'c')]"
            ]
          },
          "metadata": {},
          "execution_count": 24
        }
      ]
    },
    {
      "cell_type": "code",
      "source": [
        "list(z)"
      ],
      "metadata": {
        "colab": {
          "base_uri": "https://localhost:8080/"
        },
        "id": "5j1Ix1MVwDPw",
        "outputId": "4533365c-1c02-4c84-d958-e2f61820020d"
      },
      "execution_count": 26,
      "outputs": [
        {
          "output_type": "execute_result",
          "data": {
            "text/plain": [
              "[]"
            ]
          },
          "metadata": {},
          "execution_count": 26
        }
      ]
    },
    {
      "cell_type": "code",
      "source": [
        "zl"
      ],
      "metadata": {
        "colab": {
          "base_uri": "https://localhost:8080/"
        },
        "id": "p25i7IgBwH2B",
        "outputId": "772c54de-3327-4080-a2e6-9e22f7a89a26"
      },
      "execution_count": 27,
      "outputs": [
        {
          "output_type": "execute_result",
          "data": {
            "text/plain": [
              "[(1, 'a'), (2, 'b'), (3, 'c')]"
            ]
          },
          "metadata": {},
          "execution_count": 27
        }
      ]
    },
    {
      "cell_type": "markdown",
      "source": [
        "# Lambda Functions"
      ],
      "metadata": {
        "id": "pCnXS8QKwg5r"
      }
    },
    {
      "cell_type": "markdown",
      "source": [
        "Just like function handler's or symbolic functions in MATLAB, you can also create anonymous functions in Python. This is simple functions for small operations."
      ],
      "metadata": {
        "id": "nm5_-wwIwku1"
      }
    },
    {
      "cell_type": "markdown",
      "source": [
        "## example - 01"
      ],
      "metadata": {
        "id": "pyXZh3ynzq0s"
      }
    },
    {
      "cell_type": "code",
      "source": [
        "add_100 = lambda x: x + 100\n",
        "# this is your lambda function definition.\n",
        "# LFS - function name\n",
        "# x is the variable"
      ],
      "metadata": {
        "id": "c110-iV1xd8Z"
      },
      "execution_count": 28,
      "outputs": []
    },
    {
      "cell_type": "code",
      "source": [
        "add_100(9)"
      ],
      "metadata": {
        "colab": {
          "base_uri": "https://localhost:8080/"
        },
        "id": "U_sZT1-xyc3E",
        "outputId": "471dc4fe-51dc-4d11-8103-f53de4e5d9f1"
      },
      "execution_count": 29,
      "outputs": [
        {
          "output_type": "execute_result",
          "data": {
            "text/plain": [
              "109"
            ]
          },
          "metadata": {},
          "execution_count": 29
        }
      ]
    },
    {
      "cell_type": "code",
      "source": [
        "add_100([8,19, 25])\n",
        "# does not support element-wise opeations"
      ],
      "metadata": {
        "colab": {
          "base_uri": "https://localhost:8080/",
          "height": 193
        },
        "id": "wcWWvREMyfpj",
        "outputId": "47fc5603-55be-458b-cf78-ada9bb7b7bed"
      },
      "execution_count": 30,
      "outputs": [
        {
          "output_type": "error",
          "ename": "TypeError",
          "evalue": "can only concatenate list (not \"int\") to list",
          "traceback": [
            "\u001b[0;31m---------------------------------------------------------------------------\u001b[0m",
            "\u001b[0;31mTypeError\u001b[0m                                 Traceback (most recent call last)",
            "\u001b[0;32m<ipython-input-30-b5777c2492e4>\u001b[0m in \u001b[0;36m<cell line: 1>\u001b[0;34m()\u001b[0m\n\u001b[0;32m----> 1\u001b[0;31m \u001b[0madd_100\u001b[0m\u001b[0;34m(\u001b[0m\u001b[0;34m[\u001b[0m\u001b[0;36m8\u001b[0m\u001b[0;34m,\u001b[0m\u001b[0;36m19\u001b[0m\u001b[0;34m,\u001b[0m \u001b[0;36m25\u001b[0m\u001b[0;34m]\u001b[0m\u001b[0;34m)\u001b[0m\u001b[0;34m\u001b[0m\u001b[0;34m\u001b[0m\u001b[0m\n\u001b[0m",
            "\u001b[0;32m<ipython-input-28-d642a0bf7add>\u001b[0m in \u001b[0;36m<lambda>\u001b[0;34m(x)\u001b[0m\n\u001b[0;32m----> 1\u001b[0;31m \u001b[0madd_100\u001b[0m \u001b[0;34m=\u001b[0m \u001b[0;32mlambda\u001b[0m \u001b[0mx\u001b[0m\u001b[0;34m:\u001b[0m \u001b[0mx\u001b[0m \u001b[0;34m+\u001b[0m \u001b[0;36m100\u001b[0m\u001b[0;34m\u001b[0m\u001b[0;34m\u001b[0m\u001b[0m\n\u001b[0m",
            "\u001b[0;31mTypeError\u001b[0m: can only concatenate list (not \"int\") to list"
          ]
        }
      ]
    },
    {
      "cell_type": "markdown",
      "source": [
        "## example - 02"
      ],
      "metadata": {
        "id": "FdF3_ZaGztr8"
      }
    },
    {
      "cell_type": "code",
      "source": [
        "extract_first= lambda x:x[0]\n",
        "# This function will extract 1st item of the input list"
      ],
      "metadata": {
        "id": "6Ab_kIc_zLgP"
      },
      "execution_count": 31,
      "outputs": []
    },
    {
      "cell_type": "code",
      "source": [
        "a=[('a',3),('c',6),('b',0),('g',-5)]\n",
        "extract_first(a)"
      ],
      "metadata": {
        "colab": {
          "base_uri": "https://localhost:8080/"
        },
        "id": "9HAAI53dzUSs",
        "outputId": "0c694f55-be50-4024-a269-4a72cedd40a0"
      },
      "execution_count": 33,
      "outputs": [
        {
          "output_type": "execute_result",
          "data": {
            "text/plain": [
              "('a', 3)"
            ]
          },
          "metadata": {},
          "execution_count": 33
        }
      ]
    },
    {
      "cell_type": "code",
      "source": [
        "for ii in a:\n",
        "    print(extract_first(ii))"
      ],
      "metadata": {
        "colab": {
          "base_uri": "https://localhost:8080/"
        },
        "id": "f-9gIjG9zz-G",
        "outputId": "8892f79d-b50d-4091-b08f-feaaa3b70541"
      },
      "execution_count": 34,
      "outputs": [
        {
          "output_type": "stream",
          "name": "stdout",
          "text": [
            "a\n",
            "c\n",
            "b\n",
            "g\n"
          ]
        }
      ]
    },
    {
      "cell_type": "markdown",
      "source": [
        "## example - 03"
      ],
      "metadata": {
        "id": "32Ut8xSc0FU3"
      }
    },
    {
      "cell_type": "markdown",
      "source": [
        "There are special use cases of lambda functions."
      ],
      "metadata": {
        "id": "Pskao8eG0Ahe"
      }
    },
    {
      "cell_type": "code",
      "source": [
        "a"
      ],
      "metadata": {
        "colab": {
          "base_uri": "https://localhost:8080/"
        },
        "id": "ouTWoYvF0I5i",
        "outputId": "815d8120-1bdc-4e01-e35c-3f39acc103ff"
      },
      "execution_count": 35,
      "outputs": [
        {
          "output_type": "execute_result",
          "data": {
            "text/plain": [
              "[('a', 3), ('c', 6), ('b', 0), ('g', -5)]"
            ]
          },
          "metadata": {},
          "execution_count": 35
        }
      ]
    },
    {
      "cell_type": "code",
      "source": [
        "sorted(a)\n",
        "# sorts the array based on 1st element"
      ],
      "metadata": {
        "colab": {
          "base_uri": "https://localhost:8080/"
        },
        "id": "E-cWGCQv0LCc",
        "outputId": "cf8f6e5c-7ff2-43d1-a627-6757dd417b8e"
      },
      "execution_count": 36,
      "outputs": [
        {
          "output_type": "execute_result",
          "data": {
            "text/plain": [
              "[('a', 3), ('b', 0), ('c', 6), ('g', -5)]"
            ]
          },
          "metadata": {},
          "execution_count": 36
        }
      ]
    },
    {
      "cell_type": "code",
      "source": [
        "sorted(a, reverse = True)"
      ],
      "metadata": {
        "colab": {
          "base_uri": "https://localhost:8080/"
        },
        "id": "SjqMH81T0d2q",
        "outputId": "3196e10d-99f6-4b7a-b4ad-319e5a0c5d82"
      },
      "execution_count": 37,
      "outputs": [
        {
          "output_type": "execute_result",
          "data": {
            "text/plain": [
              "[('g', -5), ('c', 6), ('b', 0), ('a', 3)]"
            ]
          },
          "metadata": {},
          "execution_count": 37
        }
      ]
    },
    {
      "cell_type": "markdown",
      "source": [
        "what if I want to sort the list based on 2nd item?"
      ],
      "metadata": {
        "id": "aMG1ePtP0l0m"
      }
    },
    {
      "cell_type": "code",
      "source": [
        "sorted(a, key= lambda x:x[1])"
      ],
      "metadata": {
        "colab": {
          "base_uri": "https://localhost:8080/"
        },
        "id": "Or2Y15Hk0qex",
        "outputId": "68d5e7e8-c0f6-4aa2-ec69-51681f5e82d6"
      },
      "execution_count": 38,
      "outputs": [
        {
          "output_type": "execute_result",
          "data": {
            "text/plain": [
              "[('g', -5), ('b', 0), ('a', 3), ('c', 6)]"
            ]
          },
          "metadata": {},
          "execution_count": 38
        }
      ]
    },
    {
      "cell_type": "code",
      "source": [
        "sorted(a, key= lambda x:x[1], reverse = True)"
      ],
      "metadata": {
        "colab": {
          "base_uri": "https://localhost:8080/"
        },
        "id": "2gitQELX0v4W",
        "outputId": "8ba3d1b1-3eca-4ea9-a27a-1520869a92d8"
      },
      "execution_count": 39,
      "outputs": [
        {
          "output_type": "execute_result",
          "data": {
            "text/plain": [
              "[('c', 6), ('a', 3), ('b', 0), ('g', -5)]"
            ]
          },
          "metadata": {},
          "execution_count": 39
        }
      ]
    },
    {
      "cell_type": "markdown",
      "source": [
        "# Map"
      ],
      "metadata": {
        "id": "GkfCwb8912DB"
      }
    },
    {
      "cell_type": "markdown",
      "source": [
        "For further details, you may view the files in this repository - https://github.com/newaz-aa/Learn-Python-Basics/tree/main/Operations"
      ],
      "metadata": {
        "id": "zBfRJSXu1Vxi"
      }
    }
  ]
}