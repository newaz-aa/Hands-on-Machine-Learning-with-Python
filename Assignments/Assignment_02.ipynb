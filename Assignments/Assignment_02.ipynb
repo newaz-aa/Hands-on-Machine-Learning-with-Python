{
  "nbformat": 4,
  "nbformat_minor": 0,
  "metadata": {
    "colab": {
      "provenance": [],
      "toc_visible": true
    },
    "kernelspec": {
      "name": "python3",
      "display_name": "Python 3"
    },
    "language_info": {
      "name": "python"
    }
  },
  "cells": [
    {
      "cell_type": "markdown",
      "source": [
        "*Prepared by*\n",
        "\n",
        "*Asif Newaz*\n",
        "\n",
        "*Lecturer, EEE, IUT*"
      ],
      "metadata": {
        "id": "otNmzCJp5Myx"
      }
    },
    {
      "cell_type": "code",
      "source": [
        "import numpy as np\n",
        "import pandas as pd"
      ],
      "metadata": {
        "id": "lx0UeznjEao5"
      },
      "execution_count": null,
      "outputs": []
    },
    {
      "cell_type": "markdown",
      "source": [
        "# Question - 01"
      ],
      "metadata": {
        "id": "gMCozZbrGE_5"
      }
    },
    {
      "cell_type": "markdown",
      "source": [
        "A numpy array is given. Find the maximum value of -\n",
        "\n",
        "*   the whole matrix\n",
        "*   column-wise\n",
        "*   row-wise\n",
        "\n",
        "\n"
      ],
      "metadata": {
        "id": "PQiIqDzM5g4M"
      }
    },
    {
      "cell_type": "code",
      "source": [
        "mat= np.random.randint(3,100,(3,7))\n",
        "mat2 = np.random.randint(200,2000,(1,5))\n",
        "\n",
        "# write your answer below"
      ],
      "metadata": {
        "id": "Hany9Y9-5fmH"
      },
      "execution_count": null,
      "outputs": []
    },
    {
      "cell_type": "markdown",
      "source": [
        "# Question - 02"
      ],
      "metadata": {
        "id": "4DblSMZx5NZc"
      }
    },
    {
      "cell_type": "markdown",
      "source": [
        "Abbreviate the given strings."
      ],
      "metadata": {
        "id": "3EjHFj3g6FKq"
      }
    },
    {
      "cell_type": "code",
      "execution_count": null,
      "metadata": {
        "id": "T08VmfM_4gA5"
      },
      "outputs": [],
      "source": [
        "s1= 'dhaka University'  # output= 'DU'\n",
        "s2= 'Laser Interferometer Gravitational-Wave Observatory'   # output = 'LIGO'\n",
        "\n",
        "# write your answer below"
      ]
    },
    {
      "cell_type": "markdown",
      "source": [
        "# Question - 03"
      ],
      "metadata": {
        "id": "w0vqGsjF603-"
      }
    },
    {
      "cell_type": "markdown",
      "source": [
        "Given a tuple of integers, sort them based on the absolute value of the numbers. The output should also be a tuple."
      ],
      "metadata": {
        "id": "_d3eST6w63ZH"
      }
    },
    {
      "cell_type": "code",
      "source": [
        "m=(3,4,0,-4,-2,1,6)    # output = (0, 1, -2, 3, 4, -4, 6)\n",
        "\n",
        "# write your answer below -"
      ],
      "metadata": {
        "id": "g3C198UO7Gqf"
      },
      "execution_count": null,
      "outputs": []
    },
    {
      "cell_type": "markdown",
      "source": [
        "# Question - 04"
      ],
      "metadata": {
        "id": "AHrw3Hep7Mmu"
      }
    },
    {
      "cell_type": "markdown",
      "source": [
        "A list of length 2n is given.\n",
        "\n",
        "a=[x1,x2,....,xn,y1,y2,...,yn].\n",
        "\n",
        "\n",
        "You need to create a dataframe object from the given list with two columns. Each column will have half the items of the list. Column-1 will contain x1, x2, ...., xn. Column-2 will contain y1, y2, ...., yn.\n",
        "\n",
        "Name of the columns should be - Col1 and Col2."
      ],
      "metadata": {
        "id": "lcHPO3eQ7PEG"
      }
    },
    {
      "cell_type": "code",
      "source": [
        "a=[3,6,1,2,'a','c','b','z']\n",
        "\n",
        "# write your answer below -"
      ],
      "metadata": {
        "id": "3FyBgBGD7__S"
      },
      "execution_count": null,
      "outputs": []
    },
    {
      "cell_type": "markdown",
      "source": [
        "# Question - 05"
      ],
      "metadata": {
        "id": "W-IPdVnj8Ddg"
      }
    },
    {
      "cell_type": "markdown",
      "source": [
        "A numpy array is given. Write a function that produces two outputs -\n",
        "\n",
        "*   the index of all non-zero elements in the array\n",
        "*   the index of all positive elements in the array\n"
      ],
      "metadata": {
        "id": "78wQ8zsD8FtT"
      }
    },
    {
      "cell_type": "code",
      "source": [
        "# write your answer below -\n",
        "\n",
        "def find_elem(a):\n",
        "\n",
        "  return ind_non_zero, ind_pos"
      ],
      "metadata": {
        "id": "hwwuGGw78rC5"
      },
      "execution_count": null,
      "outputs": []
    },
    {
      "cell_type": "code",
      "source": [
        "a= np.random.randint(-30,10,(9,7))\n",
        "b = np.random.randint(-30,0,(5,12))\n",
        "\n",
        "# call your function here"
      ],
      "metadata": {
        "id": "XlfmPD4R9UkW"
      },
      "execution_count": null,
      "outputs": []
    },
    {
      "cell_type": "markdown",
      "source": [
        "# Question - 06"
      ],
      "metadata": {
        "id": "R5jyP60_9b5Z"
      }
    },
    {
      "cell_type": "markdown",
      "source": [
        "Two lists are given. Find out how many numbers in the first list are higher or equal than the corresponding numbers in the second list.\n",
        "\n",
        "n.b. you cannot use for loop for this task."
      ],
      "metadata": {
        "id": "XG8wMEJyDrtM"
      }
    },
    {
      "cell_type": "code",
      "source": [
        "x1=[3,7,5,1,8,10,-4,-6]\n",
        "x2=[10,2,0,4,1,6,-4,-5]\n",
        "\n",
        "# write your answer below -"
      ],
      "metadata": {
        "id": "IOmNkb7mELGn"
      },
      "execution_count": null,
      "outputs": []
    },
    {
      "cell_type": "markdown",
      "source": [
        "# Question - 07"
      ],
      "metadata": {
        "id": "O-1DzcJhEuIi"
      }
    },
    {
      "cell_type": "markdown",
      "source": [
        "*Iccanobif Numbers*\n",
        "\n",
        "Given a number n. Write a function to find first n Iccanobif Numbers.\n",
        "Iccanobif Numbers are similar to Fibonacci Numbers. The K-th Iccanobif number can be obtained by addition of previous two numbers after reversing their digits."
      ],
      "metadata": {
        "id": "2f_Z7tTRExU3"
      }
    },
    {
      "cell_type": "code",
      "source": [
        "def iccanobif(n):\n",
        "\n",
        "  return"
      ],
      "metadata": {
        "id": "q7zUhxqhFVAD"
      },
      "execution_count": null,
      "outputs": []
    },
    {
      "cell_type": "markdown",
      "source": [
        "# Question - 08"
      ],
      "metadata": {
        "id": "0PwJH5qFFapy"
      }
    },
    {
      "cell_type": "markdown",
      "source": [
        "Given a list of names of students, add a 'Mr.' in front for male and a 'Ms.' for female."
      ],
      "metadata": {
        "id": "XVSFXbfBFcor"
      }
    },
    {
      "cell_type": "code",
      "source": [
        "name=[('Evaaaaaa','female'),('Wall-e','male'), ('Optimus', '  male')]\n",
        "\n",
        "#ans= ['Ms. Evaaaaaa', 'Mr.Wall-e']\n",
        "#write your answer below --"
      ],
      "metadata": {
        "id": "o8chrwOBFuky"
      },
      "execution_count": null,
      "outputs": []
    },
    {
      "cell_type": "markdown",
      "source": [
        "# Question - 09"
      ],
      "metadata": {
        "id": "nSGq2kXIGAJ3"
      }
    },
    {
      "cell_type": "markdown",
      "source": [
        "Create a multiplication table from 1 to 15.\n",
        "\n",
        "*   don't use any for loop\n",
        "*   use broadcasting\n",
        "\n",
        "Hint: np.newaxis\n"
      ],
      "metadata": {
        "id": "8wouxDuMGY1v"
      }
    },
    {
      "cell_type": "markdown",
      "source": [
        "\n",
        "\n",
        "       [[ 1,  2,  3,  4,  5,  6,  7,  8,  9],\n",
        "       [ 2,  4,  6,  8, 10, 12, 14, 16, 18],\n",
        "       [ 3,  6,  9, 12, 15, 18, 21, 24, 27],\n",
        "       [ 4,  8, 12, 16, 20, 24, 28, 32, 36],\n",
        "       [ 5, 10, 15, 20, 25, 30, 35, 40, 45],\n",
        "       [ 6, 12, 18, 24, 30, 36, 42, 48, 54],\n",
        "       [ 7, 14, 21, 28, 35, 42, 49, 56, 63],\n",
        "       [ 8, 16, 24, 32, 40, 48, 56, 64, 72],\n",
        "       [ 9, 18, 27, 36, 45, 54, 63, 72, 81]]"
      ],
      "metadata": {
        "id": "SmpSfZcSIvMT"
      }
    },
    {
      "cell_type": "code",
      "source": [
        "a= np.arange(1, 15)\n",
        "\n",
        "# write your code here"
      ],
      "metadata": {
        "id": "rNa8n6qBHISE"
      },
      "execution_count": null,
      "outputs": []
    },
    {
      "cell_type": "markdown",
      "source": [
        "# Question - 10"
      ],
      "metadata": {
        "id": "sG0pLq4dJE13"
      }
    },
    {
      "cell_type": "markdown",
      "source": [
        "Create a dataframe from the dictionary given. Change the dataframe's last column's name from 'score' to 'rating1'."
      ],
      "metadata": {
        "id": "oVt0QBobJIfl"
      }
    },
    {
      "cell_type": "code",
      "source": [
        "data = {\n",
        "    'Name': ['Bruce', 'Clark', 'Peter', 'Gandalf'],\n",
        "    'Identity': ['Batman', 'Superman', 'Spiderman', 'Wizard'],\n",
        "    'Actors': ['Affleck', 'Henry', 'Maguire', 'Ian'],\n",
        "    'Age': [44, 27, 22, 50000],\n",
        "    'Score': [10, 9.5, 9, 9.5]\n",
        "}\n",
        "df= pd.DataFrame(data)\n",
        "df"
      ],
      "metadata": {
        "colab": {
          "base_uri": "https://localhost:8080/",
          "height": 175
        },
        "id": "N6531Gs5KAX1",
        "outputId": "61548583-3e5b-4848-f729-bb2b04140b30"
      },
      "execution_count": null,
      "outputs": [
        {
          "output_type": "execute_result",
          "data": {
            "text/plain": [
              "      Name   Identity   Actors    Age  Score\n",
              "0    Bruce     Batman  Affleck     44   10.0\n",
              "1    Clark   Superman    Henry     27    9.5\n",
              "2    Peter  Spiderman  Maguire     22    9.0\n",
              "3  Gandalf     Wizard      Ian  50000    9.5"
            ],
            "text/html": [
              "\n",
              "  <div id=\"df-ab705e5c-146e-48c5-8c9c-5ecbb45e25c3\" class=\"colab-df-container\">\n",
              "    <div>\n",
              "<style scoped>\n",
              "    .dataframe tbody tr th:only-of-type {\n",
              "        vertical-align: middle;\n",
              "    }\n",
              "\n",
              "    .dataframe tbody tr th {\n",
              "        vertical-align: top;\n",
              "    }\n",
              "\n",
              "    .dataframe thead th {\n",
              "        text-align: right;\n",
              "    }\n",
              "</style>\n",
              "<table border=\"1\" class=\"dataframe\">\n",
              "  <thead>\n",
              "    <tr style=\"text-align: right;\">\n",
              "      <th></th>\n",
              "      <th>Name</th>\n",
              "      <th>Identity</th>\n",
              "      <th>Actors</th>\n",
              "      <th>Age</th>\n",
              "      <th>Score</th>\n",
              "    </tr>\n",
              "  </thead>\n",
              "  <tbody>\n",
              "    <tr>\n",
              "      <th>0</th>\n",
              "      <td>Bruce</td>\n",
              "      <td>Batman</td>\n",
              "      <td>Affleck</td>\n",
              "      <td>44</td>\n",
              "      <td>10.0</td>\n",
              "    </tr>\n",
              "    <tr>\n",
              "      <th>1</th>\n",
              "      <td>Clark</td>\n",
              "      <td>Superman</td>\n",
              "      <td>Henry</td>\n",
              "      <td>27</td>\n",
              "      <td>9.5</td>\n",
              "    </tr>\n",
              "    <tr>\n",
              "      <th>2</th>\n",
              "      <td>Peter</td>\n",
              "      <td>Spiderman</td>\n",
              "      <td>Maguire</td>\n",
              "      <td>22</td>\n",
              "      <td>9.0</td>\n",
              "    </tr>\n",
              "    <tr>\n",
              "      <th>3</th>\n",
              "      <td>Gandalf</td>\n",
              "      <td>Wizard</td>\n",
              "      <td>Ian</td>\n",
              "      <td>50000</td>\n",
              "      <td>9.5</td>\n",
              "    </tr>\n",
              "  </tbody>\n",
              "</table>\n",
              "</div>\n",
              "    <div class=\"colab-df-buttons\">\n",
              "\n",
              "  <div class=\"colab-df-container\">\n",
              "    <button class=\"colab-df-convert\" onclick=\"convertToInteractive('df-ab705e5c-146e-48c5-8c9c-5ecbb45e25c3')\"\n",
              "            title=\"Convert this dataframe to an interactive table.\"\n",
              "            style=\"display:none;\">\n",
              "\n",
              "  <svg xmlns=\"http://www.w3.org/2000/svg\" height=\"24px\" viewBox=\"0 -960 960 960\">\n",
              "    <path d=\"M120-120v-720h720v720H120Zm60-500h600v-160H180v160Zm220 220h160v-160H400v160Zm0 220h160v-160H400v160ZM180-400h160v-160H180v160Zm440 0h160v-160H620v160ZM180-180h160v-160H180v160Zm440 0h160v-160H620v160Z\"/>\n",
              "  </svg>\n",
              "    </button>\n",
              "\n",
              "  <style>\n",
              "    .colab-df-container {\n",
              "      display:flex;\n",
              "      gap: 12px;\n",
              "    }\n",
              "\n",
              "    .colab-df-convert {\n",
              "      background-color: #E8F0FE;\n",
              "      border: none;\n",
              "      border-radius: 50%;\n",
              "      cursor: pointer;\n",
              "      display: none;\n",
              "      fill: #1967D2;\n",
              "      height: 32px;\n",
              "      padding: 0 0 0 0;\n",
              "      width: 32px;\n",
              "    }\n",
              "\n",
              "    .colab-df-convert:hover {\n",
              "      background-color: #E2EBFA;\n",
              "      box-shadow: 0px 1px 2px rgba(60, 64, 67, 0.3), 0px 1px 3px 1px rgba(60, 64, 67, 0.15);\n",
              "      fill: #174EA6;\n",
              "    }\n",
              "\n",
              "    .colab-df-buttons div {\n",
              "      margin-bottom: 4px;\n",
              "    }\n",
              "\n",
              "    [theme=dark] .colab-df-convert {\n",
              "      background-color: #3B4455;\n",
              "      fill: #D2E3FC;\n",
              "    }\n",
              "\n",
              "    [theme=dark] .colab-df-convert:hover {\n",
              "      background-color: #434B5C;\n",
              "      box-shadow: 0px 1px 3px 1px rgba(0, 0, 0, 0.15);\n",
              "      filter: drop-shadow(0px 1px 2px rgba(0, 0, 0, 0.3));\n",
              "      fill: #FFFFFF;\n",
              "    }\n",
              "  </style>\n",
              "\n",
              "    <script>\n",
              "      const buttonEl =\n",
              "        document.querySelector('#df-ab705e5c-146e-48c5-8c9c-5ecbb45e25c3 button.colab-df-convert');\n",
              "      buttonEl.style.display =\n",
              "        google.colab.kernel.accessAllowed ? 'block' : 'none';\n",
              "\n",
              "      async function convertToInteractive(key) {\n",
              "        const element = document.querySelector('#df-ab705e5c-146e-48c5-8c9c-5ecbb45e25c3');\n",
              "        const dataTable =\n",
              "          await google.colab.kernel.invokeFunction('convertToInteractive',\n",
              "                                                    [key], {});\n",
              "        if (!dataTable) return;\n",
              "\n",
              "        const docLinkHtml = 'Like what you see? Visit the ' +\n",
              "          '<a target=\"_blank\" href=https://colab.research.google.com/notebooks/data_table.ipynb>data table notebook</a>'\n",
              "          + ' to learn more about interactive tables.';\n",
              "        element.innerHTML = '';\n",
              "        dataTable['output_type'] = 'display_data';\n",
              "        await google.colab.output.renderOutput(dataTable, element);\n",
              "        const docLink = document.createElement('div');\n",
              "        docLink.innerHTML = docLinkHtml;\n",
              "        element.appendChild(docLink);\n",
              "      }\n",
              "    </script>\n",
              "  </div>\n",
              "\n",
              "\n",
              "<div id=\"df-4b47a6bc-59b6-4828-896d-67c59dfe8708\">\n",
              "  <button class=\"colab-df-quickchart\" onclick=\"quickchart('df-4b47a6bc-59b6-4828-896d-67c59dfe8708')\"\n",
              "            title=\"Suggest charts\"\n",
              "            style=\"display:none;\">\n",
              "\n",
              "<svg xmlns=\"http://www.w3.org/2000/svg\" height=\"24px\"viewBox=\"0 0 24 24\"\n",
              "     width=\"24px\">\n",
              "    <g>\n",
              "        <path d=\"M19 3H5c-1.1 0-2 .9-2 2v14c0 1.1.9 2 2 2h14c1.1 0 2-.9 2-2V5c0-1.1-.9-2-2-2zM9 17H7v-7h2v7zm4 0h-2V7h2v10zm4 0h-2v-4h2v4z\"/>\n",
              "    </g>\n",
              "</svg>\n",
              "  </button>\n",
              "\n",
              "<style>\n",
              "  .colab-df-quickchart {\n",
              "      --bg-color: #E8F0FE;\n",
              "      --fill-color: #1967D2;\n",
              "      --hover-bg-color: #E2EBFA;\n",
              "      --hover-fill-color: #174EA6;\n",
              "      --disabled-fill-color: #AAA;\n",
              "      --disabled-bg-color: #DDD;\n",
              "  }\n",
              "\n",
              "  [theme=dark] .colab-df-quickchart {\n",
              "      --bg-color: #3B4455;\n",
              "      --fill-color: #D2E3FC;\n",
              "      --hover-bg-color: #434B5C;\n",
              "      --hover-fill-color: #FFFFFF;\n",
              "      --disabled-bg-color: #3B4455;\n",
              "      --disabled-fill-color: #666;\n",
              "  }\n",
              "\n",
              "  .colab-df-quickchart {\n",
              "    background-color: var(--bg-color);\n",
              "    border: none;\n",
              "    border-radius: 50%;\n",
              "    cursor: pointer;\n",
              "    display: none;\n",
              "    fill: var(--fill-color);\n",
              "    height: 32px;\n",
              "    padding: 0;\n",
              "    width: 32px;\n",
              "  }\n",
              "\n",
              "  .colab-df-quickchart:hover {\n",
              "    background-color: var(--hover-bg-color);\n",
              "    box-shadow: 0 1px 2px rgba(60, 64, 67, 0.3), 0 1px 3px 1px rgba(60, 64, 67, 0.15);\n",
              "    fill: var(--button-hover-fill-color);\n",
              "  }\n",
              "\n",
              "  .colab-df-quickchart-complete:disabled,\n",
              "  .colab-df-quickchart-complete:disabled:hover {\n",
              "    background-color: var(--disabled-bg-color);\n",
              "    fill: var(--disabled-fill-color);\n",
              "    box-shadow: none;\n",
              "  }\n",
              "\n",
              "  .colab-df-spinner {\n",
              "    border: 2px solid var(--fill-color);\n",
              "    border-color: transparent;\n",
              "    border-bottom-color: var(--fill-color);\n",
              "    animation:\n",
              "      spin 1s steps(1) infinite;\n",
              "  }\n",
              "\n",
              "  @keyframes spin {\n",
              "    0% {\n",
              "      border-color: transparent;\n",
              "      border-bottom-color: var(--fill-color);\n",
              "      border-left-color: var(--fill-color);\n",
              "    }\n",
              "    20% {\n",
              "      border-color: transparent;\n",
              "      border-left-color: var(--fill-color);\n",
              "      border-top-color: var(--fill-color);\n",
              "    }\n",
              "    30% {\n",
              "      border-color: transparent;\n",
              "      border-left-color: var(--fill-color);\n",
              "      border-top-color: var(--fill-color);\n",
              "      border-right-color: var(--fill-color);\n",
              "    }\n",
              "    40% {\n",
              "      border-color: transparent;\n",
              "      border-right-color: var(--fill-color);\n",
              "      border-top-color: var(--fill-color);\n",
              "    }\n",
              "    60% {\n",
              "      border-color: transparent;\n",
              "      border-right-color: var(--fill-color);\n",
              "    }\n",
              "    80% {\n",
              "      border-color: transparent;\n",
              "      border-right-color: var(--fill-color);\n",
              "      border-bottom-color: var(--fill-color);\n",
              "    }\n",
              "    90% {\n",
              "      border-color: transparent;\n",
              "      border-bottom-color: var(--fill-color);\n",
              "    }\n",
              "  }\n",
              "</style>\n",
              "\n",
              "  <script>\n",
              "    async function quickchart(key) {\n",
              "      const quickchartButtonEl =\n",
              "        document.querySelector('#' + key + ' button');\n",
              "      quickchartButtonEl.disabled = true;  // To prevent multiple clicks.\n",
              "      quickchartButtonEl.classList.add('colab-df-spinner');\n",
              "      try {\n",
              "        const charts = await google.colab.kernel.invokeFunction(\n",
              "            'suggestCharts', [key], {});\n",
              "      } catch (error) {\n",
              "        console.error('Error during call to suggestCharts:', error);\n",
              "      }\n",
              "      quickchartButtonEl.classList.remove('colab-df-spinner');\n",
              "      quickchartButtonEl.classList.add('colab-df-quickchart-complete');\n",
              "    }\n",
              "    (() => {\n",
              "      let quickchartButtonEl =\n",
              "        document.querySelector('#df-4b47a6bc-59b6-4828-896d-67c59dfe8708 button');\n",
              "      quickchartButtonEl.style.display =\n",
              "        google.colab.kernel.accessAllowed ? 'block' : 'none';\n",
              "    })();\n",
              "  </script>\n",
              "</div>\n",
              "\n",
              "  <div id=\"id_3ccd33c4-ec8a-40cb-afd3-b71977d5bece\">\n",
              "    <style>\n",
              "      .colab-df-generate {\n",
              "        background-color: #E8F0FE;\n",
              "        border: none;\n",
              "        border-radius: 50%;\n",
              "        cursor: pointer;\n",
              "        display: none;\n",
              "        fill: #1967D2;\n",
              "        height: 32px;\n",
              "        padding: 0 0 0 0;\n",
              "        width: 32px;\n",
              "      }\n",
              "\n",
              "      .colab-df-generate:hover {\n",
              "        background-color: #E2EBFA;\n",
              "        box-shadow: 0px 1px 2px rgba(60, 64, 67, 0.3), 0px 1px 3px 1px rgba(60, 64, 67, 0.15);\n",
              "        fill: #174EA6;\n",
              "      }\n",
              "\n",
              "      [theme=dark] .colab-df-generate {\n",
              "        background-color: #3B4455;\n",
              "        fill: #D2E3FC;\n",
              "      }\n",
              "\n",
              "      [theme=dark] .colab-df-generate:hover {\n",
              "        background-color: #434B5C;\n",
              "        box-shadow: 0px 1px 3px 1px rgba(0, 0, 0, 0.15);\n",
              "        filter: drop-shadow(0px 1px 2px rgba(0, 0, 0, 0.3));\n",
              "        fill: #FFFFFF;\n",
              "      }\n",
              "    </style>\n",
              "    <button class=\"colab-df-generate\" onclick=\"generateWithVariable('df')\"\n",
              "            title=\"Generate code using this dataframe.\"\n",
              "            style=\"display:none;\">\n",
              "\n",
              "  <svg xmlns=\"http://www.w3.org/2000/svg\" height=\"24px\"viewBox=\"0 0 24 24\"\n",
              "       width=\"24px\">\n",
              "    <path d=\"M7,19H8.4L18.45,9,17,7.55,7,17.6ZM5,21V16.75L18.45,3.32a2,2,0,0,1,2.83,0l1.4,1.43a1.91,1.91,0,0,1,.58,1.4,1.91,1.91,0,0,1-.58,1.4L9.25,21ZM18.45,9,17,7.55Zm-12,3A5.31,5.31,0,0,0,4.9,8.1,5.31,5.31,0,0,0,1,6.5,5.31,5.31,0,0,0,4.9,4.9,5.31,5.31,0,0,0,6.5,1,5.31,5.31,0,0,0,8.1,4.9,5.31,5.31,0,0,0,12,6.5,5.46,5.46,0,0,0,6.5,12Z\"/>\n",
              "  </svg>\n",
              "    </button>\n",
              "    <script>\n",
              "      (() => {\n",
              "      const buttonEl =\n",
              "        document.querySelector('#id_3ccd33c4-ec8a-40cb-afd3-b71977d5bece button.colab-df-generate');\n",
              "      buttonEl.style.display =\n",
              "        google.colab.kernel.accessAllowed ? 'block' : 'none';\n",
              "\n",
              "      buttonEl.onclick = () => {\n",
              "        google.colab.notebook.generateWithVariable('df');\n",
              "      }\n",
              "      })();\n",
              "    </script>\n",
              "  </div>\n",
              "\n",
              "    </div>\n",
              "  </div>\n"
            ],
            "application/vnd.google.colaboratory.intrinsic+json": {
              "type": "dataframe",
              "variable_name": "df",
              "summary": "{\n  \"name\": \"df\",\n  \"rows\": 4,\n  \"fields\": [\n    {\n      \"column\": \"Name\",\n      \"properties\": {\n        \"dtype\": \"string\",\n        \"num_unique_values\": 4,\n        \"samples\": [\n          \"Clark\",\n          \"Gandalf\",\n          \"Bruce\"\n        ],\n        \"semantic_type\": \"\",\n        \"description\": \"\"\n      }\n    },\n    {\n      \"column\": \"Identity\",\n      \"properties\": {\n        \"dtype\": \"string\",\n        \"num_unique_values\": 4,\n        \"samples\": [\n          \"Superman\",\n          \"Wizard\",\n          \"Batman\"\n        ],\n        \"semantic_type\": \"\",\n        \"description\": \"\"\n      }\n    },\n    {\n      \"column\": \"Actors\",\n      \"properties\": {\n        \"dtype\": \"string\",\n        \"num_unique_values\": 4,\n        \"samples\": [\n          \"Henry\",\n          \"Ian\",\n          \"Affleck\"\n        ],\n        \"semantic_type\": \"\",\n        \"description\": \"\"\n      }\n    },\n    {\n      \"column\": \"Age\",\n      \"properties\": {\n        \"dtype\": \"number\",\n        \"std\": 24984,\n        \"min\": 22,\n        \"max\": 50000,\n        \"num_unique_values\": 4,\n        \"samples\": [\n          27,\n          50000,\n          44\n        ],\n        \"semantic_type\": \"\",\n        \"description\": \"\"\n      }\n    },\n    {\n      \"column\": \"Score\",\n      \"properties\": {\n        \"dtype\": \"number\",\n        \"std\": 0.408248290463863,\n        \"min\": 9.0,\n        \"max\": 10.0,\n        \"num_unique_values\": 3,\n        \"samples\": [\n          10.0,\n          9.5,\n          9.0\n        ],\n        \"semantic_type\": \"\",\n        \"description\": \"\"\n      }\n    }\n  ]\n}"
            }
          },
          "metadata": {},
          "execution_count": 17
        }
      ]
    },
    {
      "cell_type": "code",
      "source": [
        "# write your code here\n"
      ],
      "metadata": {
        "id": "N5N-RECmKMra"
      },
      "execution_count": null,
      "outputs": []
    },
    {
      "cell_type": "markdown",
      "source": [
        "# Question - 11"
      ],
      "metadata": {
        "id": "sRjMnnPMKOjg"
      }
    },
    {
      "cell_type": "markdown",
      "source": [
        "Add a new column to your dataframe termed 'Rating-2.\n",
        "\n",
        "rating-2 = [9, 9, 7.5, 8.5]"
      ],
      "metadata": {
        "id": "UJNC0zStLPY4"
      }
    },
    {
      "cell_type": "code",
      "source": [
        "# write your code here\n"
      ],
      "metadata": {
        "id": "kDQsIWopL9fo"
      },
      "execution_count": null,
      "outputs": []
    },
    {
      "cell_type": "markdown",
      "source": [
        "# Question - 12"
      ],
      "metadata": {
        "id": "RIXhGZyQL_Bg"
      }
    },
    {
      "cell_type": "markdown",
      "source": [
        "Replace the rating1 and rating2 columns with a new column name 'avg_rating'. It will contain the average of those two column values."
      ],
      "metadata": {
        "id": "KWAa37JuMB1T"
      }
    },
    {
      "cell_type": "code",
      "source": [
        "# write your code here"
      ],
      "metadata": {
        "id": "2XAu9EBAMWM3"
      },
      "execution_count": null,
      "outputs": []
    },
    {
      "cell_type": "markdown",
      "source": [
        "# Question - 13"
      ],
      "metadata": {
        "id": "XpQbngUbMXjt"
      }
    },
    {
      "cell_type": "markdown",
      "source": [
        "Replace the 3rd row with the following information.\n",
        "\n",
        "[Celebrimbor, Elf, N/A, 2000, 8]"
      ],
      "metadata": {
        "id": "34USEpnHM_7P"
      }
    },
    {
      "cell_type": "code",
      "source": [
        "# write your code here\n"
      ],
      "metadata": {
        "id": "o0JiOeLZNXe2"
      },
      "execution_count": null,
      "outputs": []
    },
    {
      "cell_type": "markdown",
      "source": [
        "# Question - 14"
      ],
      "metadata": {
        "id": "az53DggJOtDC"
      }
    },
    {
      "cell_type": "markdown",
      "source": [
        "\n",
        "\n",
        "1.   Create two separate bar plots from the Age and Rating columns [Use subplot]\n",
        "\n",
        "2.   Create a single bar plot from the Age and Rating columns, both should be placed pair-wise.\n",
        "\n",
        "n.b. The scale will create an issue. you may normalize it to view properly.\n",
        "\n"
      ],
      "metadata": {
        "id": "nKJ7hPcpOxWz"
      }
    },
    {
      "cell_type": "code",
      "source": [
        "# write your code here"
      ],
      "metadata": {
        "id": "vz1zDq7UoooD"
      },
      "execution_count": null,
      "outputs": []
    },
    {
      "cell_type": "markdown",
      "source": [
        "# Question - 15\n"
      ],
      "metadata": {
        "id": "kCJTMxXeNf9p"
      }
    },
    {
      "cell_type": "markdown",
      "source": [
        "In Cryptography, Caesar Cipher is one of the simplest form of encryption technique. The concept is very simple. You shift the given message by a fixed degree left or right.\n",
        "\n",
        "For Instance,    \n",
        "\n",
        "*   message= 'fire'\n",
        "*   degree = +3\n",
        "*   encrypted message = 'iluh'\n",
        "\n",
        "You only shift the alphanumeric characters; not punctuation or whitespace characters.\n",
        "\n",
        "The characters is so be shifted within the same type i.e. a lowercase should be shifted to a lowercase, a numeric to a numeric.\n",
        "\n",
        "For example, If you've ('z',+2), it should be shifted to ---> 'b'\n",
        "\n",
        "Hints:\n",
        "*   Take a look at dir(str) to see the methods that can be used to identify the type of string.\n",
        "*   ord(__) provieds the ascii value of a character.\n",
        "*   Careful!!, you cannot get vectorized output directly in python.\n",
        "*   chr(__) converts ascii value back to its character.\n"
      ],
      "metadata": {
        "id": "Yl9USdx7Nh7l"
      }
    },
    {
      "cell_type": "code",
      "source": [
        "message= 'Radioactive'\n",
        "degree = +7\n",
        "\n",
        "# write your answer below -"
      ],
      "metadata": {
        "id": "7Q_TjuVpOaI2"
      },
      "execution_count": null,
      "outputs": []
    },
    {
      "cell_type": "code",
      "source": [
        "message= '''\n",
        "Outta order? I'll show you outta order!\n",
        "You don't know what outta order is, Mr. Trask!\n",
        "I'd show you but I'm too old; I'm too tired; I'm too fuckin' blind.\n",
        "If I were the man I was 5 years ago I'd take a FLAME-THROWER to this place!\n",
        "Outta order. Who the hell you think you're talkin' to?\n",
        "I've been around, you know? There was a time I could see.\n",
        "And I have seen boys like these, younger than these, their arms torn out, their legs ripped off.\n",
        "But there isn't nothin' like the sight of an amputated spirit; there is no prosthetic for that.\n",
        "You think you're merely sendin' this splendid foot-soldier back home to Oregon with his tail between his legs,\n",
        "but I say you are executin' his SOUL!!\n",
        "And why?! Because he's not a Baird man!\n",
        "Baird men, ya hurt this boy, you're going to be Baird Bums, the lot of ya.\n",
        "And Harry, Jimmy, Trent, wherever you are out there, **** ***, too!\n",
        "'''\n",
        "degree = -12\n",
        "\n",
        "# write your answer below -"
      ],
      "metadata": {
        "id": "Hshq5XDco0Ph"
      },
      "execution_count": null,
      "outputs": []
    }
  ]
}