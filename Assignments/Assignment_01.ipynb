{
  "cells": [
    {
      "cell_type": "markdown",
      "metadata": {
        "id": "1YQ-61NFE5w_"
      },
      "source": [
        "# Question: 01"
      ]
    },
    {
      "cell_type": "raw",
      "metadata": {
        "id": "qxdHQPQfE5xA"
      },
      "source": [
        "A list is provided. Find the 2nd and 8th element from that list."
      ]
    },
    {
      "cell_type": "code",
      "execution_count": null,
      "metadata": {
        "id": "Lvt6d5D3E5xB",
        "outputId": "11606bfc-3bc8-46ef-d56e-c11fbae3a4e0"
      },
      "outputs": [
        {
          "name": "stdout",
          "output_type": "stream",
          "text": [
            "2\n",
            "5\n"
          ]
        }
      ],
      "source": [
        "a=[2,5,3,'h',';',\"k\",7,10,[5,6]]\n",
        "\n",
        "# write your answer below -\n",
        "print(a[0])\n",
        "print(a[1])"
      ]
    },
    {
      "cell_type": "markdown",
      "metadata": {
        "id": "gOq4EWalE5xC"
      },
      "source": [
        "# Question: 02"
      ]
    },
    {
      "cell_type": "raw",
      "metadata": {
        "id": "icng71WgE5xD"
      },
      "source": [
        "A string is provided. Find the 1st and last element from that string."
      ]
    },
    {
      "cell_type": "code",
      "execution_count": null,
      "metadata": {
        "id": "Hb8gxeXcE5xD"
      },
      "outputs": [],
      "source": [
        "b='coffee'\n",
        "\n",
        "# write your answer below -\n",
        "\n"
      ]
    },
    {
      "cell_type": "markdown",
      "metadata": {
        "id": "jaVPbMdGE5xD"
      },
      "source": [
        "# Question: 03"
      ]
    },
    {
      "cell_type": "raw",
      "metadata": {
        "id": "kFsnM6BAE5xD"
      },
      "source": [
        "Given a list, convert it into a numpy array."
      ]
    },
    {
      "cell_type": "code",
      "execution_count": null,
      "metadata": {
        "id": "SJggdoEuE5xD"
      },
      "outputs": [],
      "source": [
        "m=[3,4,0,-4,-2,1,6]\n",
        "\n",
        "# write your answer below -\n",
        "\n"
      ]
    },
    {
      "cell_type": "markdown",
      "metadata": {
        "id": "mvteLhpIE5xE"
      },
      "source": [
        "# Question: 04"
      ]
    },
    {
      "cell_type": "raw",
      "metadata": {
        "id": "eNgqwK5lE5xE"
      },
      "source": [
        "Given a list of integers, find the negative elements from the list."
      ]
    },
    {
      "cell_type": "code",
      "execution_count": null,
      "metadata": {
        "id": "Cc6jcyZBE5xE"
      },
      "outputs": [],
      "source": [
        "p=[-3,7,-4,0,1,6,-9]\n",
        "\n",
        "# write your answer below -\n",
        "\n"
      ]
    },
    {
      "cell_type": "markdown",
      "metadata": {
        "id": "c_uZN0X_E5xE"
      },
      "source": [
        "# Question: 05"
      ]
    },
    {
      "cell_type": "raw",
      "metadata": {
        "id": "Mf7obnbIE5xE"
      },
      "source": [
        "A list x is provided. Extract 25 and 'dec' from it."
      ]
    },
    {
      "cell_type": "code",
      "execution_count": null,
      "metadata": {
        "id": "6eEOQTZPE5xG"
      },
      "outputs": [],
      "source": [
        "x=['Nov', (5,15,25), ['p','q',[100,1000,['dec','jan']]],'apex']\n",
        "\n",
        "# write your answer below -\n"
      ]
    },
    {
      "cell_type": "markdown",
      "source": [
        "# Question: 06"
      ],
      "metadata": {
        "id": "2nTZu207Fa6x"
      }
    },
    {
      "cell_type": "markdown",
      "source": [
        "A list is provided.\n",
        "1. First invert it.\n",
        "2. Then join it to the original list.\n",
        "3. Create a replica of it and add it to the end.\n",
        "\n",
        "Test Case:\n",
        "\n",
        "a= [3,4,10]\n",
        "\n",
        "1=> [10,4,3]\n",
        "\n",
        "2=> [3,4,10,10,4,3]\n",
        "\n",
        "3=> [3,4,10,10,4,3,3,4,10,10,4,3]"
      ],
      "metadata": {
        "id": "Ho2Cu8oDFlZI"
      }
    },
    {
      "cell_type": "code",
      "source": [
        "# write your code here"
      ],
      "metadata": {
        "id": "WAQym3zIFd-z"
      },
      "execution_count": null,
      "outputs": []
    },
    {
      "cell_type": "markdown",
      "source": [
        "# Question: 07"
      ],
      "metadata": {
        "id": "ypTEs1AvGdHw"
      }
    },
    {
      "cell_type": "markdown",
      "source": [
        "The list 'movie' contains names of some movies. The list 'score' contains rating of those movies. Sort the score list in a descending manner. Then sort the movie list according to their ratings."
      ],
      "metadata": {
        "id": "1q9IKmoMGgGD"
      }
    },
    {
      "cell_type": "code",
      "source": [
        "movie=['Avatar','Lost in translation','Enemy','Coherence','Avengers', 'Zack Snyders Justice League']\n",
        "score= [9,10,8.5,8,7,10]\n",
        "# write your code here"
      ],
      "metadata": {
        "id": "YyTWRYNNG5gu"
      },
      "execution_count": null,
      "outputs": []
    },
    {
      "cell_type": "markdown",
      "source": [
        "# Question: 08"
      ],
      "metadata": {
        "id": "kaVRlYYXHJg4"
      }
    },
    {
      "cell_type": "markdown",
      "source": [
        "Given a list of integers, for each of the elements:\n",
        "* if an item is divisible by 2, square it\n",
        "* if it is divisible by 3, cube it\n",
        "* otherwise, remove the item from the list"
      ],
      "metadata": {
        "id": "127jId_WHYpX"
      }
    },
    {
      "cell_type": "code",
      "source": [
        "m=[3,4,0,-4,-2,1,6]\n",
        "\n",
        "# write your answer below -"
      ],
      "metadata": {
        "id": "qy0C_eAFHj6S"
      },
      "execution_count": null,
      "outputs": []
    },
    {
      "cell_type": "markdown",
      "source": [
        "# Question: 09"
      ],
      "metadata": {
        "id": "4bx30BycHmtj"
      }
    },
    {
      "cell_type": "markdown",
      "source": [
        "Write a function that takes a list as an input and returns the top 3 elements from the list. The list may contain strings (ignore them)."
      ],
      "metadata": {
        "id": "ksk0GejwHrfB"
      }
    },
    {
      "cell_type": "code",
      "source": [
        "p=[-3,7,-4,0,1,6,-9, 'apple', 'mango', [28732, 23, 24556]]\n",
        "q= [ 29, 22, 24, 5]\n",
        "# write your function here, then call it in the next cell for bath cases"
      ],
      "metadata": {
        "id": "R-oLvN7_Hq_R"
      },
      "execution_count": null,
      "outputs": []
    },
    {
      "cell_type": "markdown",
      "source": [
        "# Question: 10"
      ],
      "metadata": {
        "id": "9LJnV3Z2IWVY"
      }
    },
    {
      "cell_type": "markdown",
      "source": [
        "A list is provided. Remove any item which is not a string.\n",
        "\n",
        "Hint: isinstance"
      ],
      "metadata": {
        "id": "VVDuI87QIYKc"
      }
    },
    {
      "cell_type": "code",
      "source": [
        "x=['Nov', (5,15,25), ['p','q',[100,1000,['dec','jan']]],'apex']\n",
        "\n",
        "# write your answer below -\n"
      ],
      "metadata": {
        "id": "fK2ORnwNIZkf"
      },
      "execution_count": null,
      "outputs": []
    },
    {
      "cell_type": "markdown",
      "source": [
        "# Question: 11"
      ],
      "metadata": {
        "id": "Qk_K3xlyIsjs"
      }
    },
    {
      "cell_type": "markdown",
      "source": [
        "Write a function that takes a list of years and returns a logical array corresponding to the original list based on whether each item(year) in the list is a leap year or not."
      ],
      "metadata": {
        "id": "NDXrZhuFIvKM"
      }
    },
    {
      "cell_type": "code",
      "source": [
        "def find_leap_year():\n",
        "\n",
        "  return"
      ],
      "metadata": {
        "id": "D_2zzjZaIu1M"
      },
      "execution_count": null,
      "outputs": []
    },
    {
      "cell_type": "code",
      "source": [
        "year=[2020,2015,2014,2000,1900,1950,1944,1896,1800,1820,1600]"
      ],
      "metadata": {
        "id": "eOOaXtCpI79D"
      },
      "execution_count": null,
      "outputs": []
    },
    {
      "cell_type": "markdown",
      "source": [
        "# Question: 12"
      ],
      "metadata": {
        "id": "GuRQZgH4JInE"
      }
    },
    {
      "cell_type": "markdown",
      "source": [
        "Write a function that takes two lists. First calculate the pairwise product. Then find the average value and summation of those products. Return these two values from the function."
      ],
      "metadata": {
        "id": "F64brMJ3JL31"
      }
    },
    {
      "cell_type": "code",
      "source": [
        "# write your function here"
      ],
      "metadata": {
        "id": "00Bwl3l9JTKl"
      },
      "execution_count": null,
      "outputs": []
    },
    {
      "cell_type": "code",
      "source": [
        "x1=[3,7,5,1,8,10]\n",
        "x2=[10,2,0,4,1,6]"
      ],
      "metadata": {
        "id": "po474x9UJWHT"
      },
      "execution_count": null,
      "outputs": []
    }
  ],
  "metadata": {
    "kernelspec": {
      "display_name": "Python 3",
      "language": "python",
      "name": "python3"
    },
    "language_info": {
      "codemirror_mode": {
        "name": "ipython",
        "version": 3
      },
      "file_extension": ".py",
      "mimetype": "text/x-python",
      "name": "python",
      "nbconvert_exporter": "python",
      "pygments_lexer": "ipython3",
      "version": "3.8.2"
    },
    "colab": {
      "provenance": [],
      "toc_visible": true
    }
  },
  "nbformat": 4,
  "nbformat_minor": 0
}