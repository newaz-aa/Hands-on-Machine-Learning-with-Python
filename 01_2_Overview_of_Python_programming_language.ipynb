{
  "nbformat": 4,
  "nbformat_minor": 0,
  "metadata": {
    "colab": {
      "provenance": [],
      "toc_visible": true
    },
    "kernelspec": {
      "name": "python3",
      "display_name": "Python 3"
    },
    "language_info": {
      "name": "python"
    }
  },
  "cells": [
    {
      "cell_type": "markdown",
      "source": [
        "Prepared By\n",
        "\n",
        "*Asif Newaz, Lecturer, EEE, IUT*"
      ],
      "metadata": {
        "id": "w7aJZt68w_za"
      }
    },
    {
      "cell_type": "markdown",
      "source": [
        "# Intro"
      ],
      "metadata": {
        "id": "7unZvFU6xISR"
      }
    },
    {
      "cell_type": "markdown",
      "source": [
        "Previously, we focused on python data structures. In this notebook, we will see some basic operations such as loop, conditional statement, mapping, etc."
      ],
      "metadata": {
        "id": "k5DyoSD4xLj1"
      }
    },
    {
      "cell_type": "markdown",
      "source": [
        "# Conditional statement"
      ],
      "metadata": {
        "id": "1i9zxGmN6z3W"
      }
    },
    {
      "cell_type": "markdown",
      "source": [
        "Conditional statements in python are if, elif, and else."
      ],
      "metadata": {
        "id": "O-6gPX8W69rj"
      }
    },
    {
      "cell_type": "markdown",
      "source": [
        "The syntax goes like this -\n",
        "\n",
        "      if condition:\n",
        "    # code block executed if condition is True\n",
        "      elif another_condition:\n",
        "    # code block executed if another_condition is True\n",
        "      else:\n",
        "    # code block executed if no previous conditions are True\n"
      ],
      "metadata": {
        "id": "sfDvRI6Q7IfD"
      }
    },
    {
      "cell_type": "code",
      "source": [
        "a=10\n",
        "if a>5:\n",
        "  print('a is greater than 5')\n",
        "elif a==5:\n",
        "  print('a is equal to 5')\n",
        "else:\n",
        "  print('a is less than 5')"
      ],
      "metadata": {
        "colab": {
          "base_uri": "https://localhost:8080/"
        },
        "id": "jh8HudYV7F2d",
        "outputId": "300f826b-dcfa-46d6-d990-3ed1cf65d8af"
      },
      "execution_count": null,
      "outputs": [
        {
          "output_type": "stream",
          "name": "stdout",
          "text": [
            "a is greater than 5\n"
          ]
        }
      ]
    },
    {
      "cell_type": "code",
      "source": [
        "a=11\n",
        "if a>5 and a%2==0:\n",
        "  print('a is greater than 5 and divisible by 2')\n",
        "elif a==5 and a%2==0:\n",
        "  print('a is equal to 5 and divisible by 2')\n",
        "elif a>5 and a%2!=0:\n",
        "  print('a is greater than 5 and not divisible by 2')\n",
        "elif a==5 and a%2!=0:\n",
        "  print('a is equal to 5 and not divisible by 2')\n",
        "else:\n",
        "  print('a is less than 5')"
      ],
      "metadata": {
        "colab": {
          "base_uri": "https://localhost:8080/"
        },
        "id": "V8PqBejT7o8E",
        "outputId": "bb90cc1d-64ad-4899-e4b1-3585efa58fe4"
      },
      "execution_count": null,
      "outputs": [
        {
          "output_type": "stream",
          "name": "stdout",
          "text": [
            "a is greater than 5 and not divisible by 2\n"
          ]
        }
      ]
    },
    {
      "cell_type": "markdown",
      "source": [
        "# Loop"
      ],
      "metadata": {
        "id": "pJcGqPq9xYc_"
      }
    },
    {
      "cell_type": "markdown",
      "source": [
        "You are already familiar with the concept. A loop is used to iterate over a sequence (such as a list, tuple, dictionary, set, or string) or any iterable object."
      ],
      "metadata": {
        "id": "2TcfHmF_xhMp"
      }
    },
    {
      "cell_type": "markdown",
      "source": [
        "The syntax in python is a bit different than MATLAB.\n",
        "\n",
        "It looks like this -  \n",
        "\n",
        "    for variable in sequence:\n",
        "          Code block to execute for each item"
      ],
      "metadata": {
        "id": "uYS3paksxq_O"
      }
    },
    {
      "cell_type": "code",
      "execution_count": null,
      "metadata": {
        "id": "-8fJuXoOw87D"
      },
      "outputs": [],
      "source": [
        "fruits = [\"apple\", \"banana\", \"cherry\"]"
      ]
    },
    {
      "cell_type": "code",
      "source": [
        "for ii in fruits:\n",
        "  print(ii[0:2])\n",
        "\n",
        "# here, ii holds the items (not the index) in the list one by one\n",
        "# in MATLAB, we iterate using index. But in python, we iterate directly over items"
      ],
      "metadata": {
        "colab": {
          "base_uri": "https://localhost:8080/"
        },
        "id": "gxN_MVWLx8yA",
        "outputId": "e324a569-f7fc-4ab8-cb40-ef13209c98f6"
      },
      "execution_count": null,
      "outputs": [
        {
          "output_type": "stream",
          "name": "stdout",
          "text": [
            "ap\n",
            "ba\n",
            "ch\n"
          ]
        }
      ]
    },
    {
      "cell_type": "code",
      "source": [
        "for j in fruits:\n",
        "  print(j.replace('a','*'))"
      ],
      "metadata": {
        "colab": {
          "base_uri": "https://localhost:8080/"
        },
        "id": "TO9n5mkT3Oth",
        "outputId": "4a869c8d-899f-4a10-ae62-374cad8869ce"
      },
      "execution_count": null,
      "outputs": [
        {
          "output_type": "stream",
          "name": "stdout",
          "text": [
            "*pple\n",
            "b*n*n*\n",
            "cherry\n"
          ]
        }
      ]
    },
    {
      "cell_type": "code",
      "source": [
        "for i in fruits:\n",
        "  for j in i:\n",
        "    print(j)\n"
      ],
      "metadata": {
        "colab": {
          "base_uri": "https://localhost:8080/"
        },
        "id": "cmrEVPqe3xkU",
        "outputId": "537d1533-a7fc-4aee-98d0-d44f1acf33f0"
      },
      "execution_count": null,
      "outputs": [
        {
          "output_type": "stream",
          "name": "stdout",
          "text": [
            "a\n",
            "p\n",
            "p\n",
            "l\n",
            "e\n",
            "b\n",
            "a\n",
            "n\n",
            "a\n",
            "n\n",
            "a\n",
            "c\n",
            "h\n",
            "e\n",
            "r\n",
            "r\n",
            "y\n"
          ]
        }
      ]
    },
    {
      "cell_type": "markdown",
      "source": [
        "## *Using range*"
      ],
      "metadata": {
        "id": "UwYEb8533prO"
      }
    },
    {
      "cell_type": "markdown",
      "source": [
        "To use numerical index, you can use the range function."
      ],
      "metadata": {
        "id": "sLlEwROa4w9r"
      }
    },
    {
      "cell_type": "code",
      "source": [
        "range(5)"
      ],
      "metadata": {
        "colab": {
          "base_uri": "https://localhost:8080/"
        },
        "id": "DIva5yyY6YE9",
        "outputId": "2dceff16-0908-4a21-ddf6-759e32131618"
      },
      "execution_count": null,
      "outputs": [
        {
          "output_type": "execute_result",
          "data": {
            "text/plain": [
              "range(0, 5)"
            ]
          },
          "metadata": {},
          "execution_count": 17
        }
      ]
    },
    {
      "cell_type": "code",
      "source": [
        "list(range(5))"
      ],
      "metadata": {
        "colab": {
          "base_uri": "https://localhost:8080/"
        },
        "id": "GC05pcTk6Z3Z",
        "outputId": "dcbbdc99-2244-4808-994b-ab69b94e04c9"
      },
      "execution_count": null,
      "outputs": [
        {
          "output_type": "execute_result",
          "data": {
            "text/plain": [
              "[0, 1, 2, 3, 4]"
            ]
          },
          "metadata": {},
          "execution_count": 18
        }
      ]
    },
    {
      "cell_type": "code",
      "source": [
        "for i in range(5):\n",
        "    print(i)"
      ],
      "metadata": {
        "colab": {
          "base_uri": "https://localhost:8080/"
        },
        "id": "shyEMOTo4rj2",
        "outputId": "16c0fdc2-4b24-4c5d-ac03-baeefd22a16b"
      },
      "execution_count": null,
      "outputs": [
        {
          "output_type": "stream",
          "name": "stdout",
          "text": [
            "0\n",
            "1\n",
            "2\n",
            "3\n",
            "4\n"
          ]
        }
      ]
    },
    {
      "cell_type": "markdown",
      "source": [
        "## *Examples*"
      ],
      "metadata": {
        "id": "Qr5miiuj8sQZ"
      }
    },
    {
      "cell_type": "code",
      "source": [
        "numbers = [11, 20, 30, 44, 55, 16, 71, 83, 93, 103]\n",
        "even_numbers = []\n",
        "odd_numbers = []\n",
        "\n",
        "for num in numbers:\n",
        "    if num % 2 == 0:\n",
        "        even_numbers.append(num)\n",
        "    else:\n",
        "        odd_numbers.append(num)\n",
        "\n",
        "print(\"Even Numbers:\", even_numbers)\n",
        "print(\"Odd Numbers:\", odd_numbers)\n"
      ],
      "metadata": {
        "colab": {
          "base_uri": "https://localhost:8080/"
        },
        "id": "345vzrMx40qT",
        "outputId": "754a1bd2-2a96-4527-d826-80aacbd6a0f7"
      },
      "execution_count": null,
      "outputs": [
        {
          "output_type": "stream",
          "name": "stdout",
          "text": [
            "Even Numbers: [20, 30, 44, 16]\n",
            "Odd Numbers: [11, 55, 71, 83, 93, 103]\n"
          ]
        }
      ]
    },
    {
      "cell_type": "code",
      "source": [
        "# Fibonacci sequence\n",
        "n_terms = 10\n",
        "fib_sequence = [0, 1]\n",
        "\n",
        "for i in range(2, n_terms):\n",
        "    next_term = fib_sequence[i-1] + fib_sequence[i-2]\n",
        "    fib_sequence.append(next_term)\n",
        "\n",
        "print(\"Fibonacci Sequence:\", fib_sequence)\n"
      ],
      "metadata": {
        "colab": {
          "base_uri": "https://localhost:8080/"
        },
        "id": "-ZJ7d-1O8jDD",
        "outputId": "ddb82592-60f7-441a-8a0d-730d64ca0c55"
      },
      "execution_count": null,
      "outputs": [
        {
          "output_type": "stream",
          "name": "stdout",
          "text": [
            "Fibonacci Sequence: [0, 1, 1, 2, 3, 5, 8, 13, 21, 34]\n"
          ]
        }
      ]
    },
    {
      "cell_type": "markdown",
      "source": [
        "## *While*"
      ],
      "metadata": {
        "id": "LAKUSfmj81Ct"
      }
    },
    {
      "cell_type": "code",
      "source": [
        "count = 0\n",
        "\n",
        "while count < 5:\n",
        "    print(\"Count:\", count)\n",
        "    count += 1                   # this is equivalent to count=count+1"
      ],
      "metadata": {
        "colab": {
          "base_uri": "https://localhost:8080/"
        },
        "id": "VMDBS2G682w9",
        "outputId": "dccfad9b-5f89-4621-c462-a281c4d459be"
      },
      "execution_count": null,
      "outputs": [
        {
          "output_type": "stream",
          "name": "stdout",
          "text": [
            "Count: 0\n",
            "Count: 1\n",
            "Count: 2\n",
            "Count: 3\n",
            "Count: 4\n"
          ]
        }
      ]
    },
    {
      "cell_type": "code",
      "source": [
        "count = 0\n",
        "\n",
        "while True:\n",
        "    print(\"Count:\", count)\n",
        "    count += 1\n",
        "\n",
        "    if count == 3:\n",
        "        print(\"Breaking out of the loop.\")\n",
        "        break\n"
      ],
      "metadata": {
        "colab": {
          "base_uri": "https://localhost:8080/"
        },
        "id": "ZuESynTW9JcV",
        "outputId": "68c83b6a-cb34-4954-aaa1-c20105d3f815"
      },
      "execution_count": null,
      "outputs": [
        {
          "output_type": "stream",
          "name": "stdout",
          "text": [
            "Count: 0\n",
            "Count: 1\n",
            "Count: 2\n",
            "Breaking out of the loop.\n"
          ]
        }
      ]
    },
    {
      "cell_type": "markdown",
      "source": [
        "# Python Class"
      ],
      "metadata": {
        "id": "x35h5bSXgqu1"
      }
    },
    {
      "cell_type": "markdown",
      "source": [
        "A class is a blueprint for creating objects. Let's try and understand the underlying concept.\n",
        "\n",
        "Consider an apple. It has certain properties like color, weight. You can also perform some operations on it such as slicing. So, this apple is an object just like a list or a string or a dictionary.\n",
        "\n",
        "An object is an instance of a class, which acts as a blueprint or template for creating objects.\n",
        "\n",
        "Analogy: Think of a class as a blueprint for a house. The blueprint defines the structure of the house (rooms, windows, doors), but it doesn’t represent a physical house. When you build a house based on that blueprint, that house is an object. You can build multiple houses (objects) from the same blueprint (class), each with specific attributes like color, number of floors, etc.\n"
      ],
      "metadata": {
        "id": "S_ZTwuZog2OB"
      }
    },
    {
      "cell_type": "markdown",
      "source": [
        "##*Why use Class?*"
      ],
      "metadata": {
        "id": "NYJL2-Rhix6P"
      }
    },
    {
      "cell_type": "markdown",
      "source": [
        "\n",
        "\n",
        "*   Modularity: Classes help break down complex problems into smaller, more manageable parts, each with its own responsibilities.\n",
        "*   Reusability: Once a class is defined, you can create multiple objects from it and reuse its functionality without rewriting the same code.\n",
        "* Maintainability: Encapsulation ensures that objects' internal states are protected, and inheritance helps avoid redundant code, making the code easier to maintain.\n",
        "* Flexibility: Through polymorphism and inheritance, you can build systems that are more flexible and adaptable to changes.\n",
        "\n",
        "\n",
        "\n",
        "\n"
      ],
      "metadata": {
        "id": "uk57nEgKi1LQ"
      }
    },
    {
      "cell_type": "markdown",
      "source": [
        "##*Object-Oriented Programming*"
      ],
      "metadata": {
        "id": "ihBVcGuHjAVE"
      }
    },
    {
      "cell_type": "markdown",
      "source": [
        "Python is an Object-Oriented Programming (OOP) language. But it also supports functional programming. Everything in Python is basically considered an object.\n",
        "\n",
        "OOP is a programming paradigm where code is organized into \"objects.\" Objects are instances of classes, which bundle data and methods (functions) together to model real-world entities or concepts. OOP allows for better organization, reusability, and scalability of code by using key principles like encapsulation, inheritance, polymorphism, and abstraction."
      ],
      "metadata": {
        "id": "ae1g8ezxjHG9"
      }
    },
    {
      "cell_type": "markdown",
      "source": [
        "## *Class and object*"
      ],
      "metadata": {
        "id": "oG1hGq5RQico"
      }
    },
    {
      "cell_type": "markdown",
      "source": [
        "\n",
        "\n",
        "*   Class: A class is a blueprint or template for creating objects. It defines the properties (data) and behaviors (methods) that the objects created from the class will have.\n",
        "*   Object: An object is an instance of a class. When a class is defined, no memory is allocated until you create an object (instantiate the class).\n",
        "\n"
      ],
      "metadata": {
        "id": "H-geiHXIQnfn"
      }
    },
    {
      "cell_type": "markdown",
      "source": [
        "##*Creating a Class*"
      ],
      "metadata": {
        "id": "MzN7Gxivjub9"
      }
    },
    {
      "cell_type": "markdown",
      "source": [
        "    class name:\n",
        "        # Statement"
      ],
      "metadata": {
        "id": "_HanvQ3CQMgj"
      }
    },
    {
      "cell_type": "markdown",
      "source": [
        "**Version-01**"
      ],
      "metadata": {
        "id": "r3N5MdAlY3CB"
      }
    },
    {
      "cell_type": "code",
      "source": [
        "class Wolf:\n",
        "  color = 'White'\n",
        "  sound = 'howl'\n",
        "\n",
        "  def proclaim(self):\n",
        "    print(f\"He is the {self.color} wolf\")\n",
        "\n",
        "# A class holds two things - the properties and the methods."
      ],
      "metadata": {
        "id": "1OscyeK_RZr9"
      },
      "execution_count": 3,
      "outputs": []
    },
    {
      "cell_type": "code",
      "source": [
        "Jon = Wolf()\n",
        "Jon\n",
        "# This is called instantiating a class\n",
        "# Here, Jon is an object that we created"
      ],
      "metadata": {
        "colab": {
          "base_uri": "https://localhost:8080/"
        },
        "id": "xblQSx4_TNR9",
        "outputId": "99e10c17-d6a8-44c4-9b30-906055d9dc71"
      },
      "execution_count": 4,
      "outputs": [
        {
          "output_type": "execute_result",
          "data": {
            "text/plain": [
              "<__main__.Wolf at 0x7c7b5fede290>"
            ]
          },
          "metadata": {},
          "execution_count": 4
        }
      ]
    },
    {
      "cell_type": "code",
      "source": [
        "Jon.color\n",
        "# The object we created has the property of the original class"
      ],
      "metadata": {
        "colab": {
          "base_uri": "https://localhost:8080/",
          "height": 36
        },
        "id": "L-LjbkEcTUoC",
        "outputId": "18e613ba-80bc-4367-e0e1-ffc238eafb86"
      },
      "execution_count": 5,
      "outputs": [
        {
          "output_type": "execute_result",
          "data": {
            "text/plain": [
              "'White'"
            ],
            "application/vnd.google.colaboratory.intrinsic+json": {
              "type": "string"
            }
          },
          "metadata": {},
          "execution_count": 5
        }
      ]
    },
    {
      "cell_type": "code",
      "source": [
        "Jon.proclaim()\n",
        "# calling on a method on the object we created"
      ],
      "metadata": {
        "colab": {
          "base_uri": "https://localhost:8080/"
        },
        "id": "DO_XJYXQTdaY",
        "outputId": "7d719e68-c566-4f23-95f3-0e794d2455af"
      },
      "execution_count": 6,
      "outputs": [
        {
          "output_type": "stream",
          "name": "stdout",
          "text": [
            "He is the White wolf\n"
          ]
        }
      ]
    },
    {
      "cell_type": "markdown",
      "source": [
        "I can create many such 'instances' using the blueprint (class). All those instances (objects) will have the property and functions of the class."
      ],
      "metadata": {
        "id": "P7j_CB2GO8Bh"
      }
    },
    {
      "cell_type": "code",
      "source": [
        "Bran = Wolf()\n",
        "Bran.sound"
      ],
      "metadata": {
        "colab": {
          "base_uri": "https://localhost:8080/",
          "height": 36
        },
        "id": "CjOWWDaUU5OS",
        "outputId": "0e7d7cfe-ad64-42f1-bf87-eefe5915de08"
      },
      "execution_count": 7,
      "outputs": [
        {
          "output_type": "execute_result",
          "data": {
            "text/plain": [
              "'howl'"
            ],
            "application/vnd.google.colaboratory.intrinsic+json": {
              "type": "string"
            }
          },
          "metadata": {},
          "execution_count": 7
        }
      ]
    },
    {
      "cell_type": "code",
      "source": [
        "Bran.proclaim()"
      ],
      "metadata": {
        "colab": {
          "base_uri": "https://localhost:8080/"
        },
        "id": "P2_MPSh_VFRp",
        "outputId": "40ca3357-4485-4888-abf3-34786f4087da"
      },
      "execution_count": 8,
      "outputs": [
        {
          "output_type": "stream",
          "name": "stdout",
          "text": [
            "He is the White wolf\n"
          ]
        }
      ]
    },
    {
      "cell_type": "markdown",
      "source": [
        "But Bran's wolf has a different color.\n",
        "\n",
        "Different objects of the same category (wolf) can have different properties. How to incorporate that?"
      ],
      "metadata": {
        "id": "Om6QxZjcWODV"
      }
    },
    {
      "cell_type": "markdown",
      "source": [
        "**Version-02**"
      ],
      "metadata": {
        "id": "Lp4x36o9Y8gq"
      }
    },
    {
      "cell_type": "code",
      "source": [
        "class Wolf_v2:\n",
        "  sound = 'howl'\n",
        "\n",
        "  def __init__(self, color):\n",
        "    self.color = color\n",
        "\n",
        "        # The __init__ method is what we call a constructor. The method is useful to do any initialization you want to do with your object.\n",
        "\n",
        "  def proclaim(self):\n",
        "    print(f\"He is the {self.color} wolf\")"
      ],
      "metadata": {
        "id": "0G-yShvIWf-l"
      },
      "execution_count": 9,
      "outputs": []
    },
    {
      "cell_type": "code",
      "source": [
        "Bran_v2 = Wolf_v2('Brown')\n",
        "\n",
        "print(Bran_v2.color)\n",
        "print(Bran_v2.sound)"
      ],
      "metadata": {
        "colab": {
          "base_uri": "https://localhost:8080/"
        },
        "id": "YOv4_GhgXAqd",
        "outputId": "2a1c2034-7064-4a9b-d5bc-9e50cd829d04"
      },
      "execution_count": 10,
      "outputs": [
        {
          "output_type": "stream",
          "name": "stdout",
          "text": [
            "Brown\n",
            "howl\n"
          ]
        }
      ]
    },
    {
      "cell_type": "code",
      "source": [
        "Bran_v2.proclaim()"
      ],
      "metadata": {
        "colab": {
          "base_uri": "https://localhost:8080/"
        },
        "id": "3tLRSQJbXNZg",
        "outputId": "c3c869f5-a0a9-4f63-904d-d48d3c1b1b44"
      },
      "execution_count": 11,
      "outputs": [
        {
          "output_type": "stream",
          "name": "stdout",
          "text": [
            "He is the Brown wolf\n"
          ]
        }
      ]
    },
    {
      "cell_type": "markdown",
      "source": [
        "So, we can have two types of properties/variable. One is class variables (common for all instances) and the other is instance variable (object specific)."
      ],
      "metadata": {
        "id": "5zbcIC9OXWvW"
      }
    },
    {
      "cell_type": "markdown",
      "source": [
        "**Version-03**"
      ],
      "metadata": {
        "id": "h7r6Mc8SY-4y"
      }
    },
    {
      "cell_type": "code",
      "source": [
        "class Wolf_v3:\n",
        "  sound = 'howl'\n",
        "\n",
        "  def __init__(self, color):\n",
        "    self.color = color\n",
        "\n",
        "  def proclaim(self, name):\n",
        "    self.name = name\n",
        "    print(f\"He is the {self.name} wolf\")"
      ],
      "metadata": {
        "id": "MhaWJ7geYVxx"
      },
      "execution_count": 23,
      "outputs": []
    },
    {
      "cell_type": "code",
      "source": [
        "Jon= Wolf_v3()\n",
        "# to define that class, it needs one mandatory variable"
      ],
      "metadata": {
        "colab": {
          "base_uri": "https://localhost:8080/",
          "height": 141
        },
        "id": "kYO_ghNIYjL9",
        "outputId": "b12a3edf-6251-4efa-ce27-77166e16ca7b"
      },
      "execution_count": 13,
      "outputs": [
        {
          "output_type": "error",
          "ename": "TypeError",
          "evalue": "Wolf_v3.__init__() missing 1 required positional argument: 'color'",
          "traceback": [
            "\u001b[0;31m---------------------------------------------------------------------------\u001b[0m",
            "\u001b[0;31mTypeError\u001b[0m                                 Traceback (most recent call last)",
            "\u001b[0;32m<ipython-input-13-0f3bccef0396>\u001b[0m in \u001b[0;36m<cell line: 1>\u001b[0;34m()\u001b[0m\n\u001b[0;32m----> 1\u001b[0;31m \u001b[0mJon\u001b[0m\u001b[0;34m=\u001b[0m \u001b[0mWolf_v3\u001b[0m\u001b[0;34m(\u001b[0m\u001b[0;34m)\u001b[0m\u001b[0;34m\u001b[0m\u001b[0;34m\u001b[0m\u001b[0m\n\u001b[0m",
            "\u001b[0;31mTypeError\u001b[0m: Wolf_v3.__init__() missing 1 required positional argument: 'color'"
          ]
        }
      ]
    },
    {
      "cell_type": "code",
      "source": [
        "Rob=Wolf_v3('Gray')"
      ],
      "metadata": {
        "id": "CLXjklN1Yo2H"
      },
      "execution_count": 24,
      "outputs": []
    },
    {
      "cell_type": "code",
      "source": [
        "Rob.color"
      ],
      "metadata": {
        "colab": {
          "base_uri": "https://localhost:8080/",
          "height": 36
        },
        "id": "FMBEP5flZIN_",
        "outputId": "0f5d1672-52c7-4c5b-9103-e56397d55605"
      },
      "execution_count": 25,
      "outputs": [
        {
          "output_type": "execute_result",
          "data": {
            "text/plain": [
              "'Gray'"
            ],
            "application/vnd.google.colaboratory.intrinsic+json": {
              "type": "string"
            }
          },
          "metadata": {},
          "execution_count": 25
        }
      ]
    },
    {
      "cell_type": "code",
      "source": [
        "Rob.proclaim()"
      ],
      "metadata": {
        "colab": {
          "base_uri": "https://localhost:8080/",
          "height": 141
        },
        "id": "mkdbcTuBZL9F",
        "outputId": "ed4f68c4-5d29-4cf2-f38d-9a74579baf7e"
      },
      "execution_count": 26,
      "outputs": [
        {
          "output_type": "error",
          "ename": "TypeError",
          "evalue": "Wolf_v3.proclaim() missing 1 required positional argument: 'name'",
          "traceback": [
            "\u001b[0;31m---------------------------------------------------------------------------\u001b[0m",
            "\u001b[0;31mTypeError\u001b[0m                                 Traceback (most recent call last)",
            "\u001b[0;32m<ipython-input-26-b4dfda3a67ef>\u001b[0m in \u001b[0;36m<cell line: 1>\u001b[0;34m()\u001b[0m\n\u001b[0;32m----> 1\u001b[0;31m \u001b[0mRob\u001b[0m\u001b[0;34m.\u001b[0m\u001b[0mproclaim\u001b[0m\u001b[0;34m(\u001b[0m\u001b[0;34m)\u001b[0m\u001b[0;34m\u001b[0m\u001b[0;34m\u001b[0m\u001b[0m\n\u001b[0m",
            "\u001b[0;31mTypeError\u001b[0m: Wolf_v3.proclaim() missing 1 required positional argument: 'name'"
          ]
        }
      ]
    },
    {
      "cell_type": "code",
      "source": [
        "Rob.proclaim('young')"
      ],
      "metadata": {
        "colab": {
          "base_uri": "https://localhost:8080/"
        },
        "id": "tndQcWwhZQ2D",
        "outputId": "d8f9e392-a36e-4988-968d-d3b5ad3e4932"
      },
      "execution_count": 27,
      "outputs": [
        {
          "output_type": "stream",
          "name": "stdout",
          "text": [
            "He is the young wolf\n"
          ]
        }
      ]
    },
    {
      "cell_type": "markdown",
      "source": [
        "## *Example*"
      ],
      "metadata": {
        "id": "36EUriFzatWg"
      }
    },
    {
      "cell_type": "code",
      "source": [
        "class Room:\n",
        "    length = 1\n",
        "    breadth = 1\n",
        "    color = 'off-white'\n",
        "\n",
        "    # method to calculate area\n",
        "    def calculate_area(self):\n",
        "        print(\"Area of Room =\", self.length * self.breadth)\n"
      ],
      "metadata": {
        "id": "jOiv42UuawQb"
      },
      "execution_count": 1,
      "outputs": []
    },
    {
      "cell_type": "code",
      "source": [
        "# create object of Room class\n",
        "my_room = Room()\n",
        "\n",
        "my_room.calculate_area()"
      ],
      "metadata": {
        "colab": {
          "base_uri": "https://localhost:8080/"
        },
        "id": "eQsXFLR1a4y3",
        "outputId": "7f4c536c-6e73-4e70-d53c-aa5d08dc3968"
      },
      "execution_count": 2,
      "outputs": [
        {
          "output_type": "stream",
          "name": "stdout",
          "text": [
            "Area of Room = 1\n"
          ]
        }
      ]
    },
    {
      "cell_type": "code",
      "source": [
        "my_room.color"
      ],
      "metadata": {
        "colab": {
          "base_uri": "https://localhost:8080/",
          "height": 36
        },
        "id": "JVslccICgG79",
        "outputId": "c47f117d-5b42-4340-ac0f-873d321ecbfb"
      },
      "execution_count": 3,
      "outputs": [
        {
          "output_type": "execute_result",
          "data": {
            "text/plain": [
              "'off-white'"
            ],
            "application/vnd.google.colaboratory.intrinsic+json": {
              "type": "string"
            }
          },
          "metadata": {},
          "execution_count": 3
        }
      ]
    },
    {
      "cell_type": "code",
      "source": [
        "# you can assign different values to your instances\n",
        "my_room.length = 10\n",
        "my_room.breadth = 20\n",
        "\n",
        "my_room.calculate_area()"
      ],
      "metadata": {
        "colab": {
          "base_uri": "https://localhost:8080/"
        },
        "id": "iF8E4nBYbH3C",
        "outputId": "922cced4-4edc-4a1d-f677-d63392e9e890"
      },
      "execution_count": 4,
      "outputs": [
        {
          "output_type": "stream",
          "name": "stdout",
          "text": [
            "Area of Room = 200\n"
          ]
        }
      ]
    },
    {
      "cell_type": "markdown",
      "source": [
        "# Inheritence"
      ],
      "metadata": {
        "id": "odlNqjfdfUCz"
      }
    },
    {
      "cell_type": "markdown",
      "source": [
        "Python supports class inheritance. It allows us to create a new class from an existing one.\n",
        "\n",
        "*   The newly created class is known as the subclass or child class.\n",
        "*   The existing class from which the child class inherits is known as the superclass or parent class.\n",
        "\n"
      ],
      "metadata": {
        "id": "ZTrhOdlVfWjG"
      }
    },
    {
      "cell_type": "code",
      "source": [
        "class Bath(Room):\n",
        "  element = ['shower', 'bathtub', 'towels']\n",
        "\n",
        "  def __init__(self, bathtub_area):\n",
        "     super().__init__()\n",
        "     self.bathtub_area = bathtub_area\n",
        "\n",
        "#  To access the superclass method from the subclass, we use the super() function.\n"
      ],
      "metadata": {
        "id": "X6eVeQpWgKnK"
      },
      "execution_count": 5,
      "outputs": []
    },
    {
      "cell_type": "code",
      "source": [
        "bath_01= Bath(10)"
      ],
      "metadata": {
        "id": "MgbCNJTYh7Wr"
      },
      "execution_count": 6,
      "outputs": []
    },
    {
      "cell_type": "code",
      "source": [
        "bath_01.element"
      ],
      "metadata": {
        "colab": {
          "base_uri": "https://localhost:8080/"
        },
        "id": "_0Vb7JXLiFLm",
        "outputId": "07abc206-fadd-45fe-f6d2-23577861d417"
      },
      "execution_count": 7,
      "outputs": [
        {
          "output_type": "execute_result",
          "data": {
            "text/plain": [
              "['shower', 'bathtub', 'towels']"
            ]
          },
          "metadata": {},
          "execution_count": 7
        }
      ]
    },
    {
      "cell_type": "code",
      "source": [
        "bath_01.color"
      ],
      "metadata": {
        "colab": {
          "base_uri": "https://localhost:8080/",
          "height": 36
        },
        "id": "vbRmSKHziIKB",
        "outputId": "02af169a-d727-4a1d-ef52-398060e9d821"
      },
      "execution_count": 8,
      "outputs": [
        {
          "output_type": "execute_result",
          "data": {
            "text/plain": [
              "'off-white'"
            ],
            "application/vnd.google.colaboratory.intrinsic+json": {
              "type": "string"
            }
          },
          "metadata": {},
          "execution_count": 8
        }
      ]
    },
    {
      "cell_type": "code",
      "source": [
        "bath_01.bathtub_area"
      ],
      "metadata": {
        "colab": {
          "base_uri": "https://localhost:8080/"
        },
        "id": "amjJhjiviPY7",
        "outputId": "9ecbf550-4324-4f27-c65d-f08dcc6653c4"
      },
      "execution_count": 9,
      "outputs": [
        {
          "output_type": "execute_result",
          "data": {
            "text/plain": [
              "10"
            ]
          },
          "metadata": {},
          "execution_count": 9
        }
      ]
    },
    {
      "cell_type": "code",
      "source": [
        "bath_01.length = 5\n",
        "bath_01.breadth = 5\n",
        "bath_01.calculate_area()"
      ],
      "metadata": {
        "colab": {
          "base_uri": "https://localhost:8080/"
        },
        "id": "7eBTS2BLiR5g",
        "outputId": "23312cd4-e5fa-4b5f-f540-43a597a7549a"
      },
      "execution_count": 10,
      "outputs": [
        {
          "output_type": "stream",
          "name": "stdout",
          "text": [
            "Area of Room = 25\n"
          ]
        }
      ]
    },
    {
      "cell_type": "markdown",
      "source": [
        "## *Method overriding*"
      ],
      "metadata": {
        "id": "xJ6JqpGJjEnv"
      }
    },
    {
      "cell_type": "code",
      "source": [
        "class Bath_v2(Room):\n",
        "  element = ['shower', 'bathtub', 'towels']\n",
        "\n",
        "  def __init__(self, bathtub_area):\n",
        "     super().__init__()\n",
        "     self.bathtub_area = bathtub_area\n",
        "\n",
        "  def calculate_area(self):\n",
        "    print(\"Area of Bath =\", self.bathtub_area*2)\n"
      ],
      "metadata": {
        "id": "3hG50Ud6jHgI"
      },
      "execution_count": 15,
      "outputs": []
    },
    {
      "cell_type": "code",
      "source": [
        "bath_02= Bath_v2(20)"
      ],
      "metadata": {
        "id": "F2RvV7KPjbSj"
      },
      "execution_count": 16,
      "outputs": []
    },
    {
      "cell_type": "code",
      "source": [
        "bath_02.calculate_area()"
      ],
      "metadata": {
        "colab": {
          "base_uri": "https://localhost:8080/"
        },
        "id": "tYY-M49KjfW5",
        "outputId": "97eac80b-622b-4e60-fb59-d827f92d1636"
      },
      "execution_count": 17,
      "outputs": [
        {
          "output_type": "stream",
          "name": "stdout",
          "text": [
            "Area of Bath = 40\n"
          ]
        }
      ]
    },
    {
      "cell_type": "markdown",
      "source": [
        "If the same method is present in both the superclass and subclass, the method in the subclass overrides the method in the superclass."
      ],
      "metadata": {
        "id": "JLJx6S_HjlOy"
      }
    },
    {
      "cell_type": "markdown",
      "source": [
        "## *Super*"
      ],
      "metadata": {
        "id": "MqyaQy8zjxqJ"
      }
    },
    {
      "cell_type": "code",
      "source": [
        "class Bath_v3(Room):\n",
        "  element = ['shower', 'bathtub', 'towels']\n",
        "\n",
        "  def __init__(self, bathtub_area):\n",
        "     self.bathtub_area = bathtub_area\n",
        "\n",
        "  def calculate_area(self):\n",
        "    super().calculate_area()\n",
        "    print(\"Area of Bath =\", self.bathtub_area*5)"
      ],
      "metadata": {
        "id": "nRWsA-KFj9GF"
      },
      "execution_count": 28,
      "outputs": []
    },
    {
      "cell_type": "code",
      "source": [
        "bath_03= Bath_v3(25)"
      ],
      "metadata": {
        "id": "aNPk2987kA3r"
      },
      "execution_count": 29,
      "outputs": []
    },
    {
      "cell_type": "code",
      "source": [
        "bath_03.length"
      ],
      "metadata": {
        "colab": {
          "base_uri": "https://localhost:8080/"
        },
        "id": "HHrXKSARkHua",
        "outputId": "c188d9b7-4238-4220-845a-92e306a7f7c4"
      },
      "execution_count": 30,
      "outputs": [
        {
          "output_type": "execute_result",
          "data": {
            "text/plain": [
              "1"
            ]
          },
          "metadata": {},
          "execution_count": 30
        }
      ]
    },
    {
      "cell_type": "code",
      "source": [
        "bath_03.length = 5\n",
        "bath_03.breadth = 15"
      ],
      "metadata": {
        "id": "NDcMVqPPkPDl"
      },
      "execution_count": 31,
      "outputs": []
    },
    {
      "cell_type": "code",
      "source": [
        "bath_03.calculate_area()"
      ],
      "metadata": {
        "colab": {
          "base_uri": "https://localhost:8080/"
        },
        "id": "g1whmTEgkKlr",
        "outputId": "7487f3e4-9a8b-4b7a-d1da-a045f2bde567"
      },
      "execution_count": 32,
      "outputs": [
        {
          "output_type": "stream",
          "name": "stdout",
          "text": [
            "Area of Room = 75\n",
            "Area of Bath = 125\n"
          ]
        }
      ]
    },
    {
      "cell_type": "markdown",
      "source": [
        "There are different types of inheritance in Python such as single, multiple, multilevel, etc."
      ],
      "metadata": {
        "id": "mzkQ02N0lxcX"
      }
    },
    {
      "cell_type": "markdown",
      "source": [
        "## *Example*"
      ],
      "metadata": {
        "id": "y6h_M15VmDEU"
      }
    },
    {
      "cell_type": "code",
      "source": [
        "class Parrot:\n",
        "\n",
        "    # class attribute\n",
        "    name = \" \"\n",
        "    age = 2\n",
        "\n",
        "# create parrot1 object\n",
        "parrot1 = Parrot()\n",
        "parrot1.name = \"Blu\"\n",
        "parrot1.age = 10\n",
        "\n",
        "# create another object parrot2\n",
        "parrot2 = Parrot()\n",
        "parrot2.name = \"Woo\"\n",
        "parrot2.age = 15\n",
        "\n",
        "parrot3 = Parrot()\n",
        "\n",
        "# access attributes\n",
        "print(f\"{parrot1.name} is {parrot1.age} years old\")\n",
        "print(f\"{parrot2.name} is {parrot2.age} years old\")\n",
        "print(f\"{parrot3.name} is {parrot3.age} years old\")"
      ],
      "metadata": {
        "colab": {
          "base_uri": "https://localhost:8080/"
        },
        "id": "bN9vLs93mNz0",
        "outputId": "79fb029b-b6c1-428f-996a-b51b1fcdf3bf"
      },
      "execution_count": 34,
      "outputs": [
        {
          "output_type": "stream",
          "name": "stdout",
          "text": [
            "Blu is 10 years old\n",
            "Woo is 15 years old\n",
            "  is 2 years old\n"
          ]
        }
      ]
    },
    {
      "cell_type": "markdown",
      "source": [
        "## *Encapsulation*"
      ],
      "metadata": {
        "id": "_2vPWOjgo6vx"
      }
    },
    {
      "cell_type": "markdown",
      "source": [
        "It prevents outer classes from accessing and changing attributes and methods of a class."
      ],
      "metadata": {
        "id": "JYZ2nJBAo9xL"
      }
    },
    {
      "cell_type": "code",
      "source": [
        "class Room_v2:\n",
        "    length = 1\n",
        "    breadth = 1\n",
        "\n",
        "    def __init__(self):\n",
        "      self.__color = 'off-white'\n",
        "\n",
        "    # method to calculate area\n",
        "    def calculate_area(self):\n",
        "        print ( \"area:\", self.length * self.breadth)\n",
        "        print ( \"color:\", self.__color)"
      ],
      "metadata": {
        "id": "EvgWsrWmpGPy"
      },
      "execution_count": 42,
      "outputs": []
    },
    {
      "cell_type": "code",
      "source": [
        "room_02 = Room_v2()"
      ],
      "metadata": {
        "id": "UHvLQFQRpZ_s"
      },
      "execution_count": 43,
      "outputs": []
    },
    {
      "cell_type": "code",
      "source": [
        "room_02.breadth"
      ],
      "metadata": {
        "colab": {
          "base_uri": "https://localhost:8080/"
        },
        "id": "44UlNZYJpqGd",
        "outputId": "036b6006-1938-414c-ce57-1cb055466811"
      },
      "execution_count": 44,
      "outputs": [
        {
          "output_type": "execute_result",
          "data": {
            "text/plain": [
              "1"
            ]
          },
          "metadata": {},
          "execution_count": 44
        }
      ]
    },
    {
      "cell_type": "code",
      "source": [
        "room_02.breadth = 40"
      ],
      "metadata": {
        "id": "L1CF1t_LptNW"
      },
      "execution_count": 45,
      "outputs": []
    },
    {
      "cell_type": "code",
      "source": [
        "room_02.calculate_area()"
      ],
      "metadata": {
        "colab": {
          "base_uri": "https://localhost:8080/"
        },
        "id": "_9mbMFE6pw6p",
        "outputId": "75a238f6-2d6d-4f4f-cd2a-08fdffb9b6c9"
      },
      "execution_count": 46,
      "outputs": [
        {
          "output_type": "stream",
          "name": "stdout",
          "text": [
            "area: 40\n",
            "color: off-white\n"
          ]
        }
      ]
    },
    {
      "cell_type": "code",
      "source": [
        "room_02.__color = 'gray'"
      ],
      "metadata": {
        "id": "YhE8_9W_pzuu"
      },
      "execution_count": 47,
      "outputs": []
    },
    {
      "cell_type": "code",
      "source": [
        "room_02.calculate_area()"
      ],
      "metadata": {
        "colab": {
          "base_uri": "https://localhost:8080/"
        },
        "id": "ODfSa55Lp6Vq",
        "outputId": "6d4e199f-8abe-4ad4-b7bc-f057b948a352"
      },
      "execution_count": 48,
      "outputs": [
        {
          "output_type": "stream",
          "name": "stdout",
          "text": [
            "area: 40\n",
            "color: off-white\n"
          ]
        }
      ]
    },
    {
      "cell_type": "markdown",
      "source": [
        "Here, color is a private variable. To change the value, we have to use a setter function."
      ],
      "metadata": {
        "id": "z2S6aG3OqpVe"
      }
    }
  ]
}