{
  "cells": [
    {
      "cell_type": "markdown",
      "metadata": {
        "id": "CoUsVdddONFW"
      },
      "source": [
        "Prepared By\n",
        "\n",
        "*Asif Newaz, Lecturer, EEE, IUT*"
      ]
    },
    {
      "cell_type": "markdown",
      "source": [
        "# Intro"
      ],
      "metadata": {
        "id": "hMc9_wdcFKHI"
      }
    },
    {
      "cell_type": "markdown",
      "metadata": {
        "id": "I76C7Hyqz8f4"
      },
      "source": [
        "Data Structures are the basic building blocks of a programming language. The first step towards learning a programming language is to understand its data structures i.e. how data can be represented in that programming language.\n"
      ]
    },
    {
      "cell_type": "markdown",
      "metadata": {
        "id": "X2z57xxSL_yS"
      },
      "source": [
        "Python is very easy to understand and quite similar to Matlab programming language that you are familiar with. We will first briefly look at some of the common data structures. Then we will move to some special libraries that we will need for developing an ML system."
      ]
    },
    {
      "cell_type": "markdown",
      "source": [
        "There are many different data structures available in the Python programming language to represent and manipulate data efficiently. Below is a list of some of those and their MATLAB counterpart for your comparison.  "
      ],
      "metadata": {
        "id": "YRTc6ljU-147"
      }
    },
    {
      "cell_type": "markdown",
      "source": [
        "\n",
        "\n",
        "1.   List or array(numpy)  <--> numeric array (matrix), cell array\n",
        "2.   String <--> character array\n",
        "3.   Tuple\n",
        "4.   DataFrame (Pandas) <--> Table\n",
        "5.   Dictionary <--> structure\n",
        "6.   Sets\n",
        "\n"
      ],
      "metadata": {
        "id": "GnyvNFkfAMqN"
      }
    },
    {
      "cell_type": "markdown",
      "source": [
        "If you are completely new to python and want to learn it thoroughly, you can take an online course. My suggestions -\n",
        "\n",
        "\n",
        "*   Python 3 Specialization - University of Michigan - Coursera\n",
        "*   I used to teach Python previously in the 4th semester. You can find the course materials and lectures here - https://github.com/newaz-aa/Learn-Python-Basics\n",
        "\n",
        "\n",
        "If you are not yet comfortable with programming, I would strongly suggest to start with MATLAB (it is very easy to learn). You can take the following course to learn MATLAB efficiently - [Learn MATLAB: A problem-solving approach](https://www.asifnewaz.com/teaching/learn-matlab)\n",
        "\n",
        "\n",
        "---\n",
        "\n"
      ],
      "metadata": {
        "id": "uQQTclRtBeuO"
      }
    },
    {
      "cell_type": "markdown",
      "source": [
        "# List"
      ],
      "metadata": {
        "id": "z3ADeaBEFUPi"
      }
    },
    {
      "cell_type": "markdown",
      "source": [
        "Python Lists are just like the arrays in Matlab. However, it has certain limitations."
      ],
      "metadata": {
        "id": "CjiRdOTXFalX"
      }
    },
    {
      "cell_type": "markdown",
      "source": [
        "It is mutable and can hold elements of different types."
      ],
      "metadata": {
        "id": "5X289HixF0D7"
      }
    },
    {
      "cell_type": "code",
      "execution_count": null,
      "metadata": {
        "colab": {
          "base_uri": "https://localhost:8080/"
        },
        "id": "fbhKhPao0Boa",
        "outputId": "dee3c4c6-aaa0-489f-93f8-793ca494510c"
      },
      "outputs": [
        {
          "output_type": "stream",
          "name": "stdout",
          "text": [
            "[1, 2, 3, 'IUT', 2.3, 'Harry']\n"
          ]
        }
      ],
      "source": [
        "a = [1, 2,  3, \"IUT\", 2.3, 'Harry']\n",
        "print(a)"
      ]
    },
    {
      "cell_type": "markdown",
      "metadata": {
        "id": "FalCYhNG2ZtQ"
      },
      "source": [
        "##**Indexing**\n",
        "\n",
        "Indexing of python lists starts from 0, unlike Matlab where it starts from 1. Also unlike Matlab, you've to use square brackets for indexing. Moreover, python lists support negative indexing."
      ]
    },
    {
      "cell_type": "code",
      "execution_count": null,
      "metadata": {
        "colab": {
          "base_uri": "https://localhost:8080/"
        },
        "id": "NZMg_Vvz2RsE",
        "outputId": "1dc933d8-8fee-4c20-edbf-d0a2e9210154"
      },
      "outputs": [
        {
          "output_type": "stream",
          "name": "stdout",
          "text": [
            "Accessing element from the list\n",
            "1st element: 1\n",
            "4th element: IUT\n"
          ]
        }
      ],
      "source": [
        "# accessing a element from the list using index number\n",
        "print(\"Accessing element from the list\")\n",
        "print(\"1st element:\", a[0])\n",
        "print(\"4th element:\", a[3])"
      ]
    },
    {
      "cell_type": "code",
      "source": [
        "# accessing a element using negative indexing\n",
        "print(\"Accessing element using negative indexing\")\n",
        "\n",
        "# print the last element of list\n",
        "print(\"last element:\", a[-1])\n",
        "\n",
        "# print the third last element of list\n",
        "print(\"third last element:\", a[-3])"
      ],
      "metadata": {
        "colab": {
          "base_uri": "https://localhost:8080/"
        },
        "id": "7Lx58cExHQCm",
        "outputId": "3383a2d5-d5be-44e5-9b20-78ffdfe20c0e"
      },
      "execution_count": null,
      "outputs": [
        {
          "output_type": "stream",
          "name": "stdout",
          "text": [
            "Accessing element using negative indexing\n",
            "last element: Harry\n",
            "third last element: IUT\n"
          ]
        }
      ]
    },
    {
      "cell_type": "markdown",
      "metadata": {
        "id": "yL6OieF_OLkS"
      },
      "source": [
        "It can also contain another list inside it (list of lists). This is how you create a matrix in python."
      ]
    },
    {
      "cell_type": "code",
      "execution_count": null,
      "metadata": {
        "colab": {
          "base_uri": "https://localhost:8080/"
        },
        "id": "NolUYU81O_fz",
        "outputId": "5b29f78b-37b3-4882-e4f0-d1bf68cc6127"
      },
      "outputs": [
        {
          "output_type": "execute_result",
          "data": {
            "text/plain": [
              "[2, 3, [0, 9], [0, 0, 9, 9]]"
            ]
          },
          "metadata": {},
          "execution_count": 4
        }
      ],
      "source": [
        "b= [2,3,[0,9],[0,0,9,9]]\n",
        "b"
      ]
    },
    {
      "cell_type": "markdown",
      "source": [
        "For indexing a list of lists, you can use subset."
      ],
      "metadata": {
        "id": "NNhfiBfZIC7P"
      }
    },
    {
      "cell_type": "code",
      "source": [
        "print(b[-1])"
      ],
      "metadata": {
        "colab": {
          "base_uri": "https://localhost:8080/"
        },
        "id": "kexOEGUfIPar",
        "outputId": "78e8a60c-1e2b-44df-917f-8fa37a0b43b9"
      },
      "execution_count": null,
      "outputs": [
        {
          "output_type": "stream",
          "name": "stdout",
          "text": [
            "[0, 0, 9, 9]\n"
          ]
        }
      ]
    },
    {
      "cell_type": "code",
      "source": [
        "print(b[-1][1])"
      ],
      "metadata": {
        "colab": {
          "base_uri": "https://localhost:8080/"
        },
        "id": "cIycEVfFIfg5",
        "outputId": "c81ae6ae-1ea9-4a68-8ad8-2bc033c7143d"
      },
      "execution_count": null,
      "outputs": [
        {
          "output_type": "stream",
          "name": "stdout",
          "text": [
            "0\n"
          ]
        }
      ]
    },
    {
      "cell_type": "markdown",
      "metadata": {
        "id": "ib9tv1vrNmT3"
      },
      "source": [
        "##**Slicing array**\n",
        "\n",
        "\n",
        "\n",
        "*   Caution: upper bound exclusive ---> does not inlcude the last one\n",
        "*   Negative indexing is also possible\n",
        "*   ':' sign indicates upto\n",
        "\n",
        "\n",
        "\n"
      ]
    },
    {
      "cell_type": "code",
      "execution_count": null,
      "metadata": {
        "colab": {
          "base_uri": "https://localhost:8080/"
        },
        "id": "zzo7_D4kNRM8",
        "outputId": "6e8a8ecd-9395-41c3-d0b2-62c358a31793"
      },
      "outputs": [
        {
          "output_type": "stream",
          "name": "stdout",
          "text": [
            "[1, 2, 3, 'IUT', 2.3, 'Harry']\n",
            "[3, 'IUT']\n",
            "[3, 'IUT', 2.3]\n",
            "[3, 'IUT', 2.3, 'Harry']\n"
          ]
        }
      ],
      "source": [
        "print(a)\n",
        "print(a[2:4])\n",
        "print(a[2:5])\n",
        "print(a[2:])"
      ]
    },
    {
      "cell_type": "code",
      "execution_count": null,
      "metadata": {
        "colab": {
          "base_uri": "https://localhost:8080/"
        },
        "id": "jWCA1hfKPr7l",
        "outputId": "3af6d7d2-8f24-416e-c04f-f567ea45c21b"
      },
      "outputs": [
        {
          "output_type": "stream",
          "name": "stdout",
          "text": [
            "[1, 2, 3, 'IUT']\n",
            "[1, 2, 3, 'IUT', 2.3]\n",
            "[3, 'IUT', 2.3]\n"
          ]
        }
      ],
      "source": [
        "print(a[:4])\n",
        "print(a[:5])\n",
        "print(a[2:-1])"
      ]
    },
    {
      "cell_type": "code",
      "execution_count": null,
      "metadata": {
        "colab": {
          "base_uri": "https://localhost:8080/"
        },
        "id": "PlrYh0LyP-Ze",
        "outputId": "b915f578-9834-443b-df4b-9c9f004b0bcc"
      },
      "outputs": [
        {
          "output_type": "stream",
          "name": "stdout",
          "text": [
            "[]\n"
          ]
        }
      ],
      "source": [
        "print(a[-1:-4])\n",
        "# by default, it goes in the forward direction"
      ]
    },
    {
      "cell_type": "code",
      "source": [
        "a[-4:-1]"
      ],
      "metadata": {
        "colab": {
          "base_uri": "https://localhost:8080/"
        },
        "id": "jQxZBKMLJ0wE",
        "outputId": "16bb67af-8686-486c-e799-0246b69ed51f"
      },
      "execution_count": null,
      "outputs": [
        {
          "output_type": "execute_result",
          "data": {
            "text/plain": [
              "[3, 'IUT', 2.3]"
            ]
          },
          "metadata": {},
          "execution_count": 10
        }
      ]
    },
    {
      "cell_type": "code",
      "source": [
        "a[-1:-4:-1]\n",
        "# the last portion indicates reverse direction"
      ],
      "metadata": {
        "colab": {
          "base_uri": "https://localhost:8080/"
        },
        "id": "zNZTyvQoKU-W",
        "outputId": "60537157-7ae4-4e0d-855f-300448fb40da"
      },
      "execution_count": null,
      "outputs": [
        {
          "output_type": "execute_result",
          "data": {
            "text/plain": [
              "['Harry', 2.3, 'IUT']"
            ]
          },
          "metadata": {},
          "execution_count": 11
        }
      ]
    },
    {
      "cell_type": "code",
      "source": [
        "# you can also jump some steps\n",
        "print (a[-1:-4:-2])\n",
        "print (a[0:-1:3])"
      ],
      "metadata": {
        "colab": {
          "base_uri": "https://localhost:8080/"
        },
        "id": "GHkSprNfLQIv",
        "outputId": "27c346a9-830f-4d30-cc4f-61c5e068e6c8"
      },
      "execution_count": null,
      "outputs": [
        {
          "output_type": "stream",
          "name": "stdout",
          "text": [
            "['Harry', 'IUT']\n",
            "[1, 'IUT']\n"
          ]
        }
      ]
    },
    {
      "cell_type": "markdown",
      "metadata": {
        "id": "mjdhu0FkRd_9"
      },
      "source": [
        "## **Changing array elements**"
      ]
    },
    {
      "cell_type": "code",
      "execution_count": null,
      "metadata": {
        "colab": {
          "base_uri": "https://localhost:8080/"
        },
        "id": "H8XD45AsRTi7",
        "outputId": "2d474474-5639-43d7-f4ab-9bfbcb57b6c7"
      },
      "outputs": [
        {
          "output_type": "stream",
          "name": "stdout",
          "text": [
            "3\n",
            "[1, 2, 'max payne', 'IUT', 2.3, 'Harry']\n"
          ]
        }
      ],
      "source": [
        "a = [1, 2,  3, \"IUT\", 2.3, 'Harry']\n",
        "print(a[2])\n",
        "a[2] = 'max payne'\n",
        "print(a)"
      ]
    },
    {
      "cell_type": "code",
      "execution_count": null,
      "metadata": {
        "colab": {
          "base_uri": "https://localhost:8080/",
          "height": 176
        },
        "id": "efBY6FJQ9rZ_",
        "outputId": "9f5d6348-a9bd-40fd-c624-266ff1a52a51"
      },
      "outputs": [
        {
          "output_type": "error",
          "ename": "IndexError",
          "evalue": "list assignment index out of range",
          "traceback": [
            "\u001b[0;31m---------------------------------------------------------------------------\u001b[0m",
            "\u001b[0;31mIndexError\u001b[0m                                Traceback (most recent call last)",
            "\u001b[0;32m<ipython-input-14-2e442d04b88d>\u001b[0m in \u001b[0;36m<cell line: 1>\u001b[0;34m()\u001b[0m\n\u001b[0;32m----> 1\u001b[0;31m \u001b[0ma\u001b[0m\u001b[0;34m[\u001b[0m\u001b[0;36m6\u001b[0m\u001b[0;34m]\u001b[0m\u001b[0;34m=\u001b[0m\u001b[0;34m'alicient'\u001b[0m\u001b[0;34m\u001b[0m\u001b[0;34m\u001b[0m\u001b[0m\n\u001b[0m\u001b[1;32m      2\u001b[0m \u001b[0ma\u001b[0m\u001b[0;34m\u001b[0m\u001b[0;34m\u001b[0m\u001b[0m\n\u001b[1;32m      3\u001b[0m \u001b[0;31m# understand and remember the error message for easy debugging\u001b[0m\u001b[0;34m\u001b[0m\u001b[0;34m\u001b[0m\u001b[0m\n",
            "\u001b[0;31mIndexError\u001b[0m: list assignment index out of range"
          ]
        }
      ],
      "source": [
        "a[6]='alicient'\n",
        "a\n",
        "# understand and remember the error message for easy debugging"
      ]
    },
    {
      "cell_type": "markdown",
      "source": [
        "## **List Methods**"
      ],
      "metadata": {
        "id": "WpkM3d5ZMC50"
      }
    },
    {
      "cell_type": "code",
      "source": [
        "dir(a)\n",
        "# this will show you all the available methods to your object, which is a list in this case."
      ],
      "metadata": {
        "colab": {
          "base_uri": "https://localhost:8080/"
        },
        "id": "5CHe5Z5aMZBR",
        "outputId": "1e265725-ca7f-49a3-9f1f-48e2fd4412a6"
      },
      "execution_count": null,
      "outputs": [
        {
          "output_type": "execute_result",
          "data": {
            "text/plain": [
              "['__add__',\n",
              " '__class__',\n",
              " '__class_getitem__',\n",
              " '__contains__',\n",
              " '__delattr__',\n",
              " '__delitem__',\n",
              " '__dir__',\n",
              " '__doc__',\n",
              " '__eq__',\n",
              " '__format__',\n",
              " '__ge__',\n",
              " '__getattribute__',\n",
              " '__getitem__',\n",
              " '__gt__',\n",
              " '__hash__',\n",
              " '__iadd__',\n",
              " '__imul__',\n",
              " '__init__',\n",
              " '__init_subclass__',\n",
              " '__iter__',\n",
              " '__le__',\n",
              " '__len__',\n",
              " '__lt__',\n",
              " '__mul__',\n",
              " '__ne__',\n",
              " '__new__',\n",
              " '__reduce__',\n",
              " '__reduce_ex__',\n",
              " '__repr__',\n",
              " '__reversed__',\n",
              " '__rmul__',\n",
              " '__setattr__',\n",
              " '__setitem__',\n",
              " '__sizeof__',\n",
              " '__str__',\n",
              " '__subclasshook__',\n",
              " 'append',\n",
              " 'clear',\n",
              " 'copy',\n",
              " 'count',\n",
              " 'extend',\n",
              " 'index',\n",
              " 'insert',\n",
              " 'pop',\n",
              " 'remove',\n",
              " 'reverse',\n",
              " 'sort']"
            ]
          },
          "metadata": {},
          "execution_count": 15
        }
      ]
    },
    {
      "cell_type": "code",
      "execution_count": null,
      "metadata": {
        "colab": {
          "base_uri": "https://localhost:8080/"
        },
        "id": "ZT-HMs_o9rZ_",
        "outputId": "9ab44740-113d-490b-add5-ff76b821471f"
      },
      "outputs": [
        {
          "output_type": "execute_result",
          "data": {
            "text/plain": [
              "[1, 2, 'max payne', 'IUT', 2.3, 'Harry', 'alicient']"
            ]
          },
          "metadata": {},
          "execution_count": 16
        }
      ],
      "source": [
        "a.append('alicient')\n",
        "a"
      ]
    },
    {
      "cell_type": "code",
      "source": [
        "a.reverse()\n",
        "a"
      ],
      "metadata": {
        "colab": {
          "base_uri": "https://localhost:8080/"
        },
        "id": "OhzJ7X3iNfnO",
        "outputId": "24eb38f9-9afa-448c-a9e8-900f0eccbe56"
      },
      "execution_count": null,
      "outputs": [
        {
          "output_type": "execute_result",
          "data": {
            "text/plain": [
              "['alicient', 'Harry', 2.3, 'IUT', 'max payne', 2, 1]"
            ]
          },
          "metadata": {},
          "execution_count": 17
        }
      ]
    },
    {
      "cell_type": "code",
      "source": [
        "a.count()\n",
        "# does not find the number of items in the list. Check the error message.\n",
        "# it shows the number of times an item appeared in the list"
      ],
      "metadata": {
        "colab": {
          "base_uri": "https://localhost:8080/",
          "height": 176
        },
        "id": "YCsqInZaNsEq",
        "outputId": "cdece803-5d08-4971-b503-04d9cd137a50"
      },
      "execution_count": null,
      "outputs": [
        {
          "output_type": "error",
          "ename": "TypeError",
          "evalue": "list.count() takes exactly one argument (0 given)",
          "traceback": [
            "\u001b[0;31m---------------------------------------------------------------------------\u001b[0m",
            "\u001b[0;31mTypeError\u001b[0m                                 Traceback (most recent call last)",
            "\u001b[0;32m<ipython-input-18-f0922553d9ee>\u001b[0m in \u001b[0;36m<cell line: 1>\u001b[0;34m()\u001b[0m\n\u001b[0;32m----> 1\u001b[0;31m \u001b[0ma\u001b[0m\u001b[0;34m.\u001b[0m\u001b[0mcount\u001b[0m\u001b[0;34m(\u001b[0m\u001b[0;34m)\u001b[0m\u001b[0;34m\u001b[0m\u001b[0;34m\u001b[0m\u001b[0m\n\u001b[0m\u001b[1;32m      2\u001b[0m \u001b[0;31m# does not find the number of items in the list. Check the error message.\u001b[0m\u001b[0;34m\u001b[0m\u001b[0;34m\u001b[0m\u001b[0m\n\u001b[1;32m      3\u001b[0m \u001b[0;31m# it shows the number of times an item appeared in the list\u001b[0m\u001b[0;34m\u001b[0m\u001b[0;34m\u001b[0m\u001b[0m\n",
            "\u001b[0;31mTypeError\u001b[0m: list.count() takes exactly one argument (0 given)"
          ]
        }
      ]
    },
    {
      "cell_type": "code",
      "source": [
        "a.count(1)"
      ],
      "metadata": {
        "colab": {
          "base_uri": "https://localhost:8080/"
        },
        "id": "kovfrqknOKIB",
        "outputId": "3b412608-1db1-47a6-d9c0-78fe9606adc6"
      },
      "execution_count": null,
      "outputs": [
        {
          "output_type": "execute_result",
          "data": {
            "text/plain": [
              "1"
            ]
          },
          "metadata": {},
          "execution_count": 19
        }
      ]
    },
    {
      "cell_type": "code",
      "source": [
        "a.remove(2)\n",
        "a"
      ],
      "metadata": {
        "colab": {
          "base_uri": "https://localhost:8080/"
        },
        "id": "a8kfZU9WjMyU",
        "outputId": "1f9383dd-0ee4-40b6-d6c2-ca293971e9f7"
      },
      "execution_count": null,
      "outputs": [
        {
          "output_type": "execute_result",
          "data": {
            "text/plain": [
              "['alicient', 'Harry', 2.3, 'IUT', 'max payne', 1]"
            ]
          },
          "metadata": {},
          "execution_count": 20
        }
      ]
    },
    {
      "cell_type": "code",
      "source": [
        "a.pop()"
      ],
      "metadata": {
        "colab": {
          "base_uri": "https://localhost:8080/"
        },
        "id": "ImyWqU4njh6N",
        "outputId": "f37b442c-39f6-4c7e-91c5-51868bdf0ae8"
      },
      "execution_count": null,
      "outputs": [
        {
          "output_type": "execute_result",
          "data": {
            "text/plain": [
              "1"
            ]
          },
          "metadata": {},
          "execution_count": 21
        }
      ]
    },
    {
      "cell_type": "code",
      "source": [
        "a"
      ],
      "metadata": {
        "colab": {
          "base_uri": "https://localhost:8080/"
        },
        "id": "DouX3ILkjlGR",
        "outputId": "2906e56a-889b-415f-9200-788364ce031a"
      },
      "execution_count": null,
      "outputs": [
        {
          "output_type": "execute_result",
          "data": {
            "text/plain": [
              "['alicient', 'Harry', 2.3, 'IUT', 'max payne']"
            ]
          },
          "metadata": {},
          "execution_count": 22
        }
      ]
    },
    {
      "cell_type": "markdown",
      "metadata": {
        "id": "WJjBNbYdQKG7"
      },
      "source": [
        "Python lists are less flexible than Matlab's array/matrix.\n",
        "\n",
        "To have that kind of flexibility, you will need numpy array from numpy library which is developed keeping similarity with Matlab.\n",
        "\n"
      ]
    },
    {
      "cell_type": "code",
      "execution_count": null,
      "metadata": {
        "id": "529CB6fw9raA",
        "outputId": "b7c9fef8-b5fb-465e-cd6d-665d339e4f35"
      },
      "outputs": [
        {
          "ename": "SyntaxError",
          "evalue": "invalid syntax (Temp/ipykernel_12760/1405779438.py, line 2)",
          "output_type": "error",
          "traceback": [
            "\u001b[1;36m  File \u001b[1;32m\"C:\\Users\\asifn\\AppData\\Local\\Temp/ipykernel_12760/1405779438.py\"\u001b[1;36m, line \u001b[1;32m2\u001b[0m\n\u001b[1;33m    a.\u001b[0m\n\u001b[1;37m      ^\u001b[0m\n\u001b[1;31mSyntaxError\u001b[0m\u001b[1;31m:\u001b[0m invalid syntax\n"
          ]
        }
      ],
      "source": [
        "# use dot then tab to see all the available methods to that object\n",
        "a."
      ]
    },
    {
      "cell_type": "markdown",
      "metadata": {
        "id": "_S7yyqwk9raA"
      },
      "source": [
        "no need to memorize all the possible methods. use documentation to find what you are looking for."
      ]
    },
    {
      "cell_type": "markdown",
      "source": [
        "# Tuple"
      ],
      "metadata": {
        "id": "Y8yyWGGYOXsh"
      }
    },
    {
      "cell_type": "markdown",
      "metadata": {
        "id": "KJJbd5lp3iHV"
      },
      "source": [
        "Python Tuple is similar to list but Tuples are immutable in nature i.e. the elements in the tuple cannot be added or removed once created. Just like a List, a Tuple can also contain elements of various types.\n",
        "\n",
        "\n",
        "In Python, tuples are created by placing a sequence of values separated by ‘comma’ inside parentheses.\n",
        "\n",
        "\n",
        "\n",
        "1.   item assignment - not allowed\n",
        "2.   add item - not allowed\n",
        "3.   delete item - not allowed\n",
        "\n",
        "you've to first convert it into list to do such operations.\n",
        "\n"
      ]
    },
    {
      "cell_type": "code",
      "execution_count": null,
      "metadata": {
        "colab": {
          "base_uri": "https://localhost:8080/"
        },
        "id": "4uXohEuZ3zLK",
        "outputId": "75bd7156-2c6d-4559-abf6-df5d9b3dc6f3"
      },
      "outputs": [
        {
          "output_type": "stream",
          "name": "stdout",
          "text": [
            "('IUT', 'Boardbazar', 100, -10)\n"
          ]
        }
      ],
      "source": [
        "\n",
        "# Creating a Tuple\n",
        "c = ('IUT', 'Boardbazar', 100, -10)\n",
        "print(c)"
      ]
    },
    {
      "cell_type": "code",
      "source": [
        "# Creating a Tuple with the use of list\n",
        "at= tuple(a)\n",
        "at"
      ],
      "metadata": {
        "colab": {
          "base_uri": "https://localhost:8080/"
        },
        "id": "9biDK3tNkLy-",
        "outputId": "32633012-ff40-49a1-be6c-ee8faf91ed7d"
      },
      "execution_count": null,
      "outputs": [
        {
          "output_type": "execute_result",
          "data": {
            "text/plain": [
              "('alicient', 'Harry', 2.3, 'IUT', 'max payne')"
            ]
          },
          "metadata": {},
          "execution_count": 24
        }
      ]
    },
    {
      "cell_type": "code",
      "source": [
        "# indexing\n",
        "print(\"First element of tuple\")\n",
        "print(c[0])\n",
        "\n",
        "# Accessing element from last negative indexing\n",
        "print(\"\\nLast element of tuple\")\n",
        "print(c[-1])"
      ],
      "metadata": {
        "colab": {
          "base_uri": "https://localhost:8080/"
        },
        "id": "D8w1m-KjkE4b",
        "outputId": "5bb64645-0252-48a6-d4c6-278d4b866763"
      },
      "execution_count": null,
      "outputs": [
        {
          "output_type": "stream",
          "name": "stdout",
          "text": [
            "First element of tuple\n",
            "IUT\n",
            "\n",
            "Last element of tuple\n",
            "-10\n"
          ]
        }
      ]
    },
    {
      "cell_type": "code",
      "source": [
        "dir(c)"
      ],
      "metadata": {
        "colab": {
          "base_uri": "https://localhost:8080/"
        },
        "id": "7dovhBLEkhUM",
        "outputId": "d33ca23e-7d9a-4aae-fe9f-fcfab394fa28"
      },
      "execution_count": null,
      "outputs": [
        {
          "output_type": "execute_result",
          "data": {
            "text/plain": [
              "['__add__',\n",
              " '__class__',\n",
              " '__class_getitem__',\n",
              " '__contains__',\n",
              " '__delattr__',\n",
              " '__dir__',\n",
              " '__doc__',\n",
              " '__eq__',\n",
              " '__format__',\n",
              " '__ge__',\n",
              " '__getattribute__',\n",
              " '__getitem__',\n",
              " '__getnewargs__',\n",
              " '__gt__',\n",
              " '__hash__',\n",
              " '__init__',\n",
              " '__init_subclass__',\n",
              " '__iter__',\n",
              " '__le__',\n",
              " '__len__',\n",
              " '__lt__',\n",
              " '__mul__',\n",
              " '__ne__',\n",
              " '__new__',\n",
              " '__reduce__',\n",
              " '__reduce_ex__',\n",
              " '__repr__',\n",
              " '__rmul__',\n",
              " '__setattr__',\n",
              " '__sizeof__',\n",
              " '__str__',\n",
              " '__subclasshook__',\n",
              " 'count',\n",
              " 'index']"
            ]
          },
          "metadata": {},
          "execution_count": 26
        }
      ]
    },
    {
      "cell_type": "markdown",
      "metadata": {
        "id": "j9guYY_wTI3J"
      },
      "source": [
        "Look at the error message. Item assignment is not allowed.\n",
        "\n",
        "\n"
      ]
    },
    {
      "cell_type": "code",
      "execution_count": null,
      "metadata": {
        "colab": {
          "base_uri": "https://localhost:8080/",
          "height": 193
        },
        "id": "YXN5N_ViS7DH",
        "outputId": "64497506-a142-4392-a9a6-bca930f5c69a"
      },
      "outputs": [
        {
          "output_type": "stream",
          "name": "stdout",
          "text": [
            "('IUT', 'Boardbazar', 100, -10)\n"
          ]
        },
        {
          "output_type": "error",
          "ename": "TypeError",
          "evalue": "'tuple' object does not support item assignment",
          "traceback": [
            "\u001b[0;31m---------------------------------------------------------------------------\u001b[0m",
            "\u001b[0;31mTypeError\u001b[0m                                 Traceback (most recent call last)",
            "\u001b[0;32m<ipython-input-27-4cf4f0ecb8b8>\u001b[0m in \u001b[0;36m<cell line: 2>\u001b[0;34m()\u001b[0m\n\u001b[1;32m      1\u001b[0m \u001b[0mprint\u001b[0m\u001b[0;34m(\u001b[0m\u001b[0mc\u001b[0m\u001b[0;34m)\u001b[0m\u001b[0;34m\u001b[0m\u001b[0;34m\u001b[0m\u001b[0m\n\u001b[0;32m----> 2\u001b[0;31m \u001b[0mc\u001b[0m\u001b[0;34m[\u001b[0m\u001b[0;36m2\u001b[0m\u001b[0;34m]\u001b[0m \u001b[0;34m=\u001b[0m \u001b[0;34m'voldemort'\u001b[0m\u001b[0;34m\u001b[0m\u001b[0;34m\u001b[0m\u001b[0m\n\u001b[0m\u001b[1;32m      3\u001b[0m \u001b[0mprint\u001b[0m\u001b[0;34m(\u001b[0m\u001b[0mc\u001b[0m\u001b[0;34m)\u001b[0m\u001b[0;34m\u001b[0m\u001b[0;34m\u001b[0m\u001b[0m\n",
            "\u001b[0;31mTypeError\u001b[0m: 'tuple' object does not support item assignment"
          ]
        }
      ],
      "source": [
        "print(c)\n",
        "c[2] = 'voldemort'\n",
        "print(c)"
      ]
    },
    {
      "cell_type": "code",
      "execution_count": null,
      "metadata": {
        "id": "MgL__9YX9raA",
        "outputId": "0b70e96c-b626-46f4-e78d-93ddf9017c21",
        "colab": {
          "base_uri": "https://localhost:8080/"
        }
      },
      "outputs": [
        {
          "output_type": "execute_result",
          "data": {
            "text/plain": [
              "0"
            ]
          },
          "metadata": {},
          "execution_count": 28
        }
      ],
      "source": [
        "#Tuple.\n",
        "a.count(4)"
      ]
    },
    {
      "cell_type": "markdown",
      "source": [
        "Tuple is used to store data, when the contents need not change. lower storage required. Use lists when you need flexibility. Use tuples when you need immutability and performance."
      ],
      "metadata": {
        "id": "EHeQYPJhk1DY"
      }
    },
    {
      "cell_type": "markdown",
      "metadata": {
        "id": "vb8BpWI49raB"
      },
      "source": [
        "**python is an object-oriented programming language. so it creates an object upon which u can call on methods and have certain properties.**"
      ]
    },
    {
      "cell_type": "markdown",
      "metadata": {
        "id": "Hun0SWge9raB"
      },
      "source": [
        "# Alias"
      ]
    },
    {
      "cell_type": "markdown",
      "source": [
        "During variable assignment, you need to be careful of alias."
      ],
      "metadata": {
        "id": "LkjnmNPCl0HE"
      }
    },
    {
      "cell_type": "code",
      "execution_count": null,
      "metadata": {
        "id": "N9LKfsKC9raB",
        "outputId": "cb6f49bf-c65d-45f3-a57e-950c1292c93c",
        "colab": {
          "base_uri": "https://localhost:8080/"
        }
      },
      "outputs": [
        {
          "output_type": "execute_result",
          "data": {
            "text/plain": [
              "['alicient', 'Harry', 2.3, 'IUT', 'max payne']"
            ]
          },
          "metadata": {},
          "execution_count": 29
        }
      ],
      "source": [
        "a"
      ]
    },
    {
      "cell_type": "code",
      "execution_count": null,
      "metadata": {
        "id": "EceTGoM69raB"
      },
      "outputs": [],
      "source": [
        "b=a"
      ]
    },
    {
      "cell_type": "code",
      "execution_count": null,
      "metadata": {
        "id": "z1g9PYG79raB",
        "outputId": "3850f2cc-ba1a-4890-cc90-28d2c1afde65",
        "colab": {
          "base_uri": "https://localhost:8080/"
        }
      },
      "outputs": [
        {
          "output_type": "execute_result",
          "data": {
            "text/plain": [
              "['alicient', 'Harry', 2.3, 'IUT', 'max payne', 'gray']"
            ]
          },
          "metadata": {},
          "execution_count": 31
        }
      ],
      "source": [
        "a.append('gray')\n",
        "a"
      ]
    },
    {
      "cell_type": "code",
      "execution_count": null,
      "metadata": {
        "id": "oWfE1EL09raB",
        "outputId": "b7d1c797-88f8-4422-b6d1-5a1874c9da9d",
        "colab": {
          "base_uri": "https://localhost:8080/"
        }
      },
      "outputs": [
        {
          "output_type": "execute_result",
          "data": {
            "text/plain": [
              "['alicient', 'Harry', 2.3, 'IUT', 'max payne', 'gray']"
            ]
          },
          "metadata": {},
          "execution_count": 32
        }
      ],
      "source": [
        "b"
      ]
    },
    {
      "cell_type": "code",
      "execution_count": null,
      "metadata": {
        "id": "Bi6CvB6u9raB"
      },
      "outputs": [],
      "source": [
        "c=a.copy()\n",
        "# makes a shallow copy"
      ]
    },
    {
      "cell_type": "code",
      "execution_count": null,
      "metadata": {
        "id": "x05FG_J_9raB",
        "outputId": "0a951b0a-02f9-4ee1-b93c-24cfef99c2a0",
        "colab": {
          "base_uri": "https://localhost:8080/"
        }
      },
      "outputs": [
        {
          "output_type": "execute_result",
          "data": {
            "text/plain": [
              "['alicient', 'Harry', 2.3, 'max payne', 'gray']"
            ]
          },
          "metadata": {},
          "execution_count": 35
        }
      ],
      "source": [
        "a.remove('IUT')\n",
        "a"
      ]
    },
    {
      "cell_type": "code",
      "execution_count": null,
      "metadata": {
        "id": "l6iV6YfQ9raB",
        "outputId": "8fbc3333-930a-42b1-f47c-7a433de40251",
        "colab": {
          "base_uri": "https://localhost:8080/"
        }
      },
      "outputs": [
        {
          "output_type": "execute_result",
          "data": {
            "text/plain": [
              "['alicient', 'Harry', 2.3, 'max payne', 'gray']"
            ]
          },
          "metadata": {},
          "execution_count": 36
        }
      ],
      "source": [
        "b"
      ]
    },
    {
      "cell_type": "code",
      "execution_count": null,
      "metadata": {
        "id": "pUg8P83Q9raC",
        "outputId": "c9757e26-9678-4d05-e876-65f9dcf0af6a",
        "colab": {
          "base_uri": "https://localhost:8080/"
        }
      },
      "outputs": [
        {
          "output_type": "execute_result",
          "data": {
            "text/plain": [
              "['alicient', 'Harry', 2.3, 'IUT', 'max payne', 'gray']"
            ]
          },
          "metadata": {},
          "execution_count": 37
        }
      ],
      "source": [
        "c"
      ]
    },
    {
      "cell_type": "markdown",
      "source": [
        "Be careful when you use '=' sign."
      ],
      "metadata": {
        "id": "L-NmwPpFmZnX"
      }
    },
    {
      "cell_type": "markdown",
      "source": [
        "# Strings"
      ],
      "metadata": {
        "id": "sEB9Y7sVmhEO"
      }
    },
    {
      "cell_type": "markdown",
      "source": [
        "Python Strings are an immutable array of characters. Python does not have a character data type unlike Matlab. It is somewhat similar to Matlab's string."
      ],
      "metadata": {
        "id": "mwymkJmwmkty"
      }
    },
    {
      "cell_type": "code",
      "source": [
        "S = \"Welcome to the ML/AI Lab\"\n",
        "print(\"Creating String: \")\n",
        "print(S)\n",
        "\n",
        "# Printing First character\n",
        "print(\"\\nFirst character of String is: \")\n",
        "print(S[0])\n",
        "\n",
        "# Printing Last character\n",
        "print(\"\\nLast character of String is: \")\n",
        "print(S[-1])"
      ],
      "metadata": {
        "colab": {
          "base_uri": "https://localhost:8080/"
        },
        "id": "CHCHnn7fmqtG",
        "outputId": "8e713cb2-7518-4b0a-f0a6-812923fe9872"
      },
      "execution_count": null,
      "outputs": [
        {
          "output_type": "stream",
          "name": "stdout",
          "text": [
            "Creating String: \n",
            "Welcome to the ML/AI Lab\n",
            "\n",
            "First character of String is: \n",
            "W\n",
            "\n",
            "Last character of String is: \n",
            "b\n"
          ]
        }
      ]
    },
    {
      "cell_type": "code",
      "source": [
        "dir(S)"
      ],
      "metadata": {
        "colab": {
          "base_uri": "https://localhost:8080/"
        },
        "id": "hlY39hdyniQi",
        "outputId": "b18a4ce7-490d-4678-b0c6-15de41ab8427"
      },
      "execution_count": null,
      "outputs": [
        {
          "output_type": "execute_result",
          "data": {
            "text/plain": [
              "['__add__',\n",
              " '__class__',\n",
              " '__contains__',\n",
              " '__delattr__',\n",
              " '__dir__',\n",
              " '__doc__',\n",
              " '__eq__',\n",
              " '__format__',\n",
              " '__ge__',\n",
              " '__getattribute__',\n",
              " '__getitem__',\n",
              " '__getnewargs__',\n",
              " '__gt__',\n",
              " '__hash__',\n",
              " '__init__',\n",
              " '__init_subclass__',\n",
              " '__iter__',\n",
              " '__le__',\n",
              " '__len__',\n",
              " '__lt__',\n",
              " '__mod__',\n",
              " '__mul__',\n",
              " '__ne__',\n",
              " '__new__',\n",
              " '__reduce__',\n",
              " '__reduce_ex__',\n",
              " '__repr__',\n",
              " '__rmod__',\n",
              " '__rmul__',\n",
              " '__setattr__',\n",
              " '__sizeof__',\n",
              " '__str__',\n",
              " '__subclasshook__',\n",
              " 'capitalize',\n",
              " 'casefold',\n",
              " 'center',\n",
              " 'count',\n",
              " 'encode',\n",
              " 'endswith',\n",
              " 'expandtabs',\n",
              " 'find',\n",
              " 'format',\n",
              " 'format_map',\n",
              " 'index',\n",
              " 'isalnum',\n",
              " 'isalpha',\n",
              " 'isascii',\n",
              " 'isdecimal',\n",
              " 'isdigit',\n",
              " 'isidentifier',\n",
              " 'islower',\n",
              " 'isnumeric',\n",
              " 'isprintable',\n",
              " 'isspace',\n",
              " 'istitle',\n",
              " 'isupper',\n",
              " 'join',\n",
              " 'ljust',\n",
              " 'lower',\n",
              " 'lstrip',\n",
              " 'maketrans',\n",
              " 'partition',\n",
              " 'removeprefix',\n",
              " 'removesuffix',\n",
              " 'replace',\n",
              " 'rfind',\n",
              " 'rindex',\n",
              " 'rjust',\n",
              " 'rpartition',\n",
              " 'rsplit',\n",
              " 'rstrip',\n",
              " 'split',\n",
              " 'splitlines',\n",
              " 'startswith',\n",
              " 'strip',\n",
              " 'swapcase',\n",
              " 'title',\n",
              " 'translate',\n",
              " 'upper',\n",
              " 'zfill']"
            ]
          },
          "metadata": {},
          "execution_count": 41
        }
      ]
    },
    {
      "cell_type": "code",
      "source": [
        "S.islower()"
      ],
      "metadata": {
        "colab": {
          "base_uri": "https://localhost:8080/"
        },
        "id": "qNgNAvpFnviL",
        "outputId": "dda5d9dc-82a5-4400-e0cc-536469f71ddd"
      },
      "execution_count": null,
      "outputs": [
        {
          "output_type": "execute_result",
          "data": {
            "text/plain": [
              "False"
            ]
          },
          "metadata": {},
          "execution_count": 44
        }
      ]
    },
    {
      "cell_type": "code",
      "source": [
        "S.upper()"
      ],
      "metadata": {
        "colab": {
          "base_uri": "https://localhost:8080/",
          "height": 36
        },
        "id": "Ugwe0ur2n235",
        "outputId": "c4646704-67ac-4765-cb3b-166bf411d281"
      },
      "execution_count": null,
      "outputs": [
        {
          "output_type": "execute_result",
          "data": {
            "text/plain": [
              "'WELCOME TO THE ML/AI LAB'"
            ],
            "application/vnd.google.colaboratory.intrinsic+json": {
              "type": "string"
            }
          },
          "metadata": {},
          "execution_count": 46
        }
      ]
    },
    {
      "cell_type": "markdown",
      "metadata": {
        "id": "TA-ZUkemU6NA"
      },
      "source": [
        "Strings are immutable"
      ]
    },
    {
      "cell_type": "code",
      "execution_count": null,
      "metadata": {
        "colab": {
          "base_uri": "https://localhost:8080/",
          "height": 141
        },
        "id": "DENB63f7UzyK",
        "outputId": "80dfc1fd-0707-4c78-d283-28d226a10e10"
      },
      "outputs": [
        {
          "output_type": "error",
          "ename": "TypeError",
          "evalue": "'str' object does not support item assignment",
          "traceback": [
            "\u001b[0;31m---------------------------------------------------------------------------\u001b[0m",
            "\u001b[0;31mTypeError\u001b[0m                                 Traceback (most recent call last)",
            "\u001b[0;32m<ipython-input-42-cb50d6752cb7>\u001b[0m in \u001b[0;36m<cell line: 1>\u001b[0;34m()\u001b[0m\n\u001b[0;32m----> 1\u001b[0;31m \u001b[0mS\u001b[0m\u001b[0;34m[\u001b[0m\u001b[0;36m2\u001b[0m\u001b[0;34m]\u001b[0m\u001b[0;34m=\u001b[0m \u001b[0;34m'w'\u001b[0m\u001b[0;34m\u001b[0m\u001b[0;34m\u001b[0m\u001b[0m\n\u001b[0m",
            "\u001b[0;31mTypeError\u001b[0m: 'str' object does not support item assignment"
          ]
        }
      ],
      "source": [
        "S[2]= 'w'"
      ]
    },
    {
      "cell_type": "code",
      "source": [
        "len (S)\n",
        "# unlike Matlab"
      ],
      "metadata": {
        "id": "kVSd-3DRTXvl"
      },
      "execution_count": null,
      "outputs": []
    },
    {
      "cell_type": "markdown",
      "source": [
        "# Dictionary"
      ],
      "metadata": {
        "id": "6phiOmLaoBSf"
      }
    },
    {
      "cell_type": "markdown",
      "metadata": {
        "id": "PQIOjlmq4624"
      },
      "source": [
        "Dictionary is used to store data values like a map. The data structures you are already familiar with cannot represent relation between two items. Python Dictionary is quite usedful in that regard.\n",
        "In Dictionary, you have the key:value pair.\n",
        "\n",
        "We can create a dictionary by using curly braces {  }."
      ]
    },
    {
      "cell_type": "code",
      "execution_count": 2,
      "metadata": {
        "colab": {
          "base_uri": "https://localhost:8080/"
        },
        "id": "ADpLenB26Obn",
        "outputId": "0e03018d-a65e-4dce-a3de-71d219867d8f"
      },
      "outputs": [
        {
          "output_type": "stream",
          "name": "stdout",
          "text": [
            "Creating Dictionary: \n",
            "{'Name': 'Jon Snow', 'Family': ['Stark', 'Targaryen'], 'Age': 25, 'Knowledge': 0}\n"
          ]
        }
      ],
      "source": [
        "# Creating a Dictionary\n",
        "d = {'Name': 'Jon Snow',\n",
        "     'Family': ['Stark', 'Targaryen'],\n",
        "     'Age': 25,\n",
        "     'Knowledge': 0,\n",
        "     }\n",
        "print(\"Creating Dictionary: \")\n",
        "print(d)"
      ]
    },
    {
      "cell_type": "markdown",
      "source": [
        "## **Indexing**"
      ],
      "metadata": {
        "id": "hu6oRcEQPzV9"
      }
    },
    {
      "cell_type": "markdown",
      "source": [
        "Indexing of Python Dictionary is done with the help of keys. Dictionaries in Python are unordered collections and are indexed using keys, not numerical indices like lists.\n",
        "\n"
      ],
      "metadata": {
        "id": "iUINLyDTP-LU"
      }
    },
    {
      "cell_type": "code",
      "source": [
        "d[0]"
      ],
      "metadata": {
        "colab": {
          "base_uri": "https://localhost:8080/",
          "height": 141
        },
        "id": "GsVGVcSZQOd3",
        "outputId": "06e5ef82-5e66-4d95-bdb6-72973c3bdecb"
      },
      "execution_count": 3,
      "outputs": [
        {
          "output_type": "error",
          "ename": "KeyError",
          "evalue": "0",
          "traceback": [
            "\u001b[0;31m---------------------------------------------------------------------------\u001b[0m",
            "\u001b[0;31mKeyError\u001b[0m                                  Traceback (most recent call last)",
            "\u001b[0;32m<ipython-input-3-123a9cc6df61>\u001b[0m in \u001b[0;36m<cell line: 1>\u001b[0;34m()\u001b[0m\n\u001b[0;32m----> 1\u001b[0;31m \u001b[0md\u001b[0m\u001b[0;34m[\u001b[0m\u001b[0;36m0\u001b[0m\u001b[0;34m]\u001b[0m\u001b[0;34m\u001b[0m\u001b[0;34m\u001b[0m\u001b[0m\n\u001b[0m",
            "\u001b[0;31mKeyError\u001b[0m: 0"
          ]
        }
      ]
    },
    {
      "cell_type": "code",
      "source": [
        "# accessing a element using key\n",
        "print(\"Accessing a element using key:\")\n",
        "print(d['Name'])\n",
        "\n",
        "# accessing a element using get()\n",
        "# method\n",
        "print(\"Accessing a element using get:\")\n",
        "print(d.get(\"Knowledge\"))"
      ],
      "metadata": {
        "colab": {
          "base_uri": "https://localhost:8080/"
        },
        "id": "XBRJ35XvO7iV",
        "outputId": "59a4705a-15dc-4c09-ac37-9d104ca12e00"
      },
      "execution_count": 4,
      "outputs": [
        {
          "output_type": "stream",
          "name": "stdout",
          "text": [
            "Accessing a element using key:\n",
            "Jon Snow\n",
            "Accessing a element using get:\n",
            "0\n"
          ]
        }
      ]
    },
    {
      "cell_type": "code",
      "execution_count": 5,
      "metadata": {
        "id": "IWeAp6TJ0RIT",
        "colab": {
          "base_uri": "https://localhost:8080/"
        },
        "outputId": "6775e4f8-b603-48b2-974b-4806cdcc58c7"
      },
      "outputs": [
        {
          "output_type": "execute_result",
          "data": {
            "text/plain": [
              "{'Name': 'Cavilrine', 1: [1, 2, 3, 4]}"
            ]
          },
          "metadata": {},
          "execution_count": 5
        }
      ],
      "source": [
        "# key can also be numerical\n",
        "dd = {'Name': 'Cavilrine', 1: [1, 2, 3, 4]}\n",
        "dd"
      ]
    },
    {
      "cell_type": "markdown",
      "source": [
        "## **Functionalities**"
      ],
      "metadata": {
        "id": "afwiDPutVtO-"
      }
    },
    {
      "cell_type": "code",
      "execution_count": 6,
      "metadata": {
        "colab": {
          "base_uri": "https://localhost:8080/"
        },
        "id": "uaLp0b_iRIFo",
        "outputId": "f0b41a49-948b-4b80-8ca5-4ca1e4fccddf"
      },
      "outputs": [
        {
          "output_type": "execute_result",
          "data": {
            "text/plain": [
              "dict_keys(['Name', 'Family', 'Age', 'Knowledge'])"
            ]
          },
          "metadata": {},
          "execution_count": 6
        }
      ],
      "source": [
        "d.keys()"
      ]
    },
    {
      "cell_type": "markdown",
      "source": [],
      "metadata": {
        "id": "-KkE82ItV4Sb"
      }
    },
    {
      "cell_type": "code",
      "execution_count": 7,
      "metadata": {
        "colab": {
          "base_uri": "https://localhost:8080/"
        },
        "id": "aWWH6bnNT0CG",
        "outputId": "372848e3-e74d-4870-d077-511713cb3292"
      },
      "outputs": [
        {
          "output_type": "execute_result",
          "data": {
            "text/plain": [
              "dict_values(['Jon Snow', ['Stark', 'Targaryen'], 25, 0])"
            ]
          },
          "metadata": {},
          "execution_count": 7
        }
      ],
      "source": [
        "d.values()"
      ]
    },
    {
      "cell_type": "code",
      "execution_count": 8,
      "metadata": {
        "colab": {
          "base_uri": "https://localhost:8080/"
        },
        "id": "PTdtDlqUUpNt",
        "outputId": "1427b17c-8b6b-4af6-8fa2-8cb81ce4922b"
      },
      "outputs": [
        {
          "output_type": "execute_result",
          "data": {
            "text/plain": [
              "['Name', 'Family', 'Age', 'Knowledge']"
            ]
          },
          "metadata": {},
          "execution_count": 8
        }
      ],
      "source": [
        "list(d.keys())"
      ]
    },
    {
      "cell_type": "code",
      "source": [
        "tuple(d.values())"
      ],
      "metadata": {
        "colab": {
          "base_uri": "https://localhost:8080/"
        },
        "id": "wPxMCwBwTirD",
        "outputId": "e65886e9-82ca-4444-abf9-037422f17e35"
      },
      "execution_count": 9,
      "outputs": [
        {
          "output_type": "execute_result",
          "data": {
            "text/plain": [
              "('Jon Snow', ['Stark', 'Targaryen'], 25, 0)"
            ]
          },
          "metadata": {},
          "execution_count": 9
        }
      ]
    },
    {
      "cell_type": "code",
      "source": [
        "dir(d)"
      ],
      "metadata": {
        "colab": {
          "base_uri": "https://localhost:8080/"
        },
        "id": "eI8A3-NKTmWS",
        "outputId": "5c09b490-6ec6-40e8-ef1a-fc3381949643"
      },
      "execution_count": 10,
      "outputs": [
        {
          "output_type": "execute_result",
          "data": {
            "text/plain": [
              "['__class__',\n",
              " '__class_getitem__',\n",
              " '__contains__',\n",
              " '__delattr__',\n",
              " '__delitem__',\n",
              " '__dir__',\n",
              " '__doc__',\n",
              " '__eq__',\n",
              " '__format__',\n",
              " '__ge__',\n",
              " '__getattribute__',\n",
              " '__getitem__',\n",
              " '__gt__',\n",
              " '__hash__',\n",
              " '__init__',\n",
              " '__init_subclass__',\n",
              " '__ior__',\n",
              " '__iter__',\n",
              " '__le__',\n",
              " '__len__',\n",
              " '__lt__',\n",
              " '__ne__',\n",
              " '__new__',\n",
              " '__or__',\n",
              " '__reduce__',\n",
              " '__reduce_ex__',\n",
              " '__repr__',\n",
              " '__reversed__',\n",
              " '__ror__',\n",
              " '__setattr__',\n",
              " '__setitem__',\n",
              " '__sizeof__',\n",
              " '__str__',\n",
              " '__subclasshook__',\n",
              " 'clear',\n",
              " 'copy',\n",
              " 'fromkeys',\n",
              " 'get',\n",
              " 'items',\n",
              " 'keys',\n",
              " 'pop',\n",
              " 'popitem',\n",
              " 'setdefault',\n",
              " 'update',\n",
              " 'values']"
            ]
          },
          "metadata": {},
          "execution_count": 10
        }
      ]
    },
    {
      "cell_type": "code",
      "source": [
        "d.pop('Age')"
      ],
      "metadata": {
        "colab": {
          "base_uri": "https://localhost:8080/"
        },
        "id": "UWZkJstnU_fI",
        "outputId": "32118880-8619-4a39-ceff-391a16169563"
      },
      "execution_count": 12,
      "outputs": [
        {
          "output_type": "execute_result",
          "data": {
            "text/plain": [
              "25"
            ]
          },
          "metadata": {},
          "execution_count": 12
        }
      ]
    },
    {
      "cell_type": "markdown",
      "source": [
        "# **Function**"
      ],
      "metadata": {
        "id": "ba8COK6FXZP5"
      }
    },
    {
      "cell_type": "markdown",
      "metadata": {
        "id": "Mf6hGo2Mx5X6"
      },
      "source": [
        "\n",
        " Creating and calling functions in python is very similiar to Matlab.  Python has well enriched libraries to call functions from.\n"
      ]
    },
    {
      "cell_type": "code",
      "source": [
        "def sum2num(number1, number2):\n",
        "    result = number1 + number2\n",
        "    return result"
      ],
      "metadata": {
        "id": "qAekDlsfXjUZ"
      },
      "execution_count": 16,
      "outputs": []
    },
    {
      "cell_type": "code",
      "source": [
        "sum_result = sum2num(55,57)\n",
        "print(sum_result)"
      ],
      "metadata": {
        "colab": {
          "base_uri": "https://localhost:8080/"
        },
        "id": "7VaWReIqXkAO",
        "outputId": "a4969099-6b0f-4a65-85ee-7f3ecee21817"
      },
      "execution_count": 17,
      "outputs": [
        {
          "output_type": "stream",
          "name": "stdout",
          "text": [
            "112\n"
          ]
        }
      ]
    },
    {
      "cell_type": "markdown",
      "source": [
        "In python, we use another name - 'methods'. You can call a method on an object. Something you have already done."
      ],
      "metadata": {
        "id": "y7GD0NgpYuFh"
      }
    },
    {
      "cell_type": "code",
      "source": [
        "# Here, I first create a string object. Then call on a method already defined.\n",
        "\n",
        "st= \"We are Legion\"\n",
        "st.split()"
      ],
      "metadata": {
        "colab": {
          "base_uri": "https://localhost:8080/"
        },
        "id": "3miYIjJDZEHL",
        "outputId": "9c1ee9f0-f063-4379-f4c0-fba906192382"
      },
      "execution_count": 18,
      "outputs": [
        {
          "output_type": "execute_result",
          "data": {
            "text/plain": [
              "['We', 'are', 'Legion']"
            ]
          },
          "metadata": {},
          "execution_count": 18
        }
      ]
    },
    {
      "cell_type": "code",
      "source": [
        "dir(st)"
      ],
      "metadata": {
        "colab": {
          "base_uri": "https://localhost:8080/"
        },
        "id": "RRb07BkbZzZf",
        "outputId": "782158d1-7d06-4877-ab0f-412ca728caa8"
      },
      "execution_count": 19,
      "outputs": [
        {
          "output_type": "execute_result",
          "data": {
            "text/plain": [
              "['__add__',\n",
              " '__class__',\n",
              " '__contains__',\n",
              " '__delattr__',\n",
              " '__dir__',\n",
              " '__doc__',\n",
              " '__eq__',\n",
              " '__format__',\n",
              " '__ge__',\n",
              " '__getattribute__',\n",
              " '__getitem__',\n",
              " '__getnewargs__',\n",
              " '__gt__',\n",
              " '__hash__',\n",
              " '__init__',\n",
              " '__init_subclass__',\n",
              " '__iter__',\n",
              " '__le__',\n",
              " '__len__',\n",
              " '__lt__',\n",
              " '__mod__',\n",
              " '__mul__',\n",
              " '__ne__',\n",
              " '__new__',\n",
              " '__reduce__',\n",
              " '__reduce_ex__',\n",
              " '__repr__',\n",
              " '__rmod__',\n",
              " '__rmul__',\n",
              " '__setattr__',\n",
              " '__sizeof__',\n",
              " '__str__',\n",
              " '__subclasshook__',\n",
              " 'capitalize',\n",
              " 'casefold',\n",
              " 'center',\n",
              " 'count',\n",
              " 'encode',\n",
              " 'endswith',\n",
              " 'expandtabs',\n",
              " 'find',\n",
              " 'format',\n",
              " 'format_map',\n",
              " 'index',\n",
              " 'isalnum',\n",
              " 'isalpha',\n",
              " 'isascii',\n",
              " 'isdecimal',\n",
              " 'isdigit',\n",
              " 'isidentifier',\n",
              " 'islower',\n",
              " 'isnumeric',\n",
              " 'isprintable',\n",
              " 'isspace',\n",
              " 'istitle',\n",
              " 'isupper',\n",
              " 'join',\n",
              " 'ljust',\n",
              " 'lower',\n",
              " 'lstrip',\n",
              " 'maketrans',\n",
              " 'partition',\n",
              " 'removeprefix',\n",
              " 'removesuffix',\n",
              " 'replace',\n",
              " 'rfind',\n",
              " 'rindex',\n",
              " 'rjust',\n",
              " 'rpartition',\n",
              " 'rsplit',\n",
              " 'rstrip',\n",
              " 'split',\n",
              " 'splitlines',\n",
              " 'startswith',\n",
              " 'strip',\n",
              " 'swapcase',\n",
              " 'title',\n",
              " 'translate',\n",
              " 'upper',\n",
              " 'zfill']"
            ]
          },
          "metadata": {},
          "execution_count": 19
        }
      ]
    },
    {
      "cell_type": "code",
      "source": [
        "st.count(\" \")"
      ],
      "metadata": {
        "colab": {
          "base_uri": "https://localhost:8080/"
        },
        "id": "vAnfiqs7aMUQ",
        "outputId": "2fb2808b-1917-4db0-9cb7-25f16c77523b"
      },
      "execution_count": 20,
      "outputs": [
        {
          "output_type": "execute_result",
          "data": {
            "text/plain": [
              "2"
            ]
          },
          "metadata": {},
          "execution_count": 20
        }
      ]
    },
    {
      "cell_type": "code",
      "source": [
        "# I can also define my own method. then call it on a object.\n",
        "# I want to know the total number of characters in a string\n",
        "\n",
        "def count_st(s):\n",
        "  space_count = s.count(\" \")\n",
        "  return len(s) - space_count"
      ],
      "metadata": {
        "id": "zonGv1t4ZkoL"
      },
      "execution_count": 21,
      "outputs": []
    },
    {
      "cell_type": "code",
      "source": [
        "count_st(st)"
      ],
      "metadata": {
        "colab": {
          "base_uri": "https://localhost:8080/"
        },
        "id": "V9JgdmPAaYmB",
        "outputId": "ffa70e9c-bf25-4ff9-ca30-c11b7167f60c"
      },
      "execution_count": 22,
      "outputs": [
        {
          "output_type": "execute_result",
          "data": {
            "text/plain": [
              "11"
            ]
          },
          "metadata": {},
          "execution_count": 22
        }
      ]
    },
    {
      "cell_type": "markdown",
      "source": [
        "# Libraries"
      ],
      "metadata": {
        "id": "lfKj6vwIYG5M"
      }
    },
    {
      "cell_type": "markdown",
      "metadata": {
        "id": "53xeIRYMWbo4"
      },
      "source": [
        "Python libraries are like toolboxes filled with various functions that help you do specific tasks without having to create everything from scratch. These libraries are designed to make coding easier and more efficient for students and professionals alike. Here's a brief overview of some popular Python libraries:\n",
        "\n",
        "1. **NumPy**: Great for mathematical computations. It helps you work with large arrays and matrices and perform numerical operations quickly.\n",
        "\n",
        "2. **Pandas**: A library for data analysis and manipulation. It makes handling large datasets easy and provides functions to clean, filter, and analyze data.\n",
        "\n",
        "3. **Matplotlib**: Used for plotting and visualization. It allows you to create graphs, charts, and other visual representations of data.\n",
        "\n",
        "4. **SciPy**: Builds on NumPy and provides tools for scientific computing. It includes functions for optimization, integration, and statistical analysis.\n",
        "\n",
        "5. **Scikit-Learn**: A library for machine learning. It offers simple tools to create and test various machine learning models.\n",
        "\n",
        "6. **TensorFlow**: A library for deep learning developed by Google. It's used to create neural networks for tasks like image recognition, natural language processing, and more.\n",
        "\n",
        "7. **Beautiful Soup**: Helps with web scraping. You can use it to pull data from websites and work with HTML and XML files.\n",
        "\n",
        "8. **Flask**: A lightweight web framework. It's great for building small to medium-sized web applications quickly.\n",
        "\n",
        "9. **Django**: A more robust web framework for building large-scale web applications with database support and other complex features.\n",
        "\n",
        "10. **Tkinter**: Allows you to create graphical user interfaces (GUIs) for your Python applications.\n"
      ]
    },
    {
      "cell_type": "markdown",
      "source": [
        "We will rely a lot on some of these libraries, especially Scikit-learn and Pandas. These are especially designed for Machine Learning.  "
      ],
      "metadata": {
        "id": "ak0Ij1sNnsLE"
      }
    },
    {
      "cell_type": "markdown",
      "metadata": {
        "id": "rH7B_zO5MBRm"
      },
      "source": [
        "## **Importing libraries**"
      ]
    },
    {
      "cell_type": "markdown",
      "source": [
        "A library consists of many different functions. You can import entire libraries or specific functions, classes, or variables from them."
      ],
      "metadata": {
        "id": "glZpd8TCqfvA"
      }
    },
    {
      "cell_type": "markdown",
      "source": [
        "**1. Importing the entire library**\n",
        "\n",
        "You can import the entire library and use its functions or classes by calling them from that library."
      ],
      "metadata": {
        "id": "gxpy7km5q2uO"
      }
    },
    {
      "cell_type": "code",
      "source": [
        "import math\n",
        "# https://docs.python.org/3/library/math.html"
      ],
      "metadata": {
        "id": "zdUyb-pUrGPn"
      },
      "execution_count": 23,
      "outputs": []
    },
    {
      "cell_type": "code",
      "source": [
        "math.pow(2,8)\n",
        "# to use the method 'pow', you first have to import the math library into your workspace"
      ],
      "metadata": {
        "colab": {
          "base_uri": "https://localhost:8080/"
        },
        "id": "eSaXuqT9rSSY",
        "outputId": "05d2129b-dac3-4a60-c804-e16ca1cd1f5f"
      },
      "execution_count": 26,
      "outputs": [
        {
          "output_type": "execute_result",
          "data": {
            "text/plain": [
              "256.0"
            ]
          },
          "metadata": {},
          "execution_count": 26
        }
      ]
    },
    {
      "cell_type": "markdown",
      "source": [
        "**2. Importing specific functions or classes**\n",
        "\n",
        "You can import only the functions or classes you need from a library to avoid importing everything."
      ],
      "metadata": {
        "id": "-rvSWTtAr9uV"
      }
    },
    {
      "cell_type": "code",
      "source": [
        "from math import sqrt\n",
        "sqrt(256)"
      ],
      "metadata": {
        "colab": {
          "base_uri": "https://localhost:8080/"
        },
        "id": "eI8yzQ3hsGQJ",
        "outputId": "a89a9080-c7b0-4e4b-deb1-6e7b808d0ee3"
      },
      "execution_count": 27,
      "outputs": [
        {
          "output_type": "execute_result",
          "data": {
            "text/plain": [
              "16.0"
            ]
          },
          "metadata": {},
          "execution_count": 27
        }
      ]
    },
    {
      "cell_type": "code",
      "source": [
        "math.sqrt(256)"
      ],
      "metadata": {
        "colab": {
          "base_uri": "https://localhost:8080/"
        },
        "id": "btsWqRGfr_Id",
        "outputId": "4e837766-3e21-4c0e-8ee4-527bca526639"
      },
      "execution_count": 28,
      "outputs": [
        {
          "output_type": "execute_result",
          "data": {
            "text/plain": [
              "16.0"
            ]
          },
          "metadata": {},
          "execution_count": 28
        }
      ]
    },
    {
      "cell_type": "code",
      "source": [
        "ceil(2.4)\n",
        "# ceil function is within math library. You have to specify it directly to use it."
      ],
      "metadata": {
        "colab": {
          "base_uri": "https://localhost:8080/",
          "height": 141
        },
        "id": "w-SMx7CDsU57",
        "outputId": "a23ec9ca-1878-4ac7-f3de-bbe1b12458d6"
      },
      "execution_count": 29,
      "outputs": [
        {
          "output_type": "error",
          "ename": "NameError",
          "evalue": "name 'ceil' is not defined",
          "traceback": [
            "\u001b[0;31m---------------------------------------------------------------------------\u001b[0m",
            "\u001b[0;31mNameError\u001b[0m                                 Traceback (most recent call last)",
            "\u001b[0;32m<ipython-input-29-8b4337be9315>\u001b[0m in \u001b[0;36m<cell line: 1>\u001b[0;34m()\u001b[0m\n\u001b[0;32m----> 1\u001b[0;31m \u001b[0mceil\u001b[0m\u001b[0;34m(\u001b[0m\u001b[0;36m2.4\u001b[0m\u001b[0;34m)\u001b[0m\u001b[0;34m\u001b[0m\u001b[0;34m\u001b[0m\u001b[0m\n\u001b[0m",
            "\u001b[0;31mNameError\u001b[0m: name 'ceil' is not defined"
          ]
        }
      ]
    },
    {
      "cell_type": "code",
      "source": [
        "math.ceil(2.4)"
      ],
      "metadata": {
        "colab": {
          "base_uri": "https://localhost:8080/"
        },
        "id": "gn1Ly0hqsnYH",
        "outputId": "dfbcc1ee-00d8-4520-fb4d-eba63b356588"
      },
      "execution_count": 30,
      "outputs": [
        {
          "output_type": "execute_result",
          "data": {
            "text/plain": [
              "3"
            ]
          },
          "metadata": {},
          "execution_count": 30
        }
      ]
    },
    {
      "cell_type": "markdown",
      "source": [
        "**3. Importing with an alias**\n",
        "\n",
        "You can give the library or module an alias (a shorter, more convenient name). This practice is frequently used for simplicity."
      ],
      "metadata": {
        "id": "U_ZH4-Rxstoh"
      }
    },
    {
      "cell_type": "code",
      "source": [
        "import numpy as np\n",
        "import matplotlib.pyplot as plt"
      ],
      "metadata": {
        "id": "zS96FKz5tGME"
      },
      "execution_count": 33,
      "outputs": []
    },
    {
      "cell_type": "markdown",
      "source": [
        "**4. Importing all functions**\n",
        "\n",
        "You can import everything from a library using the wildcard '*', but this is usually discouraged."
      ],
      "metadata": {
        "id": "JlSSsSOQtuCW"
      }
    },
    {
      "cell_type": "code",
      "source": [
        "from scipy import *\n",
        "# https://docs.scipy.org/doc/scipy/reference/stats.html"
      ],
      "metadata": {
        "id": "ZbkcWZyYt1vJ"
      },
      "execution_count": 34,
      "outputs": []
    }
  ],
  "metadata": {
    "colab": {
      "provenance": [],
      "toc_visible": true
    },
    "kernelspec": {
      "display_name": "Python 3 (ipykernel)",
      "language": "python",
      "name": "python3"
    },
    "language_info": {
      "codemirror_mode": {
        "name": "ipython",
        "version": 3
      },
      "file_extension": ".py",
      "mimetype": "text/x-python",
      "name": "python",
      "nbconvert_exporter": "python",
      "pygments_lexer": "ipython3",
      "version": "3.9.7"
    }
  },
  "nbformat": 4,
  "nbformat_minor": 0
}