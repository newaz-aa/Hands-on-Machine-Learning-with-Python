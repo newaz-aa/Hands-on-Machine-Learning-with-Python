{
  "nbformat": 4,
  "nbformat_minor": 0,
  "metadata": {
    "colab": {
      "provenance": [],
      "toc_visible": true
    },
    "kernelspec": {
      "name": "python3",
      "display_name": "Python 3"
    },
    "language_info": {
      "name": "python"
    }
  },
  "cells": [
    {
      "cell_type": "markdown",
      "source": [
        "Name:\n",
        "\n",
        "Student ID:\n"
      ],
      "metadata": {
        "id": "8a3cXtuPJUg8"
      }
    },
    {
      "cell_type": "markdown",
      "source": [
        "You will be performing weather events analysis in the USA. The dataset contains detailed records of weather events, including event type, date, location, fatalities, injuries, property damage, etc. Each year data contains over 60,000 records.\n",
        "\n",
        "First import the datasets into your workspace. Then try to find the answer to the following questions. Write your code in the specific sections of the notebook and highlight your answer there. you can add any text to answer the questions.\n"
      ],
      "metadata": {
        "id": "pKvx4EjcJbVs"
      }
    },
    {
      "cell_type": "markdown",
      "source": [
        "Dataset link: https://drive.google.com/drive/folders/15NRxZNUq84Vi_dzwNZfZsa87xQN8zM-9?usp=sharing"
      ],
      "metadata": {
        "id": "QpUV_yBOQLPU"
      }
    },
    {
      "cell_type": "markdown",
      "source": [
        "# Import necessary libraries"
      ],
      "metadata": {
        "id": "BrkkGYuFJuNP"
      }
    },
    {
      "cell_type": "markdown",
      "source": [
        "Import necessary libraries in this section"
      ],
      "metadata": {
        "id": "Q_UOh_0FJz8v"
      }
    },
    {
      "cell_type": "code",
      "execution_count": 1,
      "metadata": {
        "id": "v-n1u4TuJOQr"
      },
      "outputs": [],
      "source": [
        "import pandas as pd"
      ]
    },
    {
      "cell_type": "markdown",
      "source": [
        "# Import Datasets"
      ],
      "metadata": {
        "id": "mUcUqHQzJ7nK"
      }
    },
    {
      "cell_type": "markdown",
      "source": [
        "Import all the datasets in this section. view and understand the feature variables.\n",
        "\n",
        "Also, combine all 5 years data in a separate dataframe."
      ],
      "metadata": {
        "id": "Ipjdg93jLEJA"
      }
    },
    {
      "cell_type": "markdown",
      "source": [
        "# Question - 01"
      ],
      "metadata": {
        "id": "FqxCYZRvK-2A"
      }
    },
    {
      "cell_type": "markdown",
      "source": [
        "In 2018, which states had the highest occurrence of events? Find the top 3 as well as the number of events occurred in those states."
      ],
      "metadata": {
        "id": "nTGiM_6iLLKw"
      }
    },
    {
      "cell_type": "markdown",
      "source": [
        "[You can add as many cells as required. But highlight/mark the final result]"
      ],
      "metadata": {
        "id": "I3_3XokMMdDB"
      }
    },
    {
      "cell_type": "code",
      "source": [],
      "metadata": {
        "id": "UbEcm-pZNig5"
      },
      "execution_count": null,
      "outputs": []
    },
    {
      "cell_type": "markdown",
      "source": [
        "# Question - 02"
      ],
      "metadata": {
        "id": "61S5WWxpOpwi"
      }
    },
    {
      "cell_type": "markdown",
      "source": [
        "In 2018, which state had the highest occurrence of 'wildfire' events? Which states did not have any occurrence of such events?"
      ],
      "metadata": {
        "id": "mlzDLOfoOtdB"
      }
    },
    {
      "cell_type": "code",
      "source": [],
      "metadata": {
        "id": "1m8IH2RaPKNN"
      },
      "execution_count": null,
      "outputs": []
    },
    {
      "cell_type": "markdown",
      "source": [
        "# Question - 03"
      ],
      "metadata": {
        "id": "EMnrIRBTPKlu"
      }
    },
    {
      "cell_type": "markdown",
      "source": [
        "In the last 5 years (2014-18), which months usually had the highest occurrence of events? In total, which month suffered the most events?"
      ],
      "metadata": {
        "id": "7baZN9jvPNS8"
      }
    },
    {
      "cell_type": "code",
      "source": [],
      "metadata": {
        "id": "7unNaJEZQG1j"
      },
      "execution_count": null,
      "outputs": []
    },
    {
      "cell_type": "code",
      "source": [],
      "metadata": {
        "id": "sBaVdTp3QWME"
      },
      "execution_count": null,
      "outputs": []
    },
    {
      "cell_type": "markdown",
      "source": [
        "# Question - 04"
      ],
      "metadata": {
        "id": "UUpJSTStQHTc"
      }
    },
    {
      "cell_type": "markdown",
      "source": [
        "what was the most common event in 2018? Create a histogram of all event counts."
      ],
      "metadata": {
        "id": "6NenalKQQUgk"
      }
    },
    {
      "cell_type": "code",
      "source": [],
      "metadata": {
        "id": "wRIxebOIQx24"
      },
      "execution_count": null,
      "outputs": []
    },
    {
      "cell_type": "markdown",
      "source": [
        "# Question - 05"
      ],
      "metadata": {
        "id": "v32XBrcBQySp"
      }
    },
    {
      "cell_type": "markdown",
      "source": [
        "There were different types of flood events. Compile everything (for 2018) in a separate dataframe. Then provide a summary on what are the most likely month for each type of flood."
      ],
      "metadata": {
        "id": "UBA3HKX2Q5hC"
      }
    },
    {
      "cell_type": "code",
      "source": [],
      "metadata": {
        "id": "A2xQhaARz9ox"
      },
      "execution_count": null,
      "outputs": []
    },
    {
      "cell_type": "markdown",
      "source": [
        "# Question - 06"
      ],
      "metadata": {
        "id": "5owpUcVVz-PT"
      }
    },
    {
      "cell_type": "markdown",
      "source": [
        "Which event caused the highest amount of casualties in the last 5 years?\n",
        "\n",
        "Hint: For casualty calculation - you need to sum both injuries and deaths columns (both direct and indirect)."
      ],
      "metadata": {
        "id": "zkQQq-tE0AvJ"
      }
    },
    {
      "cell_type": "code",
      "source": [],
      "metadata": {
        "id": "CVaJuvc50vqw"
      },
      "execution_count": null,
      "outputs": []
    },
    {
      "cell_type": "markdown",
      "source": [
        "# Question - 07"
      ],
      "metadata": {
        "id": "Nnluj5eH0wAp"
      }
    },
    {
      "cell_type": "markdown",
      "source": [
        "Using the latitude and longitude columns, point out the locations in a map where flash floods occurred in 2018."
      ],
      "metadata": {
        "id": "C5baxe4y0yrf"
      }
    },
    {
      "cell_type": "code",
      "source": [],
      "metadata": {
        "id": "wnLm26LC1tlO"
      },
      "execution_count": null,
      "outputs": []
    },
    {
      "cell_type": "markdown",
      "source": [
        "# Question - 08"
      ],
      "metadata": {
        "id": "EGeWqFet1vCn"
      }
    },
    {
      "cell_type": "markdown",
      "source": [
        "\"The number of deaths caused by hurricane events increased in the last 5 years\" - provide justification to this claim visually."
      ],
      "metadata": {
        "id": "w8ORiedO1t_2"
      }
    },
    {
      "cell_type": "code",
      "source": [],
      "metadata": {
        "id": "7Bt6eOCHGrt2"
      },
      "execution_count": null,
      "outputs": []
    },
    {
      "cell_type": "markdown",
      "source": [
        "# Question - 09"
      ],
      "metadata": {
        "id": "MKQxBGpaGsRG"
      }
    },
    {
      "cell_type": "markdown",
      "source": [
        "Which singular events caused the highest damage to property and life in the last five years. Find the name of such hurricane and wildfire events."
      ],
      "metadata": {
        "id": "gIpjpr0GGu1G"
      }
    },
    {
      "cell_type": "code",
      "source": [],
      "metadata": {
        "id": "s8Uw7Xn4HziW"
      },
      "execution_count": null,
      "outputs": []
    },
    {
      "cell_type": "markdown",
      "source": [
        "# Question - 10"
      ],
      "metadata": {
        "id": "iDLHpkrKH04v"
      }
    },
    {
      "cell_type": "markdown",
      "source": [
        "Find the correlation between the type of events with other features such as damage to property, life, crops and month."
      ],
      "metadata": {
        "id": "gQ9CCyHQHz9d"
      }
    },
    {
      "cell_type": "code",
      "source": [],
      "metadata": {
        "id": "Mq8eEKKJI1fU"
      },
      "execution_count": null,
      "outputs": []
    },
    {
      "cell_type": "markdown",
      "source": [
        "# Question - 11"
      ],
      "metadata": {
        "id": "67xfmHklIXNr"
      }
    },
    {
      "cell_type": "markdown",
      "source": [
        "Extract the data for any State you like (for the last 5 years). Provide a overall summary of events in that particular state - most frequent, most costly, most deadly event, etc."
      ],
      "metadata": {
        "id": "9QswcPDLIhuz"
      }
    },
    {
      "cell_type": "code",
      "source": [],
      "metadata": {
        "id": "_-6pCh6bI1C9"
      },
      "execution_count": null,
      "outputs": []
    },
    {
      "cell_type": "markdown",
      "source": [
        "# Question - 12"
      ],
      "metadata": {
        "id": "rb3k8kDsJKER"
      }
    },
    {
      "cell_type": "markdown",
      "source": [
        "Which side of USA (east, west, north, south) observed the highest amount of rainfall in the last 5 years?"
      ],
      "metadata": {
        "id": "Ddqkw5EaI0mc"
      }
    },
    {
      "cell_type": "markdown",
      "source": [
        "For Additional Mark: Create a GIF showcasing the change in rainfall events over the years."
      ],
      "metadata": {
        "id": "e_cPkWBWKHkl"
      }
    },
    {
      "cell_type": "code",
      "source": [],
      "metadata": {
        "id": "lrm-Yq-OJ-F1"
      },
      "execution_count": null,
      "outputs": []
    }
  ]
}