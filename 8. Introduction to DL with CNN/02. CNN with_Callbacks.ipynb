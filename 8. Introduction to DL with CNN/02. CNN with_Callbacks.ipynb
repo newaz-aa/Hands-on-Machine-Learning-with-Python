{
  "nbformat": 4,
  "nbformat_minor": 0,
  "metadata": {
    "colab": {
      "provenance": [],
      "gpuType": "T4"
    },
    "kernelspec": {
      "name": "python3",
      "display_name": "Python 3"
    },
    "language_info": {
      "name": "python"
    },
    "accelerator": "GPU"
  },
  "cells": [
    {
      "cell_type": "markdown",
      "source": [
        "Prepared by\n",
        "\n",
        "*Asif Newaz*\n",
        "\n",
        "*Lecturer, EEE, IUT*"
      ],
      "metadata": {
        "id": "-JXb7tg69Y_9"
      }
    },
    {
      "cell_type": "markdown",
      "source": [
        "**This notebook covers how to use different callbacks when building CNN architecture**\n",
        "\n",
        "Refer to the 1st notebook to understand how to create CNN architectures - https://github.com/newaz-aa/CNN/blob/main/01.%20Creating%20CNN_architecture.ipynb"
      ],
      "metadata": {
        "id": "hZD5Z2w2Vs5n"
      }
    },
    {
      "cell_type": "markdown",
      "source": [
        "# CNN model without callback"
      ],
      "metadata": {
        "id": "rgzyLrz2W33X"
      }
    },
    {
      "cell_type": "code",
      "execution_count": 2,
      "metadata": {
        "id": "0UVBQ9xzUHS0"
      },
      "outputs": [],
      "source": [
        "import tensorflow as tf"
      ]
    },
    {
      "cell_type": "code",
      "source": [
        "import matplotlib.pyplot as plt\n",
        "import pandas as pd"
      ],
      "metadata": {
        "id": "kWVe8AUpXAJN"
      },
      "execution_count": 3,
      "outputs": []
    },
    {
      "cell_type": "code",
      "source": [
        "(X_train, y_train), (X_test, y_test) = tf.keras.datasets.cifar10.load_data()"
      ],
      "metadata": {
        "colab": {
          "base_uri": "https://localhost:8080/"
        },
        "id": "rvMC2T3yXCOd",
        "outputId": "3e948d08-faa2-4793-bac3-e3d1a6964aa3"
      },
      "execution_count": 4,
      "outputs": [
        {
          "output_type": "stream",
          "name": "stdout",
          "text": [
            "Downloading data from https://www.cs.toronto.edu/~kriz/cifar-10-python.tar.gz\n",
            "170498071/170498071 [==============================] - 4s 0us/step\n"
          ]
        }
      ]
    },
    {
      "cell_type": "code",
      "source": [
        "X_train = X_train / 255\n",
        "X_test = X_test / 255"
      ],
      "metadata": {
        "id": "pSRT2FPpY8lL"
      },
      "execution_count": 5,
      "outputs": []
    },
    {
      "cell_type": "code",
      "source": [
        "model_v5 = tf.keras.Sequential(\n",
        "    [\n",
        "    tf.keras.layers.Conv2D(32, (3,3), padding= 'same', activation=\"relu\",input_shape=(32, 32, 3)),\n",
        "    tf.keras.layers.MaxPooling2D((2, 2), padding= 'same',  strides=1),\n",
        "    tf.keras.layers.BatchNormalization(),\n",
        "\n",
        "    tf.keras.layers.Conv2D(32, (3,3), padding= 'same',  activation=\"relu\"),\n",
        "    tf.keras.layers.MaxPooling2D((2, 2), padding= 'same',  strides=2),\n",
        "    tf.keras.layers.Dropout(0.2),\n",
        "\n",
        "    tf.keras.layers.Conv2D(64, (3,3), padding= 'same', activation=\"relu\"),\n",
        "    tf.keras.layers.MaxPooling2D((2, 2), padding= 'same',  strides=1),\n",
        "    tf.keras.layers.BatchNormalization(),\n",
        "\n",
        "    tf.keras.layers.Conv2D(64, (3,3), padding= 'same', activation=\"relu\"),\n",
        "    tf.keras.layers.MaxPooling2D((2, 2), padding= 'same',  strides=2),\n",
        "    tf.keras.layers.Dropout(0.2),\n",
        "\n",
        "    tf.keras.layers.Conv2D(128, (3,3), padding= 'same', activation=\"relu\"),\n",
        "    tf.keras.layers.MaxPooling2D((2, 2), padding= 'same',  strides=2),\n",
        "\n",
        "    tf.keras.layers.Flatten(),\n",
        "    tf.keras.layers.Dense(200, activation=\"relu\"),\n",
        "    tf.keras.layers.BatchNormalization(),\n",
        "    tf.keras.layers.Dropout(0.2),\n",
        "    tf.keras.layers.Dense(10, activation=\"softmax\")\n",
        "]\n",
        ")"
      ],
      "metadata": {
        "id": "joOuyiinZDZk"
      },
      "execution_count": 7,
      "outputs": []
    },
    {
      "cell_type": "code",
      "source": [
        "model_v5.summary()"
      ],
      "metadata": {
        "colab": {
          "base_uri": "https://localhost:8080/"
        },
        "id": "voQR41mLZENj",
        "outputId": "fc959448-df1b-454f-b2f3-bc2d8f2140ad"
      },
      "execution_count": 8,
      "outputs": [
        {
          "output_type": "stream",
          "name": "stdout",
          "text": [
            "Model: \"sequential\"\n",
            "_________________________________________________________________\n",
            " Layer (type)                Output Shape              Param #   \n",
            "=================================================================\n",
            " conv2d (Conv2D)             (None, 32, 32, 32)        896       \n",
            "                                                                 \n",
            " max_pooling2d (MaxPooling2  (None, 32, 32, 32)        0         \n",
            " D)                                                              \n",
            "                                                                 \n",
            " batch_normalization (Batch  (None, 32, 32, 32)        128       \n",
            " Normalization)                                                  \n",
            "                                                                 \n",
            " conv2d_1 (Conv2D)           (None, 32, 32, 32)        9248      \n",
            "                                                                 \n",
            " max_pooling2d_1 (MaxPoolin  (None, 16, 16, 32)        0         \n",
            " g2D)                                                            \n",
            "                                                                 \n",
            " dropout (Dropout)           (None, 16, 16, 32)        0         \n",
            "                                                                 \n",
            " conv2d_2 (Conv2D)           (None, 16, 16, 64)        18496     \n",
            "                                                                 \n",
            " max_pooling2d_2 (MaxPoolin  (None, 16, 16, 64)        0         \n",
            " g2D)                                                            \n",
            "                                                                 \n",
            " batch_normalization_1 (Bat  (None, 16, 16, 64)        256       \n",
            " chNormalization)                                                \n",
            "                                                                 \n",
            " conv2d_3 (Conv2D)           (None, 16, 16, 64)        36928     \n",
            "                                                                 \n",
            " max_pooling2d_3 (MaxPoolin  (None, 8, 8, 64)          0         \n",
            " g2D)                                                            \n",
            "                                                                 \n",
            " dropout_1 (Dropout)         (None, 8, 8, 64)          0         \n",
            "                                                                 \n",
            " conv2d_4 (Conv2D)           (None, 8, 8, 128)         73856     \n",
            "                                                                 \n",
            " max_pooling2d_4 (MaxPoolin  (None, 4, 4, 128)         0         \n",
            " g2D)                                                            \n",
            "                                                                 \n",
            " flatten (Flatten)           (None, 2048)              0         \n",
            "                                                                 \n",
            " dense (Dense)               (None, 200)               409800    \n",
            "                                                                 \n",
            " batch_normalization_2 (Bat  (None, 200)               800       \n",
            " chNormalization)                                                \n",
            "                                                                 \n",
            " dropout_2 (Dropout)         (None, 200)               0         \n",
            "                                                                 \n",
            " dense_1 (Dense)             (None, 10)                2010      \n",
            "                                                                 \n",
            "=================================================================\n",
            "Total params: 552418 (2.11 MB)\n",
            "Trainable params: 551826 (2.11 MB)\n",
            "Non-trainable params: 592 (2.31 KB)\n",
            "_________________________________________________________________\n"
          ]
        }
      ]
    },
    {
      "cell_type": "code",
      "source": [
        "model_v5.compile(optimizer='adam',\n",
        "              loss=tf.keras.losses.SparseCategoricalCrossentropy(),\n",
        "              metrics=['accuracy'])"
      ],
      "metadata": {
        "id": "uQs9DS_aZF6r"
      },
      "execution_count": 9,
      "outputs": []
    },
    {
      "cell_type": "code",
      "source": [
        "history_v5 = model_v5.fit(X_train,y_train, epochs=50, batch_size= 128, validation_data=(X_test,y_test))"
      ],
      "metadata": {
        "colab": {
          "base_uri": "https://localhost:8080/"
        },
        "id": "2XuALe7eZLuv",
        "outputId": "e36edb72-9c27-48d8-9a9a-89691bc70748"
      },
      "execution_count": 10,
      "outputs": [
        {
          "output_type": "stream",
          "name": "stdout",
          "text": [
            "Epoch 1/50\n",
            "391/391 [==============================] - 17s 22ms/step - loss: 1.3610 - accuracy: 0.5197 - val_loss: 3.0537 - val_accuracy: 0.2418\n",
            "Epoch 2/50\n",
            "391/391 [==============================] - 7s 17ms/step - loss: 0.9391 - accuracy: 0.6711 - val_loss: 1.2991 - val_accuracy: 0.5720\n",
            "Epoch 3/50\n",
            "391/391 [==============================] - 7s 19ms/step - loss: 0.7918 - accuracy: 0.7255 - val_loss: 1.0032 - val_accuracy: 0.6683\n",
            "Epoch 4/50\n",
            "391/391 [==============================] - 7s 18ms/step - loss: 0.6981 - accuracy: 0.7555 - val_loss: 0.7335 - val_accuracy: 0.7525\n",
            "Epoch 5/50\n",
            "391/391 [==============================] - 7s 18ms/step - loss: 0.6320 - accuracy: 0.7816 - val_loss: 0.9072 - val_accuracy: 0.6934\n",
            "Epoch 6/50\n",
            "391/391 [==============================] - 8s 20ms/step - loss: 0.5766 - accuracy: 0.7993 - val_loss: 0.8615 - val_accuracy: 0.7085\n",
            "Epoch 7/50\n",
            "391/391 [==============================] - 7s 18ms/step - loss: 0.5392 - accuracy: 0.8125 - val_loss: 0.6889 - val_accuracy: 0.7647\n",
            "Epoch 8/50\n",
            "391/391 [==============================] - 7s 18ms/step - loss: 0.4973 - accuracy: 0.8272 - val_loss: 0.6227 - val_accuracy: 0.7860\n",
            "Epoch 9/50\n",
            "391/391 [==============================] - 7s 18ms/step - loss: 0.4674 - accuracy: 0.8384 - val_loss: 0.6372 - val_accuracy: 0.7909\n",
            "Epoch 10/50\n",
            "391/391 [==============================] - 7s 18ms/step - loss: 0.4389 - accuracy: 0.8465 - val_loss: 0.6080 - val_accuracy: 0.7954\n",
            "Epoch 11/50\n",
            "391/391 [==============================] - 7s 19ms/step - loss: 0.4050 - accuracy: 0.8594 - val_loss: 0.6266 - val_accuracy: 0.7927\n",
            "Epoch 12/50\n",
            "391/391 [==============================] - 7s 18ms/step - loss: 0.3928 - accuracy: 0.8615 - val_loss: 0.6191 - val_accuracy: 0.7994\n",
            "Epoch 13/50\n",
            "391/391 [==============================] - 7s 18ms/step - loss: 0.3654 - accuracy: 0.8720 - val_loss: 0.6776 - val_accuracy: 0.7846\n",
            "Epoch 14/50\n",
            "391/391 [==============================] - 7s 18ms/step - loss: 0.3414 - accuracy: 0.8796 - val_loss: 0.7972 - val_accuracy: 0.7503\n",
            "Epoch 15/50\n",
            "391/391 [==============================] - 7s 18ms/step - loss: 0.3232 - accuracy: 0.8854 - val_loss: 0.6909 - val_accuracy: 0.7896\n",
            "Epoch 16/50\n",
            "391/391 [==============================] - 7s 19ms/step - loss: 0.3105 - accuracy: 0.8892 - val_loss: 1.0481 - val_accuracy: 0.7021\n",
            "Epoch 17/50\n",
            "391/391 [==============================] - 7s 18ms/step - loss: 0.2942 - accuracy: 0.8931 - val_loss: 0.6687 - val_accuracy: 0.7981\n",
            "Epoch 18/50\n",
            "391/391 [==============================] - 8s 19ms/step - loss: 0.2797 - accuracy: 0.9007 - val_loss: 0.7292 - val_accuracy: 0.7792\n",
            "Epoch 19/50\n",
            "391/391 [==============================] - 8s 20ms/step - loss: 0.2660 - accuracy: 0.9042 - val_loss: 0.6946 - val_accuracy: 0.7876\n",
            "Epoch 20/50\n",
            "391/391 [==============================] - 7s 19ms/step - loss: 0.2548 - accuracy: 0.9096 - val_loss: 0.6924 - val_accuracy: 0.7938\n",
            "Epoch 21/50\n",
            "391/391 [==============================] - 9s 22ms/step - loss: 0.2401 - accuracy: 0.9141 - val_loss: 0.6872 - val_accuracy: 0.8002\n",
            "Epoch 22/50\n",
            "391/391 [==============================] - 8s 20ms/step - loss: 0.2297 - accuracy: 0.9182 - val_loss: 0.7247 - val_accuracy: 0.7958\n",
            "Epoch 23/50\n",
            "391/391 [==============================] - 8s 20ms/step - loss: 0.2213 - accuracy: 0.9211 - val_loss: 0.6375 - val_accuracy: 0.8078\n",
            "Epoch 24/50\n",
            "391/391 [==============================] - 8s 20ms/step - loss: 0.2203 - accuracy: 0.9217 - val_loss: 0.6918 - val_accuracy: 0.7980\n",
            "Epoch 25/50\n",
            "391/391 [==============================] - 8s 19ms/step - loss: 0.2057 - accuracy: 0.9267 - val_loss: 0.7045 - val_accuracy: 0.7990\n",
            "Epoch 26/50\n",
            "391/391 [==============================] - 8s 20ms/step - loss: 0.2031 - accuracy: 0.9265 - val_loss: 0.7333 - val_accuracy: 0.8013\n",
            "Epoch 27/50\n",
            "391/391 [==============================] - 8s 20ms/step - loss: 0.1916 - accuracy: 0.9321 - val_loss: 0.6382 - val_accuracy: 0.8225\n",
            "Epoch 28/50\n",
            "391/391 [==============================] - 7s 19ms/step - loss: 0.1828 - accuracy: 0.9349 - val_loss: 0.6879 - val_accuracy: 0.8100\n",
            "Epoch 29/50\n",
            "391/391 [==============================] - 7s 19ms/step - loss: 0.1825 - accuracy: 0.9336 - val_loss: 0.6935 - val_accuracy: 0.8101\n",
            "Epoch 30/50\n",
            "391/391 [==============================] - 8s 19ms/step - loss: 0.1788 - accuracy: 0.9346 - val_loss: 0.7204 - val_accuracy: 0.8026\n",
            "Epoch 31/50\n",
            "391/391 [==============================] - 7s 19ms/step - loss: 0.1681 - accuracy: 0.9400 - val_loss: 0.6425 - val_accuracy: 0.8234\n",
            "Epoch 32/50\n",
            "391/391 [==============================] - 7s 18ms/step - loss: 0.1563 - accuracy: 0.9447 - val_loss: 0.6556 - val_accuracy: 0.8214\n",
            "Epoch 33/50\n",
            "391/391 [==============================] - 7s 17ms/step - loss: 0.1555 - accuracy: 0.9443 - val_loss: 0.6801 - val_accuracy: 0.8252\n",
            "Epoch 34/50\n",
            "391/391 [==============================] - 7s 18ms/step - loss: 0.1534 - accuracy: 0.9449 - val_loss: 0.7165 - val_accuracy: 0.8120\n",
            "Epoch 35/50\n",
            "391/391 [==============================] - 8s 20ms/step - loss: 0.1515 - accuracy: 0.9458 - val_loss: 0.8246 - val_accuracy: 0.7962\n",
            "Epoch 36/50\n",
            "391/391 [==============================] - 8s 21ms/step - loss: 0.1461 - accuracy: 0.9482 - val_loss: 0.7962 - val_accuracy: 0.8026\n",
            "Epoch 37/50\n",
            "391/391 [==============================] - 7s 18ms/step - loss: 0.1409 - accuracy: 0.9484 - val_loss: 0.7135 - val_accuracy: 0.8224\n",
            "Epoch 38/50\n",
            "391/391 [==============================] - 7s 18ms/step - loss: 0.1410 - accuracy: 0.9495 - val_loss: 0.7595 - val_accuracy: 0.8123\n",
            "Epoch 39/50\n",
            "391/391 [==============================] - 7s 18ms/step - loss: 0.1419 - accuracy: 0.9497 - val_loss: 0.6862 - val_accuracy: 0.8174\n",
            "Epoch 40/50\n",
            "391/391 [==============================] - 8s 21ms/step - loss: 0.1361 - accuracy: 0.9516 - val_loss: 0.7671 - val_accuracy: 0.8091\n",
            "Epoch 41/50\n",
            "391/391 [==============================] - 7s 18ms/step - loss: 0.1281 - accuracy: 0.9542 - val_loss: 0.7332 - val_accuracy: 0.8214\n",
            "Epoch 42/50\n",
            "391/391 [==============================] - 8s 20ms/step - loss: 0.1284 - accuracy: 0.9553 - val_loss: 0.9388 - val_accuracy: 0.7816\n",
            "Epoch 43/50\n",
            "391/391 [==============================] - 7s 19ms/step - loss: 0.1262 - accuracy: 0.9553 - val_loss: 0.7243 - val_accuracy: 0.8236\n",
            "Epoch 44/50\n",
            "391/391 [==============================] - 7s 18ms/step - loss: 0.1259 - accuracy: 0.9543 - val_loss: 0.7001 - val_accuracy: 0.8271\n",
            "Epoch 45/50\n",
            "391/391 [==============================] - 7s 19ms/step - loss: 0.1143 - accuracy: 0.9588 - val_loss: 0.9249 - val_accuracy: 0.7874\n",
            "Epoch 46/50\n",
            "391/391 [==============================] - 7s 19ms/step - loss: 0.1142 - accuracy: 0.9589 - val_loss: 0.8449 - val_accuracy: 0.7990\n",
            "Epoch 47/50\n",
            "391/391 [==============================] - 7s 18ms/step - loss: 0.1202 - accuracy: 0.9574 - val_loss: 0.7411 - val_accuracy: 0.8220\n",
            "Epoch 48/50\n",
            "391/391 [==============================] - 7s 18ms/step - loss: 0.1158 - accuracy: 0.9590 - val_loss: 0.7404 - val_accuracy: 0.8237\n",
            "Epoch 49/50\n",
            "391/391 [==============================] - 7s 19ms/step - loss: 0.1139 - accuracy: 0.9596 - val_loss: 0.7704 - val_accuracy: 0.8247\n",
            "Epoch 50/50\n",
            "391/391 [==============================] - 7s 19ms/step - loss: 0.1124 - accuracy: 0.9597 - val_loss: 0.6937 - val_accuracy: 0.8267\n"
          ]
        }
      ]
    },
    {
      "cell_type": "code",
      "source": [
        "df_v5 = pd.DataFrame(history_v5.history)\n",
        "df_v5.tail()"
      ],
      "metadata": {
        "colab": {
          "base_uri": "https://localhost:8080/",
          "height": 206
        },
        "id": "3loyBKnRZJYV",
        "outputId": "7662c76a-2d97-4d15-f55a-5f200119ee6b"
      },
      "execution_count": 11,
      "outputs": [
        {
          "output_type": "execute_result",
          "data": {
            "text/plain": [
              "        loss  accuracy  val_loss  val_accuracy\n",
              "45  0.114223   0.95892  0.844929        0.7990\n",
              "46  0.120170   0.95738  0.741110        0.8220\n",
              "47  0.115752   0.95896  0.740429        0.8237\n",
              "48  0.113939   0.95960  0.770361        0.8247\n",
              "49  0.112380   0.95972  0.693697        0.8267"
            ],
            "text/html": [
              "\n",
              "  <div id=\"df-5046bb14-0a2c-4ee1-8e83-b475061f31fd\" class=\"colab-df-container\">\n",
              "    <div>\n",
              "<style scoped>\n",
              "    .dataframe tbody tr th:only-of-type {\n",
              "        vertical-align: middle;\n",
              "    }\n",
              "\n",
              "    .dataframe tbody tr th {\n",
              "        vertical-align: top;\n",
              "    }\n",
              "\n",
              "    .dataframe thead th {\n",
              "        text-align: right;\n",
              "    }\n",
              "</style>\n",
              "<table border=\"1\" class=\"dataframe\">\n",
              "  <thead>\n",
              "    <tr style=\"text-align: right;\">\n",
              "      <th></th>\n",
              "      <th>loss</th>\n",
              "      <th>accuracy</th>\n",
              "      <th>val_loss</th>\n",
              "      <th>val_accuracy</th>\n",
              "    </tr>\n",
              "  </thead>\n",
              "  <tbody>\n",
              "    <tr>\n",
              "      <th>45</th>\n",
              "      <td>0.114223</td>\n",
              "      <td>0.95892</td>\n",
              "      <td>0.844929</td>\n",
              "      <td>0.7990</td>\n",
              "    </tr>\n",
              "    <tr>\n",
              "      <th>46</th>\n",
              "      <td>0.120170</td>\n",
              "      <td>0.95738</td>\n",
              "      <td>0.741110</td>\n",
              "      <td>0.8220</td>\n",
              "    </tr>\n",
              "    <tr>\n",
              "      <th>47</th>\n",
              "      <td>0.115752</td>\n",
              "      <td>0.95896</td>\n",
              "      <td>0.740429</td>\n",
              "      <td>0.8237</td>\n",
              "    </tr>\n",
              "    <tr>\n",
              "      <th>48</th>\n",
              "      <td>0.113939</td>\n",
              "      <td>0.95960</td>\n",
              "      <td>0.770361</td>\n",
              "      <td>0.8247</td>\n",
              "    </tr>\n",
              "    <tr>\n",
              "      <th>49</th>\n",
              "      <td>0.112380</td>\n",
              "      <td>0.95972</td>\n",
              "      <td>0.693697</td>\n",
              "      <td>0.8267</td>\n",
              "    </tr>\n",
              "  </tbody>\n",
              "</table>\n",
              "</div>\n",
              "    <div class=\"colab-df-buttons\">\n",
              "\n",
              "  <div class=\"colab-df-container\">\n",
              "    <button class=\"colab-df-convert\" onclick=\"convertToInteractive('df-5046bb14-0a2c-4ee1-8e83-b475061f31fd')\"\n",
              "            title=\"Convert this dataframe to an interactive table.\"\n",
              "            style=\"display:none;\">\n",
              "\n",
              "  <svg xmlns=\"http://www.w3.org/2000/svg\" height=\"24px\" viewBox=\"0 -960 960 960\">\n",
              "    <path d=\"M120-120v-720h720v720H120Zm60-500h600v-160H180v160Zm220 220h160v-160H400v160Zm0 220h160v-160H400v160ZM180-400h160v-160H180v160Zm440 0h160v-160H620v160ZM180-180h160v-160H180v160Zm440 0h160v-160H620v160Z\"/>\n",
              "  </svg>\n",
              "    </button>\n",
              "\n",
              "  <style>\n",
              "    .colab-df-container {\n",
              "      display:flex;\n",
              "      gap: 12px;\n",
              "    }\n",
              "\n",
              "    .colab-df-convert {\n",
              "      background-color: #E8F0FE;\n",
              "      border: none;\n",
              "      border-radius: 50%;\n",
              "      cursor: pointer;\n",
              "      display: none;\n",
              "      fill: #1967D2;\n",
              "      height: 32px;\n",
              "      padding: 0 0 0 0;\n",
              "      width: 32px;\n",
              "    }\n",
              "\n",
              "    .colab-df-convert:hover {\n",
              "      background-color: #E2EBFA;\n",
              "      box-shadow: 0px 1px 2px rgba(60, 64, 67, 0.3), 0px 1px 3px 1px rgba(60, 64, 67, 0.15);\n",
              "      fill: #174EA6;\n",
              "    }\n",
              "\n",
              "    .colab-df-buttons div {\n",
              "      margin-bottom: 4px;\n",
              "    }\n",
              "\n",
              "    [theme=dark] .colab-df-convert {\n",
              "      background-color: #3B4455;\n",
              "      fill: #D2E3FC;\n",
              "    }\n",
              "\n",
              "    [theme=dark] .colab-df-convert:hover {\n",
              "      background-color: #434B5C;\n",
              "      box-shadow: 0px 1px 3px 1px rgba(0, 0, 0, 0.15);\n",
              "      filter: drop-shadow(0px 1px 2px rgba(0, 0, 0, 0.3));\n",
              "      fill: #FFFFFF;\n",
              "    }\n",
              "  </style>\n",
              "\n",
              "    <script>\n",
              "      const buttonEl =\n",
              "        document.querySelector('#df-5046bb14-0a2c-4ee1-8e83-b475061f31fd button.colab-df-convert');\n",
              "      buttonEl.style.display =\n",
              "        google.colab.kernel.accessAllowed ? 'block' : 'none';\n",
              "\n",
              "      async function convertToInteractive(key) {\n",
              "        const element = document.querySelector('#df-5046bb14-0a2c-4ee1-8e83-b475061f31fd');\n",
              "        const dataTable =\n",
              "          await google.colab.kernel.invokeFunction('convertToInteractive',\n",
              "                                                    [key], {});\n",
              "        if (!dataTable) return;\n",
              "\n",
              "        const docLinkHtml = 'Like what you see? Visit the ' +\n",
              "          '<a target=\"_blank\" href=https://colab.research.google.com/notebooks/data_table.ipynb>data table notebook</a>'\n",
              "          + ' to learn more about interactive tables.';\n",
              "        element.innerHTML = '';\n",
              "        dataTable['output_type'] = 'display_data';\n",
              "        await google.colab.output.renderOutput(dataTable, element);\n",
              "        const docLink = document.createElement('div');\n",
              "        docLink.innerHTML = docLinkHtml;\n",
              "        element.appendChild(docLink);\n",
              "      }\n",
              "    </script>\n",
              "  </div>\n",
              "\n",
              "\n",
              "<div id=\"df-4245f843-635b-4651-ac10-4bda1af386cd\">\n",
              "  <button class=\"colab-df-quickchart\" onclick=\"quickchart('df-4245f843-635b-4651-ac10-4bda1af386cd')\"\n",
              "            title=\"Suggest charts\"\n",
              "            style=\"display:none;\">\n",
              "\n",
              "<svg xmlns=\"http://www.w3.org/2000/svg\" height=\"24px\"viewBox=\"0 0 24 24\"\n",
              "     width=\"24px\">\n",
              "    <g>\n",
              "        <path d=\"M19 3H5c-1.1 0-2 .9-2 2v14c0 1.1.9 2 2 2h14c1.1 0 2-.9 2-2V5c0-1.1-.9-2-2-2zM9 17H7v-7h2v7zm4 0h-2V7h2v10zm4 0h-2v-4h2v4z\"/>\n",
              "    </g>\n",
              "</svg>\n",
              "  </button>\n",
              "\n",
              "<style>\n",
              "  .colab-df-quickchart {\n",
              "      --bg-color: #E8F0FE;\n",
              "      --fill-color: #1967D2;\n",
              "      --hover-bg-color: #E2EBFA;\n",
              "      --hover-fill-color: #174EA6;\n",
              "      --disabled-fill-color: #AAA;\n",
              "      --disabled-bg-color: #DDD;\n",
              "  }\n",
              "\n",
              "  [theme=dark] .colab-df-quickchart {\n",
              "      --bg-color: #3B4455;\n",
              "      --fill-color: #D2E3FC;\n",
              "      --hover-bg-color: #434B5C;\n",
              "      --hover-fill-color: #FFFFFF;\n",
              "      --disabled-bg-color: #3B4455;\n",
              "      --disabled-fill-color: #666;\n",
              "  }\n",
              "\n",
              "  .colab-df-quickchart {\n",
              "    background-color: var(--bg-color);\n",
              "    border: none;\n",
              "    border-radius: 50%;\n",
              "    cursor: pointer;\n",
              "    display: none;\n",
              "    fill: var(--fill-color);\n",
              "    height: 32px;\n",
              "    padding: 0;\n",
              "    width: 32px;\n",
              "  }\n",
              "\n",
              "  .colab-df-quickchart:hover {\n",
              "    background-color: var(--hover-bg-color);\n",
              "    box-shadow: 0 1px 2px rgba(60, 64, 67, 0.3), 0 1px 3px 1px rgba(60, 64, 67, 0.15);\n",
              "    fill: var(--button-hover-fill-color);\n",
              "  }\n",
              "\n",
              "  .colab-df-quickchart-complete:disabled,\n",
              "  .colab-df-quickchart-complete:disabled:hover {\n",
              "    background-color: var(--disabled-bg-color);\n",
              "    fill: var(--disabled-fill-color);\n",
              "    box-shadow: none;\n",
              "  }\n",
              "\n",
              "  .colab-df-spinner {\n",
              "    border: 2px solid var(--fill-color);\n",
              "    border-color: transparent;\n",
              "    border-bottom-color: var(--fill-color);\n",
              "    animation:\n",
              "      spin 1s steps(1) infinite;\n",
              "  }\n",
              "\n",
              "  @keyframes spin {\n",
              "    0% {\n",
              "      border-color: transparent;\n",
              "      border-bottom-color: var(--fill-color);\n",
              "      border-left-color: var(--fill-color);\n",
              "    }\n",
              "    20% {\n",
              "      border-color: transparent;\n",
              "      border-left-color: var(--fill-color);\n",
              "      border-top-color: var(--fill-color);\n",
              "    }\n",
              "    30% {\n",
              "      border-color: transparent;\n",
              "      border-left-color: var(--fill-color);\n",
              "      border-top-color: var(--fill-color);\n",
              "      border-right-color: var(--fill-color);\n",
              "    }\n",
              "    40% {\n",
              "      border-color: transparent;\n",
              "      border-right-color: var(--fill-color);\n",
              "      border-top-color: var(--fill-color);\n",
              "    }\n",
              "    60% {\n",
              "      border-color: transparent;\n",
              "      border-right-color: var(--fill-color);\n",
              "    }\n",
              "    80% {\n",
              "      border-color: transparent;\n",
              "      border-right-color: var(--fill-color);\n",
              "      border-bottom-color: var(--fill-color);\n",
              "    }\n",
              "    90% {\n",
              "      border-color: transparent;\n",
              "      border-bottom-color: var(--fill-color);\n",
              "    }\n",
              "  }\n",
              "</style>\n",
              "\n",
              "  <script>\n",
              "    async function quickchart(key) {\n",
              "      const quickchartButtonEl =\n",
              "        document.querySelector('#' + key + ' button');\n",
              "      quickchartButtonEl.disabled = true;  // To prevent multiple clicks.\n",
              "      quickchartButtonEl.classList.add('colab-df-spinner');\n",
              "      try {\n",
              "        const charts = await google.colab.kernel.invokeFunction(\n",
              "            'suggestCharts', [key], {});\n",
              "      } catch (error) {\n",
              "        console.error('Error during call to suggestCharts:', error);\n",
              "      }\n",
              "      quickchartButtonEl.classList.remove('colab-df-spinner');\n",
              "      quickchartButtonEl.classList.add('colab-df-quickchart-complete');\n",
              "    }\n",
              "    (() => {\n",
              "      let quickchartButtonEl =\n",
              "        document.querySelector('#df-4245f843-635b-4651-ac10-4bda1af386cd button');\n",
              "      quickchartButtonEl.style.display =\n",
              "        google.colab.kernel.accessAllowed ? 'block' : 'none';\n",
              "    })();\n",
              "  </script>\n",
              "</div>\n",
              "\n",
              "    </div>\n",
              "  </div>\n"
            ]
          },
          "metadata": {},
          "execution_count": 11
        }
      ]
    },
    {
      "cell_type": "code",
      "source": [
        "df_v5[[\"accuracy\",\"val_accuracy\"]].plot();"
      ],
      "metadata": {
        "colab": {
          "base_uri": "https://localhost:8080/",
          "height": 430
        },
        "id": "9wLu1amKZNw7",
        "outputId": "7dd9877c-eeb7-4cb1-f6ee-1785a3f62b77"
      },
      "execution_count": 12,
      "outputs": [
        {
          "output_type": "display_data",
          "data": {
            "text/plain": [
              "<Figure size 640x480 with 1 Axes>"
            ],
            "image/png": "[encoded data removed]"
          },
          "metadata": {}
        }
      ]
    },
    {
      "cell_type": "code",
      "source": [
        "df_v5[[\"loss\",\"val_loss\"]].plot();"
      ],
      "metadata": {
        "colab": {
          "base_uri": "https://localhost:8080/",
          "height": 430
        },
        "id": "jJsTIVKlbtoJ",
        "outputId": "d758e863-ef7a-4cd5-ebaa-71b26f845eb1"
      },
      "execution_count": 17,
      "outputs": [
        {
          "output_type": "display_data",
          "data": {
            "text/plain": [
              "<Figure size 640x480 with 1 Axes>"
            ],
            "image/png": "[encoded data removed]"
          },
          "metadata": {}
        }
      ]
    },
    {
      "cell_type": "markdown",
      "source": [
        "# CNN model with Callback"
      ],
      "metadata": {
        "id": "F8UxIDQ0Z6Dj"
      }
    },
    {
      "cell_type": "markdown",
      "source": [
        "There are different callbacks available in the TensorFlow library. We are interested in early_stopping callback to stop training if the model stops improving. This will reduce overfitting of the model."
      ],
      "metadata": {
        "id": "nczkc-7QZ5p_"
      }
    },
    {
      "cell_type": "markdown",
      "source": [
        "https://www.tensorflow.org/api_docs/python/tf/keras/callbacks\n",
        "\n",
        "https://www.tensorflow.org/api_docs/python/tf/keras/callbacks/EarlyStopping"
      ],
      "metadata": {
        "id": "dJtwrsTwafVY"
      }
    },
    {
      "cell_type": "code",
      "source": [
        "early_stop = tf.keras.callbacks.EarlyStopping(monitor='val_loss', patience=5)"
      ],
      "metadata": {
        "id": "Ah8PG4DAZ-PZ"
      },
      "execution_count": 13,
      "outputs": []
    },
    {
      "cell_type": "markdown",
      "source": [
        "This will check validation loss after each epoch and for consecutive 5 epochs, if the val_loss dont decrease, the model will stop training."
      ],
      "metadata": {
        "id": "le1Q5LSwbc7p"
      }
    },
    {
      "cell_type": "code",
      "source": [
        "# same as v5\n",
        "model_v6 = tf.keras.Sequential(\n",
        "    [\n",
        "    tf.keras.layers.Conv2D(32, (3,3), padding= 'same', activation=\"relu\",input_shape=(32, 32, 3)),\n",
        "    tf.keras.layers.MaxPooling2D((2, 2), padding= 'same',  strides=1),\n",
        "    tf.keras.layers.BatchNormalization(),\n",
        "\n",
        "    tf.keras.layers.Conv2D(32, (3,3), padding= 'same',  activation=\"relu\"),\n",
        "    tf.keras.layers.MaxPooling2D((2, 2), padding= 'same',  strides=2),\n",
        "    tf.keras.layers.Dropout(0.2),\n",
        "\n",
        "    tf.keras.layers.Conv2D(64, (3,3), padding= 'same', activation=\"relu\"),\n",
        "    tf.keras.layers.MaxPooling2D((2, 2), padding= 'same',  strides=1),\n",
        "    tf.keras.layers.BatchNormalization(),\n",
        "\n",
        "    tf.keras.layers.Conv2D(64, (3,3), padding= 'same', activation=\"relu\"),\n",
        "    tf.keras.layers.MaxPooling2D((2, 2), padding= 'same',  strides=2),\n",
        "    tf.keras.layers.Dropout(0.2),\n",
        "\n",
        "    tf.keras.layers.Conv2D(128, (3,3), padding= 'same', activation=\"relu\"),\n",
        "    tf.keras.layers.MaxPooling2D((2, 2), padding= 'same',  strides=2),\n",
        "\n",
        "    tf.keras.layers.Flatten(),\n",
        "    tf.keras.layers.Dense(200, activation=\"relu\"),\n",
        "    tf.keras.layers.BatchNormalization(),\n",
        "    tf.keras.layers.Dropout(0.2),\n",
        "    tf.keras.layers.Dense(10, activation=\"softmax\")\n",
        "]\n",
        ")"
      ],
      "metadata": {
        "id": "CdVSKna-auXA"
      },
      "execution_count": 14,
      "outputs": []
    },
    {
      "cell_type": "code",
      "source": [
        "model_v6.compile(optimizer='adam',\n",
        "              loss=tf.keras.losses.SparseCategoricalCrossentropy(),\n",
        "              metrics=['accuracy'])"
      ],
      "metadata": {
        "id": "O0_S4J_La3qk"
      },
      "execution_count": 15,
      "outputs": []
    },
    {
      "cell_type": "code",
      "source": [
        "history_v6 = model_v6.fit(X_train,y_train,\n",
        "                          epochs=50,\n",
        "                          batch_size= 128,\n",
        "                          validation_data=(X_test,y_test),\n",
        "                          callbacks=early_stop)"
      ],
      "metadata": {
        "colab": {
          "base_uri": "https://localhost:8080/"
        },
        "id": "AStabN6JbAvp",
        "outputId": "5917d0c8-ecce-4f5c-a8ff-86d8099e9be9"
      },
      "execution_count": 16,
      "outputs": [
        {
          "output_type": "stream",
          "name": "stdout",
          "text": [
            "Epoch 1/50\n",
            "391/391 [==============================] - 12s 22ms/step - loss: 1.3408 - accuracy: 0.5276 - val_loss: 3.7509 - val_accuracy: 0.1874\n",
            "Epoch 2/50\n",
            "391/391 [==============================] - 8s 20ms/step - loss: 0.9430 - accuracy: 0.6680 - val_loss: 1.3566 - val_accuracy: 0.5549\n",
            "Epoch 3/50\n",
            "391/391 [==============================] - 8s 20ms/step - loss: 0.8007 - accuracy: 0.7193 - val_loss: 1.2128 - val_accuracy: 0.6051\n",
            "Epoch 4/50\n",
            "391/391 [==============================] - 7s 19ms/step - loss: 0.7084 - accuracy: 0.7554 - val_loss: 0.7886 - val_accuracy: 0.7249\n",
            "Epoch 5/50\n",
            "391/391 [==============================] - 8s 21ms/step - loss: 0.6414 - accuracy: 0.7739 - val_loss: 0.7166 - val_accuracy: 0.7522\n",
            "Epoch 6/50\n",
            "391/391 [==============================] - 7s 19ms/step - loss: 0.5828 - accuracy: 0.7962 - val_loss: 0.8068 - val_accuracy: 0.7282\n",
            "Epoch 7/50\n",
            "391/391 [==============================] - 7s 18ms/step - loss: 0.5423 - accuracy: 0.8115 - val_loss: 0.6983 - val_accuracy: 0.7636\n",
            "Epoch 8/50\n",
            "391/391 [==============================] - 8s 19ms/step - loss: 0.5054 - accuracy: 0.8234 - val_loss: 0.7714 - val_accuracy: 0.7411\n",
            "Epoch 9/50\n",
            "391/391 [==============================] - 7s 18ms/step - loss: 0.4693 - accuracy: 0.8354 - val_loss: 0.7373 - val_accuracy: 0.7535\n",
            "Epoch 10/50\n",
            "391/391 [==============================] - 7s 18ms/step - loss: 0.4369 - accuracy: 0.8463 - val_loss: 0.7109 - val_accuracy: 0.7662\n",
            "Epoch 11/50\n",
            "391/391 [==============================] - 7s 18ms/step - loss: 0.4188 - accuracy: 0.8514 - val_loss: 0.5764 - val_accuracy: 0.8097\n",
            "Epoch 12/50\n",
            "391/391 [==============================] - 7s 19ms/step - loss: 0.3863 - accuracy: 0.8637 - val_loss: 0.5674 - val_accuracy: 0.8130\n",
            "Epoch 13/50\n",
            "391/391 [==============================] - 7s 19ms/step - loss: 0.3634 - accuracy: 0.8722 - val_loss: 0.9440 - val_accuracy: 0.7327\n",
            "Epoch 14/50\n",
            "391/391 [==============================] - 7s 19ms/step - loss: 0.3489 - accuracy: 0.8769 - val_loss: 0.7060 - val_accuracy: 0.7794\n",
            "Epoch 15/50\n",
            "391/391 [==============================] - 7s 19ms/step - loss: 0.3248 - accuracy: 0.8841 - val_loss: 0.7084 - val_accuracy: 0.7843\n",
            "Epoch 16/50\n",
            "391/391 [==============================] - 7s 18ms/step - loss: 0.3085 - accuracy: 0.8914 - val_loss: 0.8651 - val_accuracy: 0.7486\n",
            "Epoch 17/50\n",
            "391/391 [==============================] - 7s 19ms/step - loss: 0.2937 - accuracy: 0.8959 - val_loss: 0.7516 - val_accuracy: 0.7894\n"
          ]
        }
      ]
    },
    {
      "cell_type": "code",
      "source": [
        "df_v6 = pd.DataFrame(history_v6.history)\n",
        "df_v6.tail()"
      ],
      "metadata": {
        "colab": {
          "base_uri": "https://localhost:8080/",
          "height": 206
        },
        "id": "GVYudu6FbpH_",
        "outputId": "d3282329-f75e-4f61-8327-1498465b9724"
      },
      "execution_count": 18,
      "outputs": [
        {
          "output_type": "execute_result",
          "data": {
            "text/plain": [
              "        loss  accuracy  val_loss  val_accuracy\n",
              "12  0.363390   0.87216  0.943983        0.7327\n",
              "13  0.348856   0.87692  0.705979        0.7794\n",
              "14  0.324779   0.88412  0.708354        0.7843\n",
              "15  0.308546   0.89144  0.865091        0.7486\n",
              "16  0.293686   0.89594  0.751606        0.7894"
            ],
            "text/html": [
              "\n",
              "  <div id=\"df-b7a28812-8150-482f-a8ef-fdae0f27cd48\" class=\"colab-df-container\">\n",
              "    <div>\n",
              "<style scoped>\n",
              "    .dataframe tbody tr th:only-of-type {\n",
              "        vertical-align: middle;\n",
              "    }\n",
              "\n",
              "    .dataframe tbody tr th {\n",
              "        vertical-align: top;\n",
              "    }\n",
              "\n",
              "    .dataframe thead th {\n",
              "        text-align: right;\n",
              "    }\n",
              "</style>\n",
              "<table border=\"1\" class=\"dataframe\">\n",
              "  <thead>\n",
              "    <tr style=\"text-align: right;\">\n",
              "      <th></th>\n",
              "      <th>loss</th>\n",
              "      <th>accuracy</th>\n",
              "      <th>val_loss</th>\n",
              "      <th>val_accuracy</th>\n",
              "    </tr>\n",
              "  </thead>\n",
              "  <tbody>\n",
              "    <tr>\n",
              "      <th>12</th>\n",
              "      <td>0.363390</td>\n",
              "      <td>0.87216</td>\n",
              "      <td>0.943983</td>\n",
              "      <td>0.7327</td>\n",
              "    </tr>\n",
              "    <tr>\n",
              "      <th>13</th>\n",
              "      <td>0.348856</td>\n",
              "      <td>0.87692</td>\n",
              "      <td>0.705979</td>\n",
              "      <td>0.7794</td>\n",
              "    </tr>\n",
              "    <tr>\n",
              "      <th>14</th>\n",
              "      <td>0.324779</td>\n",
              "      <td>0.88412</td>\n",
              "      <td>0.708354</td>\n",
              "      <td>0.7843</td>\n",
              "    </tr>\n",
              "    <tr>\n",
              "      <th>15</th>\n",
              "      <td>0.308546</td>\n",
              "      <td>0.89144</td>\n",
              "      <td>0.865091</td>\n",
              "      <td>0.7486</td>\n",
              "    </tr>\n",
              "    <tr>\n",
              "      <th>16</th>\n",
              "      <td>0.293686</td>\n",
              "      <td>0.89594</td>\n",
              "      <td>0.751606</td>\n",
              "      <td>0.7894</td>\n",
              "    </tr>\n",
              "  </tbody>\n",
              "</table>\n",
              "</div>\n",
              "    <div class=\"colab-df-buttons\">\n",
              "\n",
              "  <div class=\"colab-df-container\">\n",
              "    <button class=\"colab-df-convert\" onclick=\"convertToInteractive('df-b7a28812-8150-482f-a8ef-fdae0f27cd48')\"\n",
              "            title=\"Convert this dataframe to an interactive table.\"\n",
              "            style=\"display:none;\">\n",
              "\n",
              "  <svg xmlns=\"http://www.w3.org/2000/svg\" height=\"24px\" viewBox=\"0 -960 960 960\">\n",
              "    <path d=\"M120-120v-720h720v720H120Zm60-500h600v-160H180v160Zm220 220h160v-160H400v160Zm0 220h160v-160H400v160ZM180-400h160v-160H180v160Zm440 0h160v-160H620v160ZM180-180h160v-160H180v160Zm440 0h160v-160H620v160Z\"/>\n",
              "  </svg>\n",
              "    </button>\n",
              "\n",
              "  <style>\n",
              "    .colab-df-container {\n",
              "      display:flex;\n",
              "      gap: 12px;\n",
              "    }\n",
              "\n",
              "    .colab-df-convert {\n",
              "      background-color: #E8F0FE;\n",
              "      border: none;\n",
              "      border-radius: 50%;\n",
              "      cursor: pointer;\n",
              "      display: none;\n",
              "      fill: #1967D2;\n",
              "      height: 32px;\n",
              "      padding: 0 0 0 0;\n",
              "      width: 32px;\n",
              "    }\n",
              "\n",
              "    .colab-df-convert:hover {\n",
              "      background-color: #E2EBFA;\n",
              "      box-shadow: 0px 1px 2px rgba(60, 64, 67, 0.3), 0px 1px 3px 1px rgba(60, 64, 67, 0.15);\n",
              "      fill: #174EA6;\n",
              "    }\n",
              "\n",
              "    .colab-df-buttons div {\n",
              "      margin-bottom: 4px;\n",
              "    }\n",
              "\n",
              "    [theme=dark] .colab-df-convert {\n",
              "      background-color: #3B4455;\n",
              "      fill: #D2E3FC;\n",
              "    }\n",
              "\n",
              "    [theme=dark] .colab-df-convert:hover {\n",
              "      background-color: #434B5C;\n",
              "      box-shadow: 0px 1px 3px 1px rgba(0, 0, 0, 0.15);\n",
              "      filter: drop-shadow(0px 1px 2px rgba(0, 0, 0, 0.3));\n",
              "      fill: #FFFFFF;\n",
              "    }\n",
              "  </style>\n",
              "\n",
              "    <script>\n",
              "      const buttonEl =\n",
              "        document.querySelector('#df-b7a28812-8150-482f-a8ef-fdae0f27cd48 button.colab-df-convert');\n",
              "      buttonEl.style.display =\n",
              "        google.colab.kernel.accessAllowed ? 'block' : 'none';\n",
              "\n",
              "      async function convertToInteractive(key) {\n",
              "        const element = document.querySelector('#df-b7a28812-8150-482f-a8ef-fdae0f27cd48');\n",
              "        const dataTable =\n",
              "          await google.colab.kernel.invokeFunction('convertToInteractive',\n",
              "                                                    [key], {});\n",
              "        if (!dataTable) return;\n",
              "\n",
              "        const docLinkHtml = 'Like what you see? Visit the ' +\n",
              "          '<a target=\"_blank\" href=https://colab.research.google.com/notebooks/data_table.ipynb>data table notebook</a>'\n",
              "          + ' to learn more about interactive tables.';\n",
              "        element.innerHTML = '';\n",
              "        dataTable['output_type'] = 'display_data';\n",
              "        await google.colab.output.renderOutput(dataTable, element);\n",
              "        const docLink = document.createElement('div');\n",
              "        docLink.innerHTML = docLinkHtml;\n",
              "        element.appendChild(docLink);\n",
              "      }\n",
              "    </script>\n",
              "  </div>\n",
              "\n",
              "\n",
              "<div id=\"df-1c3227f5-393a-4b26-878f-144739c70c59\">\n",
              "  <button class=\"colab-df-quickchart\" onclick=\"quickchart('df-1c3227f5-393a-4b26-878f-144739c70c59')\"\n",
              "            title=\"Suggest charts\"\n",
              "            style=\"display:none;\">\n",
              "\n",
              "<svg xmlns=\"http://www.w3.org/2000/svg\" height=\"24px\"viewBox=\"0 0 24 24\"\n",
              "     width=\"24px\">\n",
              "    <g>\n",
              "        <path d=\"M19 3H5c-1.1 0-2 .9-2 2v14c0 1.1.9 2 2 2h14c1.1 0 2-.9 2-2V5c0-1.1-.9-2-2-2zM9 17H7v-7h2v7zm4 0h-2V7h2v10zm4 0h-2v-4h2v4z\"/>\n",
              "    </g>\n",
              "</svg>\n",
              "  </button>\n",
              "\n",
              "<style>\n",
              "  .colab-df-quickchart {\n",
              "      --bg-color: #E8F0FE;\n",
              "      --fill-color: #1967D2;\n",
              "      --hover-bg-color: #E2EBFA;\n",
              "      --hover-fill-color: #174EA6;\n",
              "      --disabled-fill-color: #AAA;\n",
              "      --disabled-bg-color: #DDD;\n",
              "  }\n",
              "\n",
              "  [theme=dark] .colab-df-quickchart {\n",
              "      --bg-color: #3B4455;\n",
              "      --fill-color: #D2E3FC;\n",
              "      --hover-bg-color: #434B5C;\n",
              "      --hover-fill-color: #FFFFFF;\n",
              "      --disabled-bg-color: #3B4455;\n",
              "      --disabled-fill-color: #666;\n",
              "  }\n",
              "\n",
              "  .colab-df-quickchart {\n",
              "    background-color: var(--bg-color);\n",
              "    border: none;\n",
              "    border-radius: 50%;\n",
              "    cursor: pointer;\n",
              "    display: none;\n",
              "    fill: var(--fill-color);\n",
              "    height: 32px;\n",
              "    padding: 0;\n",
              "    width: 32px;\n",
              "  }\n",
              "\n",
              "  .colab-df-quickchart:hover {\n",
              "    background-color: var(--hover-bg-color);\n",
              "    box-shadow: 0 1px 2px rgba(60, 64, 67, 0.3), 0 1px 3px 1px rgba(60, 64, 67, 0.15);\n",
              "    fill: var(--button-hover-fill-color);\n",
              "  }\n",
              "\n",
              "  .colab-df-quickchart-complete:disabled,\n",
              "  .colab-df-quickchart-complete:disabled:hover {\n",
              "    background-color: var(--disabled-bg-color);\n",
              "    fill: var(--disabled-fill-color);\n",
              "    box-shadow: none;\n",
              "  }\n",
              "\n",
              "  .colab-df-spinner {\n",
              "    border: 2px solid var(--fill-color);\n",
              "    border-color: transparent;\n",
              "    border-bottom-color: var(--fill-color);\n",
              "    animation:\n",
              "      spin 1s steps(1) infinite;\n",
              "  }\n",
              "\n",
              "  @keyframes spin {\n",
              "    0% {\n",
              "      border-color: transparent;\n",
              "      border-bottom-color: var(--fill-color);\n",
              "      border-left-color: var(--fill-color);\n",
              "    }\n",
              "    20% {\n",
              "      border-color: transparent;\n",
              "      border-left-color: var(--fill-color);\n",
              "      border-top-color: var(--fill-color);\n",
              "    }\n",
              "    30% {\n",
              "      border-color: transparent;\n",
              "      border-left-color: var(--fill-color);\n",
              "      border-top-color: var(--fill-color);\n",
              "      border-right-color: var(--fill-color);\n",
              "    }\n",
              "    40% {\n",
              "      border-color: transparent;\n",
              "      border-right-color: var(--fill-color);\n",
              "      border-top-color: var(--fill-color);\n",
              "    }\n",
              "    60% {\n",
              "      border-color: transparent;\n",
              "      border-right-color: var(--fill-color);\n",
              "    }\n",
              "    80% {\n",
              "      border-color: transparent;\n",
              "      border-right-color: var(--fill-color);\n",
              "      border-bottom-color: var(--fill-color);\n",
              "    }\n",
              "    90% {\n",
              "      border-color: transparent;\n",
              "      border-bottom-color: var(--fill-color);\n",
              "    }\n",
              "  }\n",
              "</style>\n",
              "\n",
              "  <script>\n",
              "    async function quickchart(key) {\n",
              "      const quickchartButtonEl =\n",
              "        document.querySelector('#' + key + ' button');\n",
              "      quickchartButtonEl.disabled = true;  // To prevent multiple clicks.\n",
              "      quickchartButtonEl.classList.add('colab-df-spinner');\n",
              "      try {\n",
              "        const charts = await google.colab.kernel.invokeFunction(\n",
              "            'suggestCharts', [key], {});\n",
              "      } catch (error) {\n",
              "        console.error('Error during call to suggestCharts:', error);\n",
              "      }\n",
              "      quickchartButtonEl.classList.remove('colab-df-spinner');\n",
              "      quickchartButtonEl.classList.add('colab-df-quickchart-complete');\n",
              "    }\n",
              "    (() => {\n",
              "      let quickchartButtonEl =\n",
              "        document.querySelector('#df-1c3227f5-393a-4b26-878f-144739c70c59 button');\n",
              "      quickchartButtonEl.style.display =\n",
              "        google.colab.kernel.accessAllowed ? 'block' : 'none';\n",
              "    })();\n",
              "  </script>\n",
              "</div>\n",
              "\n",
              "    </div>\n",
              "  </div>\n"
            ]
          },
          "metadata": {},
          "execution_count": 18
        }
      ]
    },
    {
      "cell_type": "code",
      "source": [
        "df_v6[[\"accuracy\",\"val_accuracy\"]].plot();"
      ],
      "metadata": {
        "colab": {
          "base_uri": "https://localhost:8080/",
          "height": 430
        },
        "id": "V8b13hwMbrW0",
        "outputId": "e9e087c9-cd4b-449f-dbaa-30ca536713a9"
      },
      "execution_count": 19,
      "outputs": [
        {
          "output_type": "display_data",
          "data": {
            "text/plain": [
              "<Figure size 640x480 with 1 Axes>"
            ],
            "image/png": "[encoded data removed]"
          },
          "metadata": {}
        }
      ]
    },
    {
      "cell_type": "code",
      "source": [
        "df_v6[[\"loss\",\"val_loss\"]].plot();"
      ],
      "metadata": {
        "colab": {
          "base_uri": "https://localhost:8080/",
          "height": 430
        },
        "id": "t7FhAczmcm2Z",
        "outputId": "023db814-01f3-4dc3-909a-386d751d0319"
      },
      "execution_count": 20,
      "outputs": [
        {
          "output_type": "display_data",
          "data": {
            "text/plain": [
              "<Figure size 640x480 with 1 Axes>"
            ],
            "image/png": "[encoded data removed]"
          },
          "metadata": {}
        }
      ]
    },
    {
      "cell_type": "markdown",
      "source": [
        "As you can see, the model stops training after 17 epochs as the validation accuracy do not change much (can be controlled by the 'min_delta' parameter inside Early_stopping callback).\n",
        "\n",
        "This approach reduces overfitting as can be compared with the previous model's (v5) output."
      ],
      "metadata": {
        "id": "PAmHcxbnczeR"
      }
    },
    {
      "cell_type": "markdown",
      "source": [
        "Check out other callbacks and try them by yourself -\n",
        "\n",
        "\n",
        "*   TensorBoard\n",
        "*   ReduceLRonPlateau\n",
        "* ModelCheckpoint\n",
        "\n"
      ],
      "metadata": {
        "id": "47JuNfI4cHJU"
      }
    }
  ]
}